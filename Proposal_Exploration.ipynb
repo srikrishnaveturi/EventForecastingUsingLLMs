{
 "cells": [
  {
   "cell_type": "code",
   "execution_count": 1,
   "id": "440fa84a",
   "metadata": {},
   "outputs": [],
   "source": [
    "import pandas as pd "
   ]
  },
  {
   "cell_type": "code",
   "execution_count": 2,
   "id": "8cc28d58",
   "metadata": {},
   "outputs": [
    {
     "data": {
      "text/html": [
       "<div>\n",
       "<style scoped>\n",
       "    .dataframe tbody tr th:only-of-type {\n",
       "        vertical-align: middle;\n",
       "    }\n",
       "\n",
       "    .dataframe tbody tr th {\n",
       "        vertical-align: top;\n",
       "    }\n",
       "\n",
       "    .dataframe thead th {\n",
       "        text-align: right;\n",
       "    }\n",
       "</style>\n",
       "<table border=\"1\" class=\"dataframe\">\n",
       "  <thead>\n",
       "    <tr style=\"text-align: right;\">\n",
       "      <th></th>\n",
       "      <th>discover question id</th>\n",
       "      <th>question name</th>\n",
       "      <th>creator id</th>\n",
       "      <th>question starts at</th>\n",
       "      <th>question ends at</th>\n",
       "      <th>question description</th>\n",
       "      <th>question status</th>\n",
       "      <th>question published at</th>\n",
       "      <th>question resolved at</th>\n",
       "      <th>question correctness known at</th>\n",
       "      <th>...</th>\n",
       "      <th>Country - Secondary</th>\n",
       "      <th>Topic</th>\n",
       "      <th>Region</th>\n",
       "      <th>Non-state violence (Terrorism)</th>\n",
       "      <th>Domain</th>\n",
       "      <th>Created By</th>\n",
       "      <th>Deaths</th>\n",
       "      <th>RCT</th>\n",
       "      <th>Controversial</th>\n",
       "      <th>Departure from Status Quo Resolution (Binary Only)</th>\n",
       "    </tr>\n",
       "  </thead>\n",
       "  <tbody>\n",
       "    <tr>\n",
       "      <th>0</th>\n",
       "      <td>416</td>\n",
       "      <td>Will there be more than 500 cumulative Ebola c...</td>\n",
       "      <td>7551</td>\n",
       "      <td>2018-12-05T17:30:00Z</td>\n",
       "      <td>2018-12-11T19:01:00Z</td>\n",
       "      <td>An outbreak of Ebola was declared by the Minis...</td>\n",
       "      <td>resolved</td>\n",
       "      <td>2018-12-05T17:30:24Z</td>\n",
       "      <td>2018-12-14T14:32:20Z</td>\n",
       "      <td>2018-12-13T17:06:21Z</td>\n",
       "      <td>...</td>\n",
       "      <td>N/A - Not Country-specific</td>\n",
       "      <td>Idiosyncratic</td>\n",
       "      <td>Africa</td>\n",
       "      <td>No</td>\n",
       "      <td>Health/Disease</td>\n",
       "      <td>MITRE</td>\n",
       "      <td>No</td>\n",
       "      <td>Pre-season RCT-B</td>\n",
       "      <td>No</td>\n",
       "      <td>Yes</td>\n",
       "    </tr>\n",
       "    <tr>\n",
       "      <th>1</th>\n",
       "      <td>417</td>\n",
       "      <td>What will be the daily closing spot price of B...</td>\n",
       "      <td>7551</td>\n",
       "      <td>2018-12-05T17:30:00Z</td>\n",
       "      <td>2018-12-25T19:01:00Z</td>\n",
       "      <td>This question will be resolved using the daily...</td>\n",
       "      <td>resolved</td>\n",
       "      <td>2018-12-05T17:30:24Z</td>\n",
       "      <td>2019-01-02T13:38:15Z</td>\n",
       "      <td>2018-12-31T15:48:59Z</td>\n",
       "      <td>...</td>\n",
       "      <td>N/A - Not Country-specific</td>\n",
       "      <td>Oil prices</td>\n",
       "      <td>Global</td>\n",
       "      <td>No</td>\n",
       "      <td>Macroeconomics/Finance</td>\n",
       "      <td>MITRE</td>\n",
       "      <td>No</td>\n",
       "      <td>Pre-season RCT-B</td>\n",
       "      <td>No</td>\n",
       "      <td>No</td>\n",
       "    </tr>\n",
       "    <tr>\n",
       "      <th>2</th>\n",
       "      <td>417</td>\n",
       "      <td>What will be the daily closing spot price of B...</td>\n",
       "      <td>7551</td>\n",
       "      <td>2018-12-05T17:30:00Z</td>\n",
       "      <td>2018-12-25T19:01:00Z</td>\n",
       "      <td>This question will be resolved using the daily...</td>\n",
       "      <td>resolved</td>\n",
       "      <td>2018-12-05T17:30:24Z</td>\n",
       "      <td>2019-01-02T13:38:15Z</td>\n",
       "      <td>2018-12-31T15:48:59Z</td>\n",
       "      <td>...</td>\n",
       "      <td>N/A - Not Country-specific</td>\n",
       "      <td>Oil prices</td>\n",
       "      <td>Global</td>\n",
       "      <td>No</td>\n",
       "      <td>Macroeconomics/Finance</td>\n",
       "      <td>MITRE</td>\n",
       "      <td>No</td>\n",
       "      <td>Pre-season RCT-B</td>\n",
       "      <td>No</td>\n",
       "      <td>No</td>\n",
       "    </tr>\n",
       "    <tr>\n",
       "      <th>3</th>\n",
       "      <td>417</td>\n",
       "      <td>What will be the daily closing spot price of B...</td>\n",
       "      <td>7551</td>\n",
       "      <td>2018-12-05T17:30:00Z</td>\n",
       "      <td>2018-12-25T19:01:00Z</td>\n",
       "      <td>This question will be resolved using the daily...</td>\n",
       "      <td>resolved</td>\n",
       "      <td>2018-12-05T17:30:24Z</td>\n",
       "      <td>2019-01-02T13:38:15Z</td>\n",
       "      <td>2018-12-31T15:48:59Z</td>\n",
       "      <td>...</td>\n",
       "      <td>N/A - Not Country-specific</td>\n",
       "      <td>Oil prices</td>\n",
       "      <td>Global</td>\n",
       "      <td>No</td>\n",
       "      <td>Macroeconomics/Finance</td>\n",
       "      <td>MITRE</td>\n",
       "      <td>No</td>\n",
       "      <td>Pre-season RCT-B</td>\n",
       "      <td>No</td>\n",
       "      <td>No</td>\n",
       "    </tr>\n",
       "    <tr>\n",
       "      <th>4</th>\n",
       "      <td>417</td>\n",
       "      <td>What will be the daily closing spot price of B...</td>\n",
       "      <td>7551</td>\n",
       "      <td>2018-12-05T17:30:00Z</td>\n",
       "      <td>2018-12-25T19:01:00Z</td>\n",
       "      <td>This question will be resolved using the daily...</td>\n",
       "      <td>resolved</td>\n",
       "      <td>2018-12-05T17:30:24Z</td>\n",
       "      <td>2019-01-02T13:38:15Z</td>\n",
       "      <td>2018-12-31T15:48:59Z</td>\n",
       "      <td>...</td>\n",
       "      <td>N/A - Not Country-specific</td>\n",
       "      <td>Oil prices</td>\n",
       "      <td>Global</td>\n",
       "      <td>No</td>\n",
       "      <td>Macroeconomics/Finance</td>\n",
       "      <td>MITRE</td>\n",
       "      <td>No</td>\n",
       "      <td>Pre-season RCT-B</td>\n",
       "      <td>No</td>\n",
       "      <td>No</td>\n",
       "    </tr>\n",
       "    <tr>\n",
       "      <th>...</th>\n",
       "      <td>...</td>\n",
       "      <td>...</td>\n",
       "      <td>...</td>\n",
       "      <td>...</td>\n",
       "      <td>...</td>\n",
       "      <td>...</td>\n",
       "      <td>...</td>\n",
       "      <td>...</td>\n",
       "      <td>...</td>\n",
       "      <td>...</td>\n",
       "      <td>...</td>\n",
       "      <td>...</td>\n",
       "      <td>...</td>\n",
       "      <td>...</td>\n",
       "      <td>...</td>\n",
       "      <td>...</td>\n",
       "      <td>...</td>\n",
       "      <td>...</td>\n",
       "      <td>...</td>\n",
       "      <td>...</td>\n",
       "      <td>...</td>\n",
       "    </tr>\n",
       "    <tr>\n",
       "      <th>233</th>\n",
       "      <td>494</td>\n",
       "      <td>What will be the daily closing price of silver...</td>\n",
       "      <td>7551</td>\n",
       "      <td>2019-02-27T17:30:00Z</td>\n",
       "      <td>2019-03-03T19:01:00Z</td>\n",
       "      <td>This question will be resolved using the last ...</td>\n",
       "      <td>resolved</td>\n",
       "      <td>2019-02-27T17:30:12Z</td>\n",
       "      <td>2019-03-06T13:56:16Z</td>\n",
       "      <td>2019-03-05T14:11:07Z</td>\n",
       "      <td>...</td>\n",
       "      <td>N/A - Not Country-specific</td>\n",
       "      <td>Silver price</td>\n",
       "      <td>Global</td>\n",
       "      <td>No</td>\n",
       "      <td>Macroeconomics/Finance</td>\n",
       "      <td>MITRE</td>\n",
       "      <td>No</td>\n",
       "      <td>Pre-season RCT-B</td>\n",
       "      <td>No</td>\n",
       "      <td>No</td>\n",
       "    </tr>\n",
       "    <tr>\n",
       "      <th>234</th>\n",
       "      <td>494</td>\n",
       "      <td>What will be the daily closing price of silver...</td>\n",
       "      <td>7551</td>\n",
       "      <td>2019-02-27T17:30:00Z</td>\n",
       "      <td>2019-03-03T19:01:00Z</td>\n",
       "      <td>This question will be resolved using the last ...</td>\n",
       "      <td>resolved</td>\n",
       "      <td>2019-02-27T17:30:12Z</td>\n",
       "      <td>2019-03-06T13:56:16Z</td>\n",
       "      <td>2019-03-05T14:11:07Z</td>\n",
       "      <td>...</td>\n",
       "      <td>N/A - Not Country-specific</td>\n",
       "      <td>Silver price</td>\n",
       "      <td>Global</td>\n",
       "      <td>No</td>\n",
       "      <td>Macroeconomics/Finance</td>\n",
       "      <td>MITRE</td>\n",
       "      <td>No</td>\n",
       "      <td>Pre-season RCT-B</td>\n",
       "      <td>No</td>\n",
       "      <td>No</td>\n",
       "    </tr>\n",
       "    <tr>\n",
       "      <th>235</th>\n",
       "      <td>494</td>\n",
       "      <td>What will be the daily closing price of silver...</td>\n",
       "      <td>7551</td>\n",
       "      <td>2019-02-27T17:30:00Z</td>\n",
       "      <td>2019-03-03T19:01:00Z</td>\n",
       "      <td>This question will be resolved using the last ...</td>\n",
       "      <td>resolved</td>\n",
       "      <td>2019-02-27T17:30:12Z</td>\n",
       "      <td>2019-03-06T13:56:16Z</td>\n",
       "      <td>2019-03-05T14:11:07Z</td>\n",
       "      <td>...</td>\n",
       "      <td>N/A - Not Country-specific</td>\n",
       "      <td>Silver price</td>\n",
       "      <td>Global</td>\n",
       "      <td>No</td>\n",
       "      <td>Macroeconomics/Finance</td>\n",
       "      <td>MITRE</td>\n",
       "      <td>No</td>\n",
       "      <td>Pre-season RCT-B</td>\n",
       "      <td>No</td>\n",
       "      <td>No</td>\n",
       "    </tr>\n",
       "    <tr>\n",
       "      <th>236</th>\n",
       "      <td>494</td>\n",
       "      <td>What will be the daily closing price of silver...</td>\n",
       "      <td>7551</td>\n",
       "      <td>2019-02-27T17:30:00Z</td>\n",
       "      <td>2019-03-03T19:01:00Z</td>\n",
       "      <td>This question will be resolved using the last ...</td>\n",
       "      <td>resolved</td>\n",
       "      <td>2019-02-27T17:30:12Z</td>\n",
       "      <td>2019-03-06T13:56:16Z</td>\n",
       "      <td>2019-03-05T14:11:07Z</td>\n",
       "      <td>...</td>\n",
       "      <td>N/A - Not Country-specific</td>\n",
       "      <td>Silver price</td>\n",
       "      <td>Global</td>\n",
       "      <td>No</td>\n",
       "      <td>Macroeconomics/Finance</td>\n",
       "      <td>MITRE</td>\n",
       "      <td>No</td>\n",
       "      <td>Pre-season RCT-B</td>\n",
       "      <td>No</td>\n",
       "      <td>No</td>\n",
       "    </tr>\n",
       "    <tr>\n",
       "      <th>237</th>\n",
       "      <td>495</td>\n",
       "      <td>Will there be a new confirmed case of measles ...</td>\n",
       "      <td>7551</td>\n",
       "      <td>2019-03-06T17:30:00Z</td>\n",
       "      <td>2019-03-12T18:01:00Z</td>\n",
       "      <td>A five-year-old child from France was hospital...</td>\n",
       "      <td>resolved</td>\n",
       "      <td>2019-03-06T17:30:44Z</td>\n",
       "      <td>2019-03-13T14:54:59Z</td>\n",
       "      <td>2019-03-13T13:55:21Z</td>\n",
       "      <td>...</td>\n",
       "      <td>N/A - Not Country-specific</td>\n",
       "      <td>Idiosyncratic</td>\n",
       "      <td>Latin America and the Caribbean</td>\n",
       "      <td>No</td>\n",
       "      <td>Health/Disease</td>\n",
       "      <td>MITRE</td>\n",
       "      <td>No</td>\n",
       "      <td>Pre-season RCT-B</td>\n",
       "      <td>No</td>\n",
       "      <td>No</td>\n",
       "    </tr>\n",
       "  </tbody>\n",
       "</table>\n",
       "<p>238 rows × 38 columns</p>\n",
       "</div>"
      ],
      "text/plain": [
       "     discover question id                                      question name  \\\n",
       "0                     416  Will there be more than 500 cumulative Ebola c...   \n",
       "1                     417  What will be the daily closing spot price of B...   \n",
       "2                     417  What will be the daily closing spot price of B...   \n",
       "3                     417  What will be the daily closing spot price of B...   \n",
       "4                     417  What will be the daily closing spot price of B...   \n",
       "..                    ...                                                ...   \n",
       "233                   494  What will be the daily closing price of silver...   \n",
       "234                   494  What will be the daily closing price of silver...   \n",
       "235                   494  What will be the daily closing price of silver...   \n",
       "236                   494  What will be the daily closing price of silver...   \n",
       "237                   495  Will there be a new confirmed case of measles ...   \n",
       "\n",
       "     creator id    question starts at      question ends at  \\\n",
       "0          7551  2018-12-05T17:30:00Z  2018-12-11T19:01:00Z   \n",
       "1          7551  2018-12-05T17:30:00Z  2018-12-25T19:01:00Z   \n",
       "2          7551  2018-12-05T17:30:00Z  2018-12-25T19:01:00Z   \n",
       "3          7551  2018-12-05T17:30:00Z  2018-12-25T19:01:00Z   \n",
       "4          7551  2018-12-05T17:30:00Z  2018-12-25T19:01:00Z   \n",
       "..          ...                   ...                   ...   \n",
       "233        7551  2019-02-27T17:30:00Z  2019-03-03T19:01:00Z   \n",
       "234        7551  2019-02-27T17:30:00Z  2019-03-03T19:01:00Z   \n",
       "235        7551  2019-02-27T17:30:00Z  2019-03-03T19:01:00Z   \n",
       "236        7551  2019-02-27T17:30:00Z  2019-03-03T19:01:00Z   \n",
       "237        7551  2019-03-06T17:30:00Z  2019-03-12T18:01:00Z   \n",
       "\n",
       "                                  question description question status  \\\n",
       "0    An outbreak of Ebola was declared by the Minis...        resolved   \n",
       "1    This question will be resolved using the daily...        resolved   \n",
       "2    This question will be resolved using the daily...        resolved   \n",
       "3    This question will be resolved using the daily...        resolved   \n",
       "4    This question will be resolved using the daily...        resolved   \n",
       "..                                                 ...             ...   \n",
       "233  This question will be resolved using the last ...        resolved   \n",
       "234  This question will be resolved using the last ...        resolved   \n",
       "235  This question will be resolved using the last ...        resolved   \n",
       "236  This question will be resolved using the last ...        resolved   \n",
       "237  A five-year-old child from France was hospital...        resolved   \n",
       "\n",
       "    question published at  question resolved at question correctness known at  \\\n",
       "0    2018-12-05T17:30:24Z  2018-12-14T14:32:20Z          2018-12-13T17:06:21Z   \n",
       "1    2018-12-05T17:30:24Z  2019-01-02T13:38:15Z          2018-12-31T15:48:59Z   \n",
       "2    2018-12-05T17:30:24Z  2019-01-02T13:38:15Z          2018-12-31T15:48:59Z   \n",
       "3    2018-12-05T17:30:24Z  2019-01-02T13:38:15Z          2018-12-31T15:48:59Z   \n",
       "4    2018-12-05T17:30:24Z  2019-01-02T13:38:15Z          2018-12-31T15:48:59Z   \n",
       "..                    ...                   ...                           ...   \n",
       "233  2019-02-27T17:30:12Z  2019-03-06T13:56:16Z          2019-03-05T14:11:07Z   \n",
       "234  2019-02-27T17:30:12Z  2019-03-06T13:56:16Z          2019-03-05T14:11:07Z   \n",
       "235  2019-02-27T17:30:12Z  2019-03-06T13:56:16Z          2019-03-05T14:11:07Z   \n",
       "236  2019-02-27T17:30:12Z  2019-03-06T13:56:16Z          2019-03-05T14:11:07Z   \n",
       "237  2019-03-06T17:30:44Z  2019-03-13T14:54:59Z          2019-03-13T13:55:21Z   \n",
       "\n",
       "     ...         Country - Secondary          Topic  \\\n",
       "0    ...  N/A - Not Country-specific  Idiosyncratic   \n",
       "1    ...  N/A - Not Country-specific     Oil prices   \n",
       "2    ...  N/A - Not Country-specific     Oil prices   \n",
       "3    ...  N/A - Not Country-specific     Oil prices   \n",
       "4    ...  N/A - Not Country-specific     Oil prices   \n",
       "..   ...                         ...            ...   \n",
       "233  ...  N/A - Not Country-specific   Silver price   \n",
       "234  ...  N/A - Not Country-specific   Silver price   \n",
       "235  ...  N/A - Not Country-specific   Silver price   \n",
       "236  ...  N/A - Not Country-specific   Silver price   \n",
       "237  ...  N/A - Not Country-specific  Idiosyncratic   \n",
       "\n",
       "                              Region Non-state violence (Terrorism)  \\\n",
       "0                             Africa                             No   \n",
       "1                             Global                             No   \n",
       "2                             Global                             No   \n",
       "3                             Global                             No   \n",
       "4                             Global                             No   \n",
       "..                               ...                            ...   \n",
       "233                           Global                             No   \n",
       "234                           Global                             No   \n",
       "235                           Global                             No   \n",
       "236                           Global                             No   \n",
       "237  Latin America and the Caribbean                             No   \n",
       "\n",
       "                     Domain Created By  Deaths               RCT  \\\n",
       "0            Health/Disease      MITRE      No  Pre-season RCT-B   \n",
       "1    Macroeconomics/Finance      MITRE      No  Pre-season RCT-B   \n",
       "2    Macroeconomics/Finance      MITRE      No  Pre-season RCT-B   \n",
       "3    Macroeconomics/Finance      MITRE      No  Pre-season RCT-B   \n",
       "4    Macroeconomics/Finance      MITRE      No  Pre-season RCT-B   \n",
       "..                      ...        ...     ...               ...   \n",
       "233  Macroeconomics/Finance      MITRE      No  Pre-season RCT-B   \n",
       "234  Macroeconomics/Finance      MITRE      No  Pre-season RCT-B   \n",
       "235  Macroeconomics/Finance      MITRE      No  Pre-season RCT-B   \n",
       "236  Macroeconomics/Finance      MITRE      No  Pre-season RCT-B   \n",
       "237          Health/Disease      MITRE      No  Pre-season RCT-B   \n",
       "\n",
       "    Controversial  Departure from Status Quo Resolution (Binary Only)  \n",
       "0              No                                                Yes   \n",
       "1              No                                                 No   \n",
       "2              No                                                 No   \n",
       "3              No                                                 No   \n",
       "4              No                                                 No   \n",
       "..            ...                                                ...   \n",
       "233            No                                                 No   \n",
       "234            No                                                 No   \n",
       "235            No                                                 No   \n",
       "236            No                                                 No   \n",
       "237            No                                                 No   \n",
       "\n",
       "[238 rows x 38 columns]"
      ]
     },
     "execution_count": 2,
     "metadata": {},
     "output_type": "execute_result"
    }
   ],
   "source": [
    "pre = pd.read_csv('preseason-questions-answers.csv')\n",
    "rcta = pd.read_csv('rct-a-questions-answers.csv')\n",
    "rctb = pd.read_csv('rct-b-questions-answers.csv')\n",
    "pre"
   ]
  },
  {
   "cell_type": "code",
   "execution_count": 3,
   "id": "db9bd719",
   "metadata": {},
   "outputs": [],
   "source": [
    "data = pd.concat([pre, rcta, rctb])\n",
    "data = data.reset_index()"
   ]
  },
  {
   "cell_type": "code",
   "execution_count": 4,
   "id": "fcba408a",
   "metadata": {},
   "outputs": [
    {
     "data": {
      "text/html": [
       "<div>\n",
       "<style scoped>\n",
       "    .dataframe tbody tr th:only-of-type {\n",
       "        vertical-align: middle;\n",
       "    }\n",
       "\n",
       "    .dataframe tbody tr th {\n",
       "        vertical-align: top;\n",
       "    }\n",
       "\n",
       "    .dataframe thead th {\n",
       "        text-align: right;\n",
       "    }\n",
       "</style>\n",
       "<table border=\"1\" class=\"dataframe\">\n",
       "  <thead>\n",
       "    <tr style=\"text-align: right;\">\n",
       "      <th></th>\n",
       "      <th>index</th>\n",
       "      <th>discover question id</th>\n",
       "      <th>question name</th>\n",
       "      <th>creator id</th>\n",
       "      <th>question starts at</th>\n",
       "      <th>question ends at</th>\n",
       "      <th>question description</th>\n",
       "      <th>question status</th>\n",
       "      <th>question published at</th>\n",
       "      <th>question resolved at</th>\n",
       "      <th>...</th>\n",
       "      <th>Country - Secondary</th>\n",
       "      <th>Topic</th>\n",
       "      <th>Region</th>\n",
       "      <th>Non-state violence (Terrorism)</th>\n",
       "      <th>Domain</th>\n",
       "      <th>Created By</th>\n",
       "      <th>Deaths</th>\n",
       "      <th>RCT</th>\n",
       "      <th>Controversial</th>\n",
       "      <th>Departure from Status Quo Resolution (Binary Only)</th>\n",
       "    </tr>\n",
       "  </thead>\n",
       "  <tbody>\n",
       "    <tr>\n",
       "      <th>0</th>\n",
       "      <td>0</td>\n",
       "      <td>416</td>\n",
       "      <td>Will there be more than 500 cumulative Ebola c...</td>\n",
       "      <td>7551</td>\n",
       "      <td>2018-12-05T17:30:00Z</td>\n",
       "      <td>2018-12-11T19:01:00Z</td>\n",
       "      <td>An outbreak of Ebola was declared by the Minis...</td>\n",
       "      <td>resolved</td>\n",
       "      <td>2018-12-05T17:30:24Z</td>\n",
       "      <td>2018-12-14T14:32:20Z</td>\n",
       "      <td>...</td>\n",
       "      <td>N/A - Not Country-specific</td>\n",
       "      <td>Idiosyncratic</td>\n",
       "      <td>Africa</td>\n",
       "      <td>No</td>\n",
       "      <td>Health/Disease</td>\n",
       "      <td>MITRE</td>\n",
       "      <td>No</td>\n",
       "      <td>Pre-season RCT-B</td>\n",
       "      <td>No</td>\n",
       "      <td>Yes</td>\n",
       "    </tr>\n",
       "    <tr>\n",
       "      <th>1</th>\n",
       "      <td>1</td>\n",
       "      <td>417</td>\n",
       "      <td>What will be the daily closing spot price of B...</td>\n",
       "      <td>7551</td>\n",
       "      <td>2018-12-05T17:30:00Z</td>\n",
       "      <td>2018-12-25T19:01:00Z</td>\n",
       "      <td>This question will be resolved using the daily...</td>\n",
       "      <td>resolved</td>\n",
       "      <td>2018-12-05T17:30:24Z</td>\n",
       "      <td>2019-01-02T13:38:15Z</td>\n",
       "      <td>...</td>\n",
       "      <td>N/A - Not Country-specific</td>\n",
       "      <td>Oil prices</td>\n",
       "      <td>Global</td>\n",
       "      <td>No</td>\n",
       "      <td>Macroeconomics/Finance</td>\n",
       "      <td>MITRE</td>\n",
       "      <td>No</td>\n",
       "      <td>Pre-season RCT-B</td>\n",
       "      <td>No</td>\n",
       "      <td>No</td>\n",
       "    </tr>\n",
       "    <tr>\n",
       "      <th>2</th>\n",
       "      <td>2</td>\n",
       "      <td>417</td>\n",
       "      <td>What will be the daily closing spot price of B...</td>\n",
       "      <td>7551</td>\n",
       "      <td>2018-12-05T17:30:00Z</td>\n",
       "      <td>2018-12-25T19:01:00Z</td>\n",
       "      <td>This question will be resolved using the daily...</td>\n",
       "      <td>resolved</td>\n",
       "      <td>2018-12-05T17:30:24Z</td>\n",
       "      <td>2019-01-02T13:38:15Z</td>\n",
       "      <td>...</td>\n",
       "      <td>N/A - Not Country-specific</td>\n",
       "      <td>Oil prices</td>\n",
       "      <td>Global</td>\n",
       "      <td>No</td>\n",
       "      <td>Macroeconomics/Finance</td>\n",
       "      <td>MITRE</td>\n",
       "      <td>No</td>\n",
       "      <td>Pre-season RCT-B</td>\n",
       "      <td>No</td>\n",
       "      <td>No</td>\n",
       "    </tr>\n",
       "    <tr>\n",
       "      <th>3</th>\n",
       "      <td>3</td>\n",
       "      <td>417</td>\n",
       "      <td>What will be the daily closing spot price of B...</td>\n",
       "      <td>7551</td>\n",
       "      <td>2018-12-05T17:30:00Z</td>\n",
       "      <td>2018-12-25T19:01:00Z</td>\n",
       "      <td>This question will be resolved using the daily...</td>\n",
       "      <td>resolved</td>\n",
       "      <td>2018-12-05T17:30:24Z</td>\n",
       "      <td>2019-01-02T13:38:15Z</td>\n",
       "      <td>...</td>\n",
       "      <td>N/A - Not Country-specific</td>\n",
       "      <td>Oil prices</td>\n",
       "      <td>Global</td>\n",
       "      <td>No</td>\n",
       "      <td>Macroeconomics/Finance</td>\n",
       "      <td>MITRE</td>\n",
       "      <td>No</td>\n",
       "      <td>Pre-season RCT-B</td>\n",
       "      <td>No</td>\n",
       "      <td>No</td>\n",
       "    </tr>\n",
       "    <tr>\n",
       "      <th>4</th>\n",
       "      <td>4</td>\n",
       "      <td>417</td>\n",
       "      <td>What will be the daily closing spot price of B...</td>\n",
       "      <td>7551</td>\n",
       "      <td>2018-12-05T17:30:00Z</td>\n",
       "      <td>2018-12-25T19:01:00Z</td>\n",
       "      <td>This question will be resolved using the daily...</td>\n",
       "      <td>resolved</td>\n",
       "      <td>2018-12-05T17:30:24Z</td>\n",
       "      <td>2019-01-02T13:38:15Z</td>\n",
       "      <td>...</td>\n",
       "      <td>N/A - Not Country-specific</td>\n",
       "      <td>Oil prices</td>\n",
       "      <td>Global</td>\n",
       "      <td>No</td>\n",
       "      <td>Macroeconomics/Finance</td>\n",
       "      <td>MITRE</td>\n",
       "      <td>No</td>\n",
       "      <td>Pre-season RCT-B</td>\n",
       "      <td>No</td>\n",
       "      <td>No</td>\n",
       "    </tr>\n",
       "    <tr>\n",
       "      <th>...</th>\n",
       "      <td>...</td>\n",
       "      <td>...</td>\n",
       "      <td>...</td>\n",
       "      <td>...</td>\n",
       "      <td>...</td>\n",
       "      <td>...</td>\n",
       "      <td>...</td>\n",
       "      <td>...</td>\n",
       "      <td>...</td>\n",
       "      <td>...</td>\n",
       "      <td>...</td>\n",
       "      <td>...</td>\n",
       "      <td>...</td>\n",
       "      <td>...</td>\n",
       "      <td>...</td>\n",
       "      <td>...</td>\n",
       "      <td>...</td>\n",
       "      <td>...</td>\n",
       "      <td>...</td>\n",
       "      <td>...</td>\n",
       "      <td>...</td>\n",
       "    </tr>\n",
       "    <tr>\n",
       "      <th>2293</th>\n",
       "      <td>1100</td>\n",
       "      <td>916</td>\n",
       "      <td>What will be the daily closing price of Finlan...</td>\n",
       "      <td>7551</td>\n",
       "      <td>2019-11-13T17:30:00Z</td>\n",
       "      <td>2019-11-28T19:01:00Z</td>\n",
       "      <td>This question will be resolved using the daily...</td>\n",
       "      <td>resolved</td>\n",
       "      <td>2019-11-13T17:31:28Z</td>\n",
       "      <td>2019-12-05T18:28:22Z</td>\n",
       "      <td>...</td>\n",
       "      <td>N/A - Not Country-specific</td>\n",
       "      <td>National stock market index price</td>\n",
       "      <td>Europe</td>\n",
       "      <td>No</td>\n",
       "      <td>Macroeconomics/Finance</td>\n",
       "      <td>MITRE</td>\n",
       "      <td>No</td>\n",
       "      <td>RCT-B</td>\n",
       "      <td>No</td>\n",
       "      <td>No</td>\n",
       "    </tr>\n",
       "    <tr>\n",
       "      <th>2294</th>\n",
       "      <td>1101</td>\n",
       "      <td>916</td>\n",
       "      <td>What will be the daily closing price of Finlan...</td>\n",
       "      <td>7551</td>\n",
       "      <td>2019-11-13T17:30:00Z</td>\n",
       "      <td>2019-11-28T19:01:00Z</td>\n",
       "      <td>This question will be resolved using the daily...</td>\n",
       "      <td>resolved</td>\n",
       "      <td>2019-11-13T17:31:28Z</td>\n",
       "      <td>2019-12-05T18:28:22Z</td>\n",
       "      <td>...</td>\n",
       "      <td>N/A - Not Country-specific</td>\n",
       "      <td>National stock market index price</td>\n",
       "      <td>Europe</td>\n",
       "      <td>No</td>\n",
       "      <td>Macroeconomics/Finance</td>\n",
       "      <td>MITRE</td>\n",
       "      <td>No</td>\n",
       "      <td>RCT-B</td>\n",
       "      <td>No</td>\n",
       "      <td>No</td>\n",
       "    </tr>\n",
       "    <tr>\n",
       "      <th>2295</th>\n",
       "      <td>1102</td>\n",
       "      <td>916</td>\n",
       "      <td>What will be the daily closing price of Finlan...</td>\n",
       "      <td>7551</td>\n",
       "      <td>2019-11-13T17:30:00Z</td>\n",
       "      <td>2019-11-28T19:01:00Z</td>\n",
       "      <td>This question will be resolved using the daily...</td>\n",
       "      <td>resolved</td>\n",
       "      <td>2019-11-13T17:31:28Z</td>\n",
       "      <td>2019-12-05T18:28:22Z</td>\n",
       "      <td>...</td>\n",
       "      <td>N/A - Not Country-specific</td>\n",
       "      <td>National stock market index price</td>\n",
       "      <td>Europe</td>\n",
       "      <td>No</td>\n",
       "      <td>Macroeconomics/Finance</td>\n",
       "      <td>MITRE</td>\n",
       "      <td>No</td>\n",
       "      <td>RCT-B</td>\n",
       "      <td>No</td>\n",
       "      <td>No</td>\n",
       "    </tr>\n",
       "    <tr>\n",
       "      <th>2296</th>\n",
       "      <td>1103</td>\n",
       "      <td>916</td>\n",
       "      <td>What will be the daily closing price of Finlan...</td>\n",
       "      <td>7551</td>\n",
       "      <td>2019-11-13T17:30:00Z</td>\n",
       "      <td>2019-11-28T19:01:00Z</td>\n",
       "      <td>This question will be resolved using the daily...</td>\n",
       "      <td>resolved</td>\n",
       "      <td>2019-11-13T17:31:28Z</td>\n",
       "      <td>2019-12-05T18:28:22Z</td>\n",
       "      <td>...</td>\n",
       "      <td>N/A - Not Country-specific</td>\n",
       "      <td>National stock market index price</td>\n",
       "      <td>Europe</td>\n",
       "      <td>No</td>\n",
       "      <td>Macroeconomics/Finance</td>\n",
       "      <td>MITRE</td>\n",
       "      <td>No</td>\n",
       "      <td>RCT-B</td>\n",
       "      <td>No</td>\n",
       "      <td>No</td>\n",
       "    </tr>\n",
       "    <tr>\n",
       "      <th>2297</th>\n",
       "      <td>1104</td>\n",
       "      <td>913</td>\n",
       "      <td>[OBE/BU] Before 30 November 2019, will Ukraine...</td>\n",
       "      <td>1049</td>\n",
       "      <td>2019-12-01T17:30:00Z</td>\n",
       "      <td>2019-12-02T18:01:00Z</td>\n",
       "      <td>Ukrainian President Volodymyr Zelenskiy has pr...</td>\n",
       "      <td>proposed_for_publication</td>\n",
       "      <td>NaN</td>\n",
       "      <td>NaN</td>\n",
       "      <td>...</td>\n",
       "      <td>N/A - Not Country-specific</td>\n",
       "      <td>Idiosyncratic</td>\n",
       "      <td>Europe</td>\n",
       "      <td>No</td>\n",
       "      <td>Politics/International Relations</td>\n",
       "      <td>GJI</td>\n",
       "      <td>No</td>\n",
       "      <td>RCT-B</td>\n",
       "      <td>No</td>\n",
       "      <td>No</td>\n",
       "    </tr>\n",
       "  </tbody>\n",
       "</table>\n",
       "<p>2298 rows × 39 columns</p>\n",
       "</div>"
      ],
      "text/plain": [
       "      index  discover question id  \\\n",
       "0         0                   416   \n",
       "1         1                   417   \n",
       "2         2                   417   \n",
       "3         3                   417   \n",
       "4         4                   417   \n",
       "...     ...                   ...   \n",
       "2293   1100                   916   \n",
       "2294   1101                   916   \n",
       "2295   1102                   916   \n",
       "2296   1103                   916   \n",
       "2297   1104                   913   \n",
       "\n",
       "                                          question name  creator id  \\\n",
       "0     Will there be more than 500 cumulative Ebola c...        7551   \n",
       "1     What will be the daily closing spot price of B...        7551   \n",
       "2     What will be the daily closing spot price of B...        7551   \n",
       "3     What will be the daily closing spot price of B...        7551   \n",
       "4     What will be the daily closing spot price of B...        7551   \n",
       "...                                                 ...         ...   \n",
       "2293  What will be the daily closing price of Finlan...        7551   \n",
       "2294  What will be the daily closing price of Finlan...        7551   \n",
       "2295  What will be the daily closing price of Finlan...        7551   \n",
       "2296  What will be the daily closing price of Finlan...        7551   \n",
       "2297  [OBE/BU] Before 30 November 2019, will Ukraine...        1049   \n",
       "\n",
       "        question starts at      question ends at  \\\n",
       "0     2018-12-05T17:30:00Z  2018-12-11T19:01:00Z   \n",
       "1     2018-12-05T17:30:00Z  2018-12-25T19:01:00Z   \n",
       "2     2018-12-05T17:30:00Z  2018-12-25T19:01:00Z   \n",
       "3     2018-12-05T17:30:00Z  2018-12-25T19:01:00Z   \n",
       "4     2018-12-05T17:30:00Z  2018-12-25T19:01:00Z   \n",
       "...                    ...                   ...   \n",
       "2293  2019-11-13T17:30:00Z  2019-11-28T19:01:00Z   \n",
       "2294  2019-11-13T17:30:00Z  2019-11-28T19:01:00Z   \n",
       "2295  2019-11-13T17:30:00Z  2019-11-28T19:01:00Z   \n",
       "2296  2019-11-13T17:30:00Z  2019-11-28T19:01:00Z   \n",
       "2297  2019-12-01T17:30:00Z  2019-12-02T18:01:00Z   \n",
       "\n",
       "                                   question description  \\\n",
       "0     An outbreak of Ebola was declared by the Minis...   \n",
       "1     This question will be resolved using the daily...   \n",
       "2     This question will be resolved using the daily...   \n",
       "3     This question will be resolved using the daily...   \n",
       "4     This question will be resolved using the daily...   \n",
       "...                                                 ...   \n",
       "2293  This question will be resolved using the daily...   \n",
       "2294  This question will be resolved using the daily...   \n",
       "2295  This question will be resolved using the daily...   \n",
       "2296  This question will be resolved using the daily...   \n",
       "2297  Ukrainian President Volodymyr Zelenskiy has pr...   \n",
       "\n",
       "               question status question published at  question resolved at  \\\n",
       "0                     resolved  2018-12-05T17:30:24Z  2018-12-14T14:32:20Z   \n",
       "1                     resolved  2018-12-05T17:30:24Z  2019-01-02T13:38:15Z   \n",
       "2                     resolved  2018-12-05T17:30:24Z  2019-01-02T13:38:15Z   \n",
       "3                     resolved  2018-12-05T17:30:24Z  2019-01-02T13:38:15Z   \n",
       "4                     resolved  2018-12-05T17:30:24Z  2019-01-02T13:38:15Z   \n",
       "...                        ...                   ...                   ...   \n",
       "2293                  resolved  2019-11-13T17:31:28Z  2019-12-05T18:28:22Z   \n",
       "2294                  resolved  2019-11-13T17:31:28Z  2019-12-05T18:28:22Z   \n",
       "2295                  resolved  2019-11-13T17:31:28Z  2019-12-05T18:28:22Z   \n",
       "2296                  resolved  2019-11-13T17:31:28Z  2019-12-05T18:28:22Z   \n",
       "2297  proposed_for_publication                   NaN                   NaN   \n",
       "\n",
       "      ...         Country - Secondary                              Topic  \\\n",
       "0     ...  N/A - Not Country-specific                      Idiosyncratic   \n",
       "1     ...  N/A - Not Country-specific                         Oil prices   \n",
       "2     ...  N/A - Not Country-specific                         Oil prices   \n",
       "3     ...  N/A - Not Country-specific                         Oil prices   \n",
       "4     ...  N/A - Not Country-specific                         Oil prices   \n",
       "...   ...                         ...                                ...   \n",
       "2293  ...  N/A - Not Country-specific  National stock market index price   \n",
       "2294  ...  N/A - Not Country-specific  National stock market index price   \n",
       "2295  ...  N/A - Not Country-specific  National stock market index price   \n",
       "2296  ...  N/A - Not Country-specific  National stock market index price   \n",
       "2297  ...  N/A - Not Country-specific                      Idiosyncratic   \n",
       "\n",
       "      Region Non-state violence (Terrorism)                            Domain  \\\n",
       "0     Africa                             No                    Health/Disease   \n",
       "1     Global                             No            Macroeconomics/Finance   \n",
       "2     Global                             No            Macroeconomics/Finance   \n",
       "3     Global                             No            Macroeconomics/Finance   \n",
       "4     Global                             No            Macroeconomics/Finance   \n",
       "...      ...                            ...                               ...   \n",
       "2293  Europe                             No            Macroeconomics/Finance   \n",
       "2294  Europe                             No            Macroeconomics/Finance   \n",
       "2295  Europe                             No            Macroeconomics/Finance   \n",
       "2296  Europe                             No            Macroeconomics/Finance   \n",
       "2297  Europe                             No  Politics/International Relations   \n",
       "\n",
       "      Created By Deaths               RCT  Controversial  \\\n",
       "0          MITRE     No  Pre-season RCT-B             No   \n",
       "1          MITRE     No  Pre-season RCT-B             No   \n",
       "2          MITRE     No  Pre-season RCT-B             No   \n",
       "3          MITRE     No  Pre-season RCT-B             No   \n",
       "4          MITRE     No  Pre-season RCT-B             No   \n",
       "...          ...    ...               ...            ...   \n",
       "2293       MITRE     No             RCT-B             No   \n",
       "2294       MITRE     No             RCT-B             No   \n",
       "2295       MITRE     No             RCT-B             No   \n",
       "2296       MITRE     No             RCT-B             No   \n",
       "2297         GJI     No             RCT-B             No   \n",
       "\n",
       "     Departure from Status Quo Resolution (Binary Only)  \n",
       "0                                                   Yes  \n",
       "1                                                    No  \n",
       "2                                                    No  \n",
       "3                                                    No  \n",
       "4                                                    No  \n",
       "...                                                 ...  \n",
       "2293                                                 No  \n",
       "2294                                                 No  \n",
       "2295                                                 No  \n",
       "2296                                                 No  \n",
       "2297                                                 No  \n",
       "\n",
       "[2298 rows x 39 columns]"
      ]
     },
     "execution_count": 4,
     "metadata": {},
     "output_type": "execute_result"
    }
   ],
   "source": [
    "data"
   ]
  },
  {
   "cell_type": "code",
   "execution_count": 13,
   "id": "2323d2bd",
   "metadata": {},
   "outputs": [
    {
     "data": {
      "text/plain": [
       "Index(['index', 'discover question id', 'question name', 'creator id',\n",
       "       'question starts at', 'question ends at', 'question description',\n",
       "       'question status', 'question published at', 'question resolved at',\n",
       "       'question correctness known at', 'use ordinal scoring',\n",
       "       'question created at', 'question tags', 'question challenges',\n",
       "       'discover answer id', 'answer name', 'answer initial probability',\n",
       "       'answer sort order', 'answer resolved at', 'answer resolved by user id',\n",
       "       'answer resolved probability', 'answer correctness known at',\n",
       "       'answer created at', 'clarification 1', 'clarification 2',\n",
       "       'clarification 3', 'IFP Generation Method', 'Country - Primary',\n",
       "       'Country - Secondary', 'Topic', 'Region',\n",
       "       'Non-state violence (Terrorism)', 'Domain', 'Created By', 'Deaths',\n",
       "       'RCT', 'Controversial',\n",
       "       'Departure from Status Quo Resolution (Binary Only)'],\n",
       "      dtype='object')"
      ]
     },
     "execution_count": 13,
     "metadata": {},
     "output_type": "execute_result"
    }
   ],
   "source": [
    "data.columns"
   ]
  },
  {
   "cell_type": "code",
   "execution_count": 5,
   "id": "97cd5e81",
   "metadata": {},
   "outputs": [
    {
     "data": {
      "text/plain": [
       "839"
      ]
     },
     "execution_count": 5,
     "metadata": {},
     "output_type": "execute_result"
    }
   ],
   "source": [
    "len(data['discover question id'].unique())"
   ]
  },
  {
   "cell_type": "code",
   "execution_count": 6,
   "id": "70eeda55",
   "metadata": {},
   "outputs": [
    {
     "data": {
      "text/plain": [
       "2298"
      ]
     },
     "execution_count": 6,
     "metadata": {},
     "output_type": "execute_result"
    }
   ],
   "source": [
    "len(data['discover answer id'].unique())"
   ]
  },
  {
   "cell_type": "markdown",
   "id": "992e7f46",
   "metadata": {},
   "source": [
    "## Getting all years"
   ]
  },
  {
   "cell_type": "code",
   "execution_count": 28,
   "id": "cdedef11",
   "metadata": {},
   "outputs": [],
   "source": [
    "import numpy as np\n",
    "year = []\n",
    "for i in range(len(data['question resolved at'])):\n",
    "    try:\n",
    "        year.append(data['question resolved at'][i][:4])\n",
    "    except:\n",
    "        year.append(\"None\")\n",
    "data['year'] = year"
   ]
  },
  {
   "cell_type": "code",
   "execution_count": 29,
   "id": "a6608330",
   "metadata": {},
   "outputs": [
    {
     "name": "stdout",
     "output_type": "stream",
     "text": [
      "0       2018\n",
      "1       2019\n",
      "2       2019\n",
      "3       2019\n",
      "4       2019\n",
      "        ... \n",
      "2293    2019\n",
      "2294    2019\n",
      "2295    2019\n",
      "2296    2019\n",
      "2297    None\n",
      "Name: year, Length: 2298, dtype: object\n"
     ]
    }
   ],
   "source": [
    "print(data['year'])"
   ]
  },
  {
   "cell_type": "code",
   "execution_count": 30,
   "id": "6f2f0acc",
   "metadata": {},
   "outputs": [
    {
     "data": {
      "image/png": "[encoded data removed]",
      "text/plain": [
       "<Figure size 640x480 with 1 Axes>"
      ]
     },
     "metadata": {},
     "output_type": "display_data"
    }
   ],
   "source": [
    "import matplotlib.pyplot as plt\n",
    "plt.hist(data['year'])\n",
    "plt.show()"
   ]
  },
  {
   "cell_type": "markdown",
   "id": "31d3b488",
   "metadata": {},
   "source": [
    "## Getting all Topics"
   ]
  },
  {
   "cell_type": "code",
   "execution_count": 33,
   "id": "a1157cc1",
   "metadata": {},
   "outputs": [],
   "source": [
    "top = []\n",
    "for i in range(len(data['Topic'])):\n",
    "    try:\n",
    "        top.append(data['Topic'][i])\n",
    "    except:\n",
    "        top.append(\"None\")"
   ]
  },
  {
   "cell_type": "code",
   "execution_count": 49,
   "id": "2f38c23c",
   "metadata": {},
   "outputs": [
    {
     "name": "stdout",
     "output_type": "stream",
     "text": [
      "{nan, 'Missile Tests', 'High Performance Computing', 'Remittances to home country ', 'Sea Ice', 'Public Health Emergency', 'FEWSNET alerts', 'MERS-CoV cases', 'Rare Event – EMP Bomb', 'Measles', 'Refugees - Syrian', 'Rare Event - High Magnitude Earthquake', 'Disease Outbreak WHO (DONS)', 'Global Temperatures', 'UK Threat Level', 'Platinum price', 'Oil prices', 'Nuclear missile launch', 'Crime', 'Interest rate (long-term)', 'PITF atrocities with state perpetrator', 'Myanmar conflict (Myanmar Peace Monitor)', 'Military Attack', 'Gold prices', 'CFR Conflict Tracker', 'WTO Disputes', 'ACLED battle deaths', 'Aid in Danger', 'Regime Change', 'Worker Protests in China', 'Leadership change', 'Embassy / Consulate Attack', 'Foreign exchange rate', 'FEWSNET - staple food price', 'National stock market index price', 'Money Laundering / Terrorist Financing', 'FAO food price index', 'KCNA Watch', 'National Referendums', 'Leadership approval for Putin', 'Power Outage', 'Social media outage', 'EU Tax Haven', 'Cyber attacks', 'Nuclear and radiological incidents', 'Global Competitiveness Index (World Economic Forum)', 'PITF atrocities with non-state perpetrator', 'Flu case counts', 'Water Access and Drought Conditions', 'International Crisis Group Situation Monitoring', 'Terrorist Incidents', 'Civilian deaths in Syria', 'Idiosyncratic', 'UN Security Council resolutions', 'Rare Event - Major Oil Spill', 'African Swine Fever', 'Travel Warnings', 'Air Quality Index', 'Ebola cases', 'Travel Health Notice', 'Hurricanes / Typhoons', 'Rare Event - Nuclear Missile Launch', 'Internet outage', 'Elections', 'Zika cases', 'Silver price', 'ACLED riot/protest events', 'Orbital Launch', 'Drug Seizures', 'Military attack - regional', 'Rare Event - Biological attack', 'ACLED civilian fatalities', 'Consumer price index', 'Oil Production', 'Global Disaster Alert and Coordination System', 'Pirate Attacks', 'Leadership approval in France', 'ICEWS material conflict events', 'Chinese patents', 'Google Trends', 'ICEWS interstate conflict events', 'Boko Haram - Civilian Deaths', 'Leadership approval in Russia', 'Aviation Safety', 'Unemployment rate', 'Earthquakes', 'Leadership approval in Germany', 'ICEWS protest events', 'Volatility Index', 'Human trafficking', 'Cryptocurrency', 'Dengue Fever', 'CFR – Monetary Policy Tracker ', 'Interest rate (short-term)', 'Leadership approval in Japan', 'Rare Event - Financial Market Crash'}\n"
     ]
    }
   ],
   "source": [
    "set_top = set(top)\n",
    "print(set_top)"
   ]
  },
  {
   "cell_type": "code",
   "execution_count": 65,
   "id": "ec08c3d5",
   "metadata": {},
   "outputs": [
    {
     "data": {
      "image/png": "[encoded data removed]",
      "text/plain": [
       "<Figure size 2000x800 with 1 Axes>"
      ]
     },
     "metadata": {},
     "output_type": "display_data"
    }
   ],
   "source": [
    "import matplotlib.pyplot as plt\n",
    "plt.figure(figsize=(20,8))\n",
    "plt.hist(top)\n",
    "plt.tick_params(axis='x', which='major', labelsize=10, rotation=45)\n",
    "plt.show()"
   ]
  },
  {
   "cell_type": "markdown",
   "id": "3652f02c",
   "metadata": {},
   "source": [
    "## Getting all Domains"
   ]
  },
  {
   "cell_type": "code",
   "execution_count": 39,
   "id": "10ff9717",
   "metadata": {},
   "outputs": [
    {
     "data": {
      "image/png": "[encoded data removed]",
      "text/plain": [
       "<Figure size 640x480 with 1 Axes>"
      ]
     },
     "metadata": {},
     "output_type": "display_data"
    }
   ],
   "source": [
    "dom = []\n",
    "for i in range(len(data['Domain'])):\n",
    "    try:\n",
    "        dom.append(data['Domain'][i])\n",
    "    except:\n",
    "        dom.append(\"None\")\n",
    "plt.hist(dom)\n",
    "plt.tick_params(axis='x', rotation=45)\n",
    "plt.show()"
   ]
  },
  {
   "cell_type": "markdown",
   "id": "887e4a64",
   "metadata": {},
   "source": [
    "# Baseline Model"
   ]
  },
  {
   "cell_type": "markdown",
   "id": "5392262b",
   "metadata": {},
   "source": [
    "### Getting all questions and answers with \"Yes\" or \"No\" as the answer"
   ]
  },
  {
   "cell_type": "code",
   "execution_count": 5,
   "id": "7283c112",
   "metadata": {
    "scrolled": false
   },
   "outputs": [
    {
     "name": "stdout",
     "output_type": "stream",
     "text": [
      "98\n",
      "Will there be more than 500 cumulative Ebola cases from the North Kivu Ebola Outbreak before 12 December 2018, according to the Humanitarian Data Exchange? -> Yes\n",
      "Will Peru's referendum to prohibit the immediate re-election of parliamentarians pass? -> Yes\n",
      "Will ACLED record any civilian fatalities in Burkina Faso between 21 December 2018 and 2 January 2019? -> Yes\n",
      "Will ACLED record any civilian fatalities in Nepal between 5 January 2019 and 5 February 2019? -> Yes\n",
      "Will ACLED record any civilian fatalities in Algeria between 11 January and 2 February 2019? -> Yes\n",
      "Will there be a significant increase in worldwide search interest in the term “terrorist attack” reported by Google Trends between 10 January and 6 February 2019? -> Yes\n",
      "Will there be a significant increase in worldwide search interest in the term “hijacking” reported by Google Trends between 31 January 2019 and 28 February 2019? -> Yes\n",
      "Will Kim Jong-un meet the head of government from any G7 nation in-person between 31 January 2019 and 28 February 2019? -> Yes\n",
      "Will ACLED record any riot/protest events in the Cote d'Ivoire (Ivory Coast) during August 2017? -> Yes\n",
      "Will ACLED record any riot/protest events in Senegal during September 2017? -> Yes\n",
      "Will the UN Security Council adopt a resolution concerning the Democratic People’s Republic of Korea between 7 September 2017 and 4 October 2017? -> Yes\n",
      "Before 15 November 2017, will the WTO establish a dispute settlement panel for any of Qatar's complaints against Saudi Arabia, the United Arab Emirates, or Bahrain? -> Yes\n",
      "Will ACLED record any riot/protest events in Mozambique in October 2017?  -> Yes\n",
      "Will ACLED record any riot/protest events in Sierra Leone between 15 October 2017 and 31 October 2017?  -> Yes\n",
      "Between 18 December and 28 December 2017, will any World War II Soviet monuments be taken down in Poland?  -> Yes\n",
      "Will Catalan pro-independence parties hold a majority of seats after the upcoming regional elections? -> Yes\n",
      "Will Barnaby Joyce win the upcoming by-election in New England, Australia? -> Yes\n",
      "Will an individual hack of Bitcoin resulting in the theft of $10,000,000 USD or more occur in December 2017? -> Yes\n",
      "Will ACLED record any riot/protest events in Gabon in April 2018?  -> Yes\n",
      "Will Fidesz and KDNP win 133 or more seats in Hungary's upcoming parliamentary election?   -> Yes\n",
      " Will Cuba's National assembly elect Miguel Diaz-Canel Bermudez as President of Cuba’s Council of States and the Council of Ministers on 19 April 2018?  -> Yes\n",
      " Will Iran execute or be targeted in an acknowledged national military attack before 1 July 2018? -> Yes\n",
      "Before 8 September 2018, will the South Asian Association of Regional Cooperation (SAARC) announce the location for its next summit?\r\n",
      " -> No\n",
      "Before 1 June 2018, will any of the signatories to the Iran nuclear deal announce they are withdrawing?\r\n",
      " -> Yes\n",
      "Before 8 September 2018, will Chinese tariffs on U.S. soybeans take effect? -> Yes\n",
      "Will any G7 nation engage in an acknowledged national military attack against Syria before 1 May 2018? -> Yes\n",
      "Will ACLED record any civilian fatalities in Sri Lanka in July 2018? -> Yes\n",
      "Will Zimbabwe hold a general election between 21 July and 21 August 2018? -> Yes\n",
      "Will Saudi Arabia execute or be targeted in an acknowledged national military attack before 1 August 2018? -> Yes\n",
      "Will Tunisia’s municipal elections be held on 6 May 2018? -> Yes\n",
      "Before 8 September 2018, will a new Italian government receive a vote of confidence from both houses of Parliament? -> Yes\n",
      "Will Ireland's referendum to repeal the Eighth Amendment pass? -> Yes\n",
      "Will Pakistan execute or be targeted in an acknowledged national military attack before 1 August 2018? -> Yes\n",
      "Will Zimbabwe reapply to join the Commonwealth of Nations before 8 September 2018? -> Yes\n",
      "Will ACLED record any riot/protest events in Cameroon in June 2018?  -> Yes\n",
      "Will Ethiopia be under a state of emergency on 20 August 2018? -> No\n",
      "Will the Morena party win the most seats in Mexico’s election for the Senate? -> Yes\n",
      "Will Kim Jong-un meet the head of government from any G7 nation in-person before 15 June 2018? -> Yes\n",
      "Will Israel execute or be targeted in an acknowledged national military attack before 1 July 2018? -> Yes\n",
      "Before 1 September 2018, will the UN Security Council pass a resolution imposing an arms embargo on South Sudan? -> Yes\n",
      "Will ACLED record any civilian fatalities in Burkina Faso in August 2018? -> Yes\n",
      "Will ACLED record any riot/protest events in Egypt in August 2018? -> Yes\n",
      "Will there be a significant day-over-day increase in worldwide search interest in the term \"explosion\" reported by Google Trends between 4 April 2019 and 17 April 2019? -> Yes\n",
      "Before 30 July 2019, will the Russian Duma approve the \"sovereign Internet\" bill (Bill No. 608767-7)? -> Yes\n",
      "Before 30 November 2019, will Brazil's Senate approve the constitutional amendment on pension reform (PEC 6/2019)? -> Yes\n",
      "Will ACLED record more than 15 riots in Iraq between 24 September 2019 and 24 November 2019? -> Yes\n",
      "Will the PITF Worldwide Atrocities Dataset record an event perpetrated by a non-state actor in China (CHN) that starts between 18 April 2019 and 19 November 2019? -> Yes\n",
      "Will there be a new oil spill greater than 700 tonnes between 18 April 2019 and 15 November 2019? -> Yes\n",
      "Before 30 July 2019, will Norway's parliament approve legislation on the Government Pension Fund Global divesting from oil and gas companies? -> Yes\n",
      "According to the Global Disaster Alert and Coordination System (GDACS), will there be any Red alerts for tropical cyclones for India between 25 April 2019 and 27 November 2019? -> Yes\n",
      "Will the UN Security Council (UNSC) issue a press statement concerning violence in Sudan between 25 April 2019 and 29 November 2019? -> Yes\n",
      "Between 2 May 2019 and 29 November 2019, will the Republic of Cyprus protest the presence of a Turkish drillship in Cyprus' southern continental shelf or EEZ? -> Yes\n",
      "Before 30 July 2019, will the government of Yemen and the Houthis agree on a concept of operations for phase 2 of redeployments under the Hodeidah Agreement? -> Yes\n",
      "Before 30 November 2019, will an agreement on the creation of a Middle East Strategic Alliance be signed? -> No\n",
      "Will the UK's Prime Minister Theresa May experience a significant leadership disruption between 9 May 2019 and 15 October 2019? -> Yes\n",
      "Between 16 May 2019 and 30 July 2019, for two consecutive Saturdays, will fewer than 5,000 cumulative daily protesters participate in \"Yellow Vests\" protests across France? -> Yes\n",
      "Between 16 May 2019 and 30 July 2019, will the president of the Democratic Republic of the Congo (DRC) appoint a prime minister? -> Yes\n",
      "Before 30 July 2019, will Saad Dinar be released? -> Yes\n",
      "Before 30 November 2019, will Germany's Bundestag adopt a bill that would impose a fine on parents who refuse a measles vaccine for their children? -> Yes\n",
      "Between 23 May 2019 and 30 July 2019, will the Spanish monarch appoint a President of the Government? -> No\n",
      "Will ACLED record any riots in South Sudan between 1 November 2019 and 30 November 2019? -> Yes\n",
      "Before 30 November 2019, will the European Council decide to open accession negotiations with Albania and/or North Macedonia? -> No\n",
      "Will Iran execute or be targeted in a national military attack between 6 June 2019 and 5 October 2019? -> Yes\n",
      "Will the UN Security Council adopt a resolution concerning Yemen between 9 June 2019 and 8 October 2019? -> Yes\n",
      "Before 30 July 2019, will Kosovo reduce or revoke the customs tariffs imposed in late 2018 on Serbian and Bosnian goods?\r\n",
      " -> No\n",
      "Will the Aviation Safety Network record a hijacking or criminal occurrence between 22 June 2019 and 22 July 2019? -> Yes\n",
      "Will the European Union file a World Trade Organization dispute against any country/territory between 13 June 2019 and 29 November 2019? -> Yes\n",
      "Will ACLED record any civilian fatalities in Angola in September 2019? -> Yes\n",
      "Will the Aviation Safety Network record a hijacking or criminal occurrence between 1 October 2019 and 31 October 2019? -> Yes\n",
      "Will there be a 70% or greater disapproval rate for French President Emmanuel Macron according to any new poll reported by Wikipedia between 11 July 2019 and 28 August 2019? -> Yes\n",
      "Will the PITF Worldwide Atrocities Dataset record an event perpetrated by a state actor in Afghanistan (AFG) that starts between 1 August 2019 and 31 August 2019? -> Yes\n",
      "Between 11 July 2019 and 29 November 2019, will Nigeria remain free of confirmed Wild Poliovirus type 1 (WPV1) cases? -> Yes\n",
      "Will any country/territory file a World Trade Organization dispute against China between 18 July 2019 and 29 November 2019? -> Yes\n",
      "Will the PITF Worldwide Atrocities Dataset record an event perpetrated by a non-state actor in India (IND) that starts between 18 July 2019 and 31 July 2019? -> Yes\n",
      "Between 25 July 2019 and 29 November 2019, will Japan increase its consumption tax? -> Yes\n",
      "Will the Aviation Safety Network record a hijacking or criminal occurrence between 1 November 2019 and 29 November 2019? -> Yes\n",
      "Will any country execute a national military attack within the Nagorno-Karabakh region between 1 August 2019 and 29 November 2019? -> Yes\n",
      "Before 30 November 2019, will the African Union (AU) lift Sudan's suspension?\r\n",
      " -> Yes\n",
      "Before 30 November 2019, will Brazilian President Jair Bolsonaro's son, Eduardo Bolsonaro, be officially nominated to be Brazil's ambassador to the United States? -> No\n",
      "Will any country execute a national military attack within the Sea of Japan between 8 August 2019 and 29 November 2019? -> Yes\n",
      "Will the Government of Canada issue a travel advisory of \"Exercise a high degree of caution,\" \"Avoid non-essential travel,\" or \"Avoid all travel\" for Hong Kong between 8 August 2019 and 12 November 2019? -> Yes\n",
      "Between 8 August 2019 and 31 October 2019, will the European Union agree to renegotiate the Brexit withdrawal agreement? -> Yes\n",
      "Before 30 November 2019, will Myanmar's Pyidaungsu Hluttaw (Assembly of the Union) vote on a constitutional amendment bill which proposes a reduction of the Defense Services personnel representation required in the legislature? -> No\n",
      "Will Pakistan execute a national military attack within Jammu and Kashmir between 15 August 2019 and 29 November 2019? -> Yes\n",
      "Will ACLED record any civilian fatalities in Ghana between 20 October 2019 and 20 November 2019? -> Yes\n",
      "Will Russia execute or be targeted in a national military attack between 15 August 2019 and 29 November 2019? -> Yes\n",
      "Will Iran experience a new internet disruption between 15 August 2019 and 29 November 2019, according to NetBlocks? -> Yes\n",
      "Between 22 August 2019 and 29 November 2019, will the International Criminal Court's (ICC's) Pre-Trial Chamber commit Al-Hassan Ag Abdoul Aziz Ag Mohamed Ag Mahmoud to trial for war crimes and/or crimes against humanity before a Trial Chamber? -> Yes\n",
      "Will the Law and Justice (PiS) party maintain a majority in the Sejm after the next legislative elections in Poland? -> Yes\n",
      "Will there be a significant day-over-day increase in worldwide search interest in the term \"chemical attack\" reported by Google Trends between 1 September 2019 and 30 September 2019? -> Yes\n",
      "Between 29 August 2019 and 29 November 2019, will the UN Security Council vote on a resolution regarding Jammu and Kashmir? -> No\n",
      "Will Klaus Iohannis win re-election in the 2019 Romanian presidential election? -> Yes\n",
      "Will Pakistan execute or be targeted in a national military attack between 12 September 2019 and 12 November 2019 (excludes attacks within Jammu & Kashmir, Ladakh)? -> Yes\n",
      "Between 3 October 2019 and 29 November 2019, will the United Nations set a date for a regional conference on torture in the Arab region? -> No\n",
      "Will the PITF Worldwide Atrocities Dataset record an event perpetrated by a non-state actor in Colombia (COL) that starts between 20 October 2019 and 20 November 2019? -> Yes\n",
      "Will ACLED record any civilian fatalities in Rwanda between 20 October 2019 and 20 November 2019? -> Yes\n",
      "Will ACLED record any civilian fatalities in South Africa between 17 October 2019 and 30 October 2019? -> Yes\n",
      "Will there be a significant day-over-day increase in worldwide search interest in the term \"African swine fever\" reported by Google Trends between 1 November 2019 and 29 November 2019?  Search term should include capitalization as shown and quotation marks. -> Yes\n"
     ]
    }
   ],
   "source": [
    "# cnt is just a counter variable to keep a track of how many question answer pairs we have.\n",
    "cnt = 0\n",
    "questions = []\n",
    "answers = []\n",
    "for i in range(len(data['answer name'])):\n",
    "    if data['answer name'][i].lower() in ['yes', 'no'] and data['answer resolved probability'][i] == 1:\n",
    "        cnt += 1\n",
    "        questions.append(data['question name'][i])\n",
    "        answers.append(data['answer name'][i])\n",
    "\n",
    "print(cnt)\n",
    "for i in range(len(questions)):\n",
    "    print(f'{questions[i]} -> {answers[i]}')"
   ]
  },
  {
   "cell_type": "markdown",
   "id": "71d9eb8a",
   "metadata": {},
   "source": [
    "### Plotting how many \"yes\" and \"no\" we have"
   ]
  },
  {
   "cell_type": "code",
   "execution_count": 14,
   "id": "1efd6f48",
   "metadata": {},
   "outputs": [
    {
     "data": {
      "text/plain": [
       "88"
      ]
     },
     "execution_count": 14,
     "metadata": {},
     "output_type": "execute_result"
    }
   ],
   "source": []
  },
  {
   "cell_type": "code",
   "execution_count": 6,
   "id": "bc8907b0",
   "metadata": {},
   "outputs": [
    {
     "data": {
      "image/png": "[encoded data removed]",
      "text/plain": [
       "<Figure size 640x480 with 1 Axes>"
      ]
     },
     "metadata": {},
     "output_type": "display_data"
    }
   ],
   "source": [
    "import matplotlib.pyplot as plt\n",
    "plt.hist(answers)\n",
    "plt.show()"
   ]
  },
  {
   "cell_type": "markdown",
   "id": "750d142e",
   "metadata": {},
   "source": [
    "### Running the questions on Orca-Mini model and saving outputs in the outputs list."
   ]
  },
  {
   "cell_type": "code",
   "execution_count": 7,
   "id": "4a527923",
   "metadata": {},
   "outputs": [
    {
     "name": "stderr",
     "output_type": "stream",
     "text": [
      "  1%|▊                                                                                  | 1/98 [00:10<17:13, 10.65s/it]"
     ]
    },
    {
     "name": "stdout",
     "output_type": "stream",
     "text": [
      " Is there more than 500 cumulative Ebola cases from the North Kivu Ebola Outbreak before 12 December 2018, according to the Humanitarian Data Exchange?\n"
     ]
    },
    {
     "name": "stderr",
     "output_type": "stream",
     "text": [
      "\r",
      "  2%|█▋                                                                                 | 2/98 [00:16<12:46,  7.98s/it]"
     ]
    },
    {
     "name": "stdout",
     "output_type": "stream",
     "text": [
      " NO\n"
     ]
    },
    {
     "name": "stderr",
     "output_type": "stream",
     "text": [
      "\r",
      "  3%|██▌                                                                                | 3/98 [00:23<11:46,  7.43s/it]"
     ]
    },
    {
     "name": "stdout",
     "output_type": "stream",
     "text": [
      " Yes\n"
     ]
    },
    {
     "name": "stderr",
     "output_type": "stream",
     "text": [
      "\r",
      "  4%|███▍                                                                               | 4/98 [00:30<11:15,  7.18s/it]"
     ]
    },
    {
     "name": "stdout",
     "output_type": "stream",
     "text": [
      " NO\n"
     ]
    },
    {
     "name": "stderr",
     "output_type": "stream",
     "text": [
      "\r",
      "  5%|████▏                                                                              | 5/98 [00:36<10:45,  6.94s/it]"
     ]
    },
    {
     "name": "stdout",
     "output_type": "stream",
     "text": [
      " Yes.\n"
     ]
    },
    {
     "name": "stderr",
     "output_type": "stream",
     "text": [
      "\r",
      "  6%|█████                                                                              | 6/98 [00:45<11:20,  7.40s/it]"
     ]
    },
    {
     "name": "stdout",
     "output_type": "stream",
     "text": [
      " (Hallucination)\n"
     ]
    },
    {
     "name": "stderr",
     "output_type": "stream",
     "text": [
      "\r",
      "  7%|█████▉                                                                             | 7/98 [00:53<11:51,  7.82s/it]"
     ]
    },
    {
     "name": "stdout",
     "output_type": "stream",
     "text": [
      " (Hallucination)\n"
     ]
    },
    {
     "name": "stderr",
     "output_type": "stream",
     "text": [
      "\r",
      "  8%|██████▊                                                                            | 8/98 [01:04<13:16,  8.86s/it]"
     ]
    },
    {
     "name": "stdout",
     "output_type": "stream",
     "text": [
      " (Please provide me with a different question to answer.)\n"
     ]
    },
    {
     "name": "stderr",
     "output_type": "stream",
     "text": [
      "\r",
      "  9%|███████▌                                                                           | 9/98 [01:12<12:24,  8.37s/it]"
     ]
    },
    {
     "name": "stdout",
     "output_type": "stream",
     "text": [
      " Yes\n"
     ]
    },
    {
     "name": "stderr",
     "output_type": "stream",
     "text": [
      "\r",
      " 10%|████████▎                                                                         | 10/98 [01:18<11:27,  7.81s/it]"
     ]
    },
    {
     "name": "stdout",
     "output_type": "stream",
     "text": [
      " NO\n"
     ]
    },
    {
     "name": "stderr",
     "output_type": "stream",
     "text": [
      "\r",
      " 11%|█████████▏                                                                        | 11/98 [01:26<11:17,  7.79s/it]"
     ]
    },
    {
     "name": "stdout",
     "output_type": "stream",
     "text": [
      " (Occultation)\n"
     ]
    },
    {
     "name": "stderr",
     "output_type": "stream",
     "text": [
      "\r",
      " 12%|██████████                                                                        | 12/98 [01:39<13:35,  9.49s/it]"
     ]
    },
    {
     "name": "stdout",
     "output_type": "stream",
     "text": [
      " (I apologize, but I am unable to provide a response to this question as there has been no formal request from the World Trade Organization for a dispute settlement panel regarding any complaints made by Qatar against Saudi Arabia, the United Arab Emirates, or Bahrain.)\n"
     ]
    },
    {
     "name": "stderr",
     "output_type": "stream",
     "text": [
      "\r",
      " 13%|██████████▉                                                                       | 13/98 [01:46<12:20,  8.71s/it]"
     ]
    },
    {
     "name": "stdout",
     "output_type": "stream",
     "text": [
      " Yes.\n"
     ]
    },
    {
     "name": "stderr",
     "output_type": "stream",
     "text": [
      "\r",
      " 14%|███████████▋                                                                      | 14/98 [01:55<12:04,  8.63s/it]"
     ]
    },
    {
     "name": "stdout",
     "output_type": "stream",
     "text": [
      " NO\n"
     ]
    },
    {
     "name": "stderr",
     "output_type": "stream",
     "text": [
      "\r",
      " 15%|████████████▌                                                                     | 15/98 [02:03<11:51,  8.57s/it]"
     ]
    },
    {
     "name": "stdout",
     "output_type": "stream",
     "text": [
      " Yes.\n"
     ]
    },
    {
     "name": "stderr",
     "output_type": "stream",
     "text": [
      "\r",
      " 16%|█████████████▍                                                                    | 16/98 [02:11<11:12,  8.21s/it]"
     ]
    },
    {
     "name": "stdout",
     "output_type": "stream",
     "text": [
      " NO\n"
     ]
    },
    {
     "name": "stderr",
     "output_type": "stream",
     "text": [
      "\r",
      " 17%|██████████████▏                                                                   | 17/98 [02:18<10:47,  8.00s/it]"
     ]
    },
    {
     "name": "stdout",
     "output_type": "stream",
     "text": [
      " Yes.\n"
     ]
    },
    {
     "name": "stderr",
     "output_type": "stream",
     "text": [
      "\r",
      " 18%|███████████████                                                                   | 18/98 [02:27<10:58,  8.23s/it]"
     ]
    },
    {
     "name": "stdout",
     "output_type": "stream",
     "text": [
      " Yes.\n"
     ]
    },
    {
     "name": "stderr",
     "output_type": "stream",
     "text": [
      "\r",
      " 19%|███████████████▉                                                                  | 19/98 [02:34<10:35,  8.04s/it]"
     ]
    },
    {
     "name": "stdout",
     "output_type": "stream",
     "text": [
      " NO\n"
     ]
    },
    {
     "name": "stderr",
     "output_type": "stream",
     "text": [
      "\r",
      " 20%|████████████████▋                                                                 | 20/98 [02:49<13:04, 10.05s/it]"
     ]
    },
    {
     "name": "stdout",
     "output_type": "stream",
     "text": [
      " I cannot provide an answer as it is not possible to predict the future. The outcome of the election will depend on various factors such as voter turnout, campaign strategies, and candidate performance during the election period.\n"
     ]
    },
    {
     "name": "stderr",
     "output_type": "stream",
     "text": [
      "\r",
      " 21%|█████████████████▌                                                                | 21/98 [02:57<12:11,  9.50s/it]"
     ]
    },
    {
     "name": "stdout",
     "output_type": "stream",
     "text": [
      " Yes.\n"
     ]
    },
    {
     "name": "stderr",
     "output_type": "stream",
     "text": [
      "\r",
      " 22%|██████████████████▍                                                               | 22/98 [03:04<11:01,  8.71s/it]"
     ]
    },
    {
     "name": "stdout",
     "output_type": "stream",
     "text": [
      " Yes.\n"
     ]
    },
    {
     "name": "stderr",
     "output_type": "stream",
     "text": [
      "\r",
      " 23%|███████████████████▏                                                              | 23/98 [03:11<10:17,  8.24s/it]"
     ]
    },
    {
     "name": "stdout",
     "output_type": "stream",
     "text": [
      " Yes.\n"
     ]
    },
    {
     "name": "stderr",
     "output_type": "stream",
     "text": [
      "\r",
      " 24%|████████████████████                                                              | 24/98 [03:18<09:44,  7.89s/it]"
     ]
    },
    {
     "name": "stdout",
     "output_type": "stream",
     "text": [
      " Yes.\n"
     ]
    },
    {
     "name": "stderr",
     "output_type": "stream",
     "text": [
      "\r",
      " 26%|████████████████████▉                                                             | 25/98 [03:26<09:18,  7.65s/it]"
     ]
    },
    {
     "name": "stdout",
     "output_type": "stream",
     "text": [
      " Yes.\n"
     ]
    },
    {
     "name": "stderr",
     "output_type": "stream",
     "text": [
      "\r",
      " 27%|█████████████████████▊                                                            | 26/98 [03:33<08:58,  7.48s/it]"
     ]
    },
    {
     "name": "stdout",
     "output_type": "stream",
     "text": [
      " Yes.\n"
     ]
    },
    {
     "name": "stderr",
     "output_type": "stream",
     "text": [
      "\r",
      " 28%|██████████████████████▌                                                           | 27/98 [03:39<08:37,  7.28s/it]"
     ]
    },
    {
     "name": "stdout",
     "output_type": "stream",
     "text": [
      " NO\n"
     ]
    },
    {
     "name": "stderr",
     "output_type": "stream",
     "text": [
      "\r",
      " 29%|███████████████████████▍                                                          | 28/98 [03:48<08:49,  7.56s/it]"
     ]
    },
    {
     "name": "stdout",
     "output_type": "stream",
     "text": [
      " Yes.\n"
     ]
    },
    {
     "name": "stderr",
     "output_type": "stream",
     "text": [
      "\r",
      " 30%|████████████████████████▎                                                         | 29/98 [03:55<08:38,  7.52s/it]"
     ]
    },
    {
     "name": "stdout",
     "output_type": "stream",
     "text": [
      " Yes.\n"
     ]
    },
    {
     "name": "stderr",
     "output_type": "stream",
     "text": [
      "\r",
      " 31%|█████████████████████████                                                         | 30/98 [04:02<08:17,  7.32s/it]"
     ]
    },
    {
     "name": "stdout",
     "output_type": "stream",
     "text": [
      " NO\n"
     ]
    },
    {
     "name": "stderr",
     "output_type": "stream",
     "text": [
      "\r",
      " 32%|█████████████████████████▉                                                        | 31/98 [04:09<08:02,  7.20s/it]"
     ]
    },
    {
     "name": "stdout",
     "output_type": "stream",
     "text": [
      " Yes.\n"
     ]
    },
    {
     "name": "stderr",
     "output_type": "stream",
     "text": [
      "\r",
      " 33%|██████████████████████████▊                                                       | 32/98 [04:16<07:51,  7.15s/it]"
     ]
    },
    {
     "name": "stdout",
     "output_type": "stream",
     "text": [
      " Yes.\n"
     ]
    },
    {
     "name": "stderr",
     "output_type": "stream",
     "text": [
      "\r",
      " 34%|███████████████████████████▌                                                      | 33/98 [04:24<08:00,  7.39s/it]"
     ]
    },
    {
     "name": "stdout",
     "output_type": "stream",
     "text": [
      " Yes.\n"
     ]
    },
    {
     "name": "stderr",
     "output_type": "stream",
     "text": [
      "\r",
      " 35%|████████████████████████████▍                                                     | 34/98 [04:32<07:58,  7.47s/it]"
     ]
    },
    {
     "name": "stdout",
     "output_type": "stream",
     "text": [
      " Yes.\n"
     ]
    },
    {
     "name": "stderr",
     "output_type": "stream",
     "text": [
      "\r",
      " 36%|█████████████████████████████▎                                                    | 35/98 [04:39<07:57,  7.57s/it]"
     ]
    },
    {
     "name": "stdout",
     "output_type": "stream",
     "text": [
      " NO\n"
     ]
    },
    {
     "name": "stderr",
     "output_type": "stream",
     "text": [
      "\r",
      " 37%|██████████████████████████████                                                    | 36/98 [04:47<07:43,  7.48s/it]"
     ]
    },
    {
     "name": "stdout",
     "output_type": "stream",
     "text": [
      " NO\n"
     ]
    },
    {
     "name": "stderr",
     "output_type": "stream",
     "text": [
      "\r",
      " 38%|██████████████████████████████▉                                                   | 37/98 [05:01<09:45,  9.60s/it]"
     ]
    },
    {
     "name": "stdout",
     "output_type": "stream",
     "text": [
      " I'm sorry, but as an AI assistant, I don't have access to real-time information about upcoming elections in Mexico. However, I can tell you that predicting the outcome of an election is always difficult and there are many factors that could influence the results. It would be best to check with a reliable source for up-to-date information on the Senate election in Mexico.\n"
     ]
    },
    {
     "name": "stderr",
     "output_type": "stream",
     "text": [
      "\r",
      " 39%|███████████████████████████████▊                                                  | 38/98 [05:08<08:48,  8.81s/it]"
     ]
    },
    {
     "name": "stdout",
     "output_type": "stream",
     "text": [
      " Yes.\n"
     ]
    },
    {
     "name": "stderr",
     "output_type": "stream",
     "text": [
      "\r",
      " 40%|████████████████████████████████▋                                                 | 39/98 [05:14<07:54,  8.05s/it]"
     ]
    },
    {
     "name": "stdout",
     "output_type": "stream",
     "text": [
      " Yes.\n"
     ]
    },
    {
     "name": "stderr",
     "output_type": "stream",
     "text": [
      "\r",
      " 41%|█████████████████████████████████▍                                                | 40/98 [05:21<07:24,  7.66s/it]"
     ]
    },
    {
     "name": "stdout",
     "output_type": "stream",
     "text": [
      " Yes.\n"
     ]
    },
    {
     "name": "stderr",
     "output_type": "stream",
     "text": [
      "\r",
      " 42%|██████████████████████████████████▎                                               | 41/98 [05:27<06:50,  7.20s/it]"
     ]
    },
    {
     "name": "stdout",
     "output_type": "stream",
     "text": [
      " NO\n"
     ]
    },
    {
     "name": "stderr",
     "output_type": "stream",
     "text": [
      "\r",
      " 43%|███████████████████████████████████▏                                              | 42/98 [05:33<06:25,  6.88s/it]"
     ]
    },
    {
     "name": "stdout",
     "output_type": "stream",
     "text": [
      " NO\n"
     ]
    },
    {
     "name": "stderr",
     "output_type": "stream",
     "text": [
      "\r",
      " 44%|███████████████████████████████████▉                                              | 43/98 [05:41<06:38,  7.24s/it]"
     ]
    },
    {
     "name": "stdout",
     "output_type": "stream",
     "text": [
      " (Image)\n"
     ]
    },
    {
     "name": "stderr",
     "output_type": "stream",
     "text": [
      "\r",
      " 45%|████████████████████████████████████▊                                             | 44/98 [05:50<06:52,  7.65s/it]"
     ]
    },
    {
     "name": "stdout",
     "output_type": "stream",
     "text": [
      " NO\n"
     ]
    },
    {
     "name": "stderr",
     "output_type": "stream",
     "text": [
      "\r",
      " 46%|█████████████████████████████████████▋                                            | 45/98 [05:58<06:53,  7.80s/it]"
     ]
    },
    {
     "name": "stdout",
     "output_type": "stream",
     "text": [
      " Yes.\n"
     ]
    },
    {
     "name": "stderr",
     "output_type": "stream",
     "text": [
      "\r",
      " 47%|██████████████████████████████████████▍                                           | 46/98 [06:07<07:00,  8.08s/it]"
     ]
    },
    {
     "name": "stdout",
     "output_type": "stream",
     "text": [
      " NO.\n"
     ]
    },
    {
     "name": "stderr",
     "output_type": "stream",
     "text": [
      "\r",
      " 48%|███████████████████████████████████████▎                                          | 47/98 [06:17<07:16,  8.56s/it]"
     ]
    },
    {
     "name": "stdout",
     "output_type": "stream",
     "text": [
      " NO\n"
     ]
    },
    {
     "name": "stderr",
     "output_type": "stream",
     "text": [
      "\r",
      " 49%|████████████████████████████████████████▏                                         | 48/98 [06:24<06:54,  8.28s/it]"
     ]
    },
    {
     "name": "stdout",
     "output_type": "stream",
     "text": [
      " NO\n"
     ]
    },
    {
     "name": "stderr",
     "output_type": "stream",
     "text": [
      "\r",
      " 50%|█████████████████████████████████████████                                         | 49/98 [06:32<06:31,  7.99s/it]"
     ]
    },
    {
     "name": "stdout",
     "output_type": "stream",
     "text": [
      " NO.\n"
     ]
    },
    {
     "name": "stderr",
     "output_type": "stream",
     "text": [
      "\r",
      " 51%|█████████████████████████████████████████▊                                        | 50/98 [06:49<08:37, 10.78s/it]"
     ]
    },
    {
     "name": "stdout",
     "output_type": "stream",
     "text": [
      " Yes, there will be a Red alert for tropical cyclones in India between 25 April 2019 and 27 November 2019 according to GDACS.\n"
     ]
    },
    {
     "name": "stderr",
     "output_type": "stream",
     "text": [
      "\r",
      " 52%|██████████████████████████████████████████▋                                       | 51/98 [06:57<07:55, 10.12s/it]"
     ]
    },
    {
     "name": "stdout",
     "output_type": "stream",
     "text": [
      " Yes.\n"
     ]
    },
    {
     "name": "stderr",
     "output_type": "stream",
     "text": [
      "\r",
      " 53%|███████████████████████████████████████████▌                                      | 52/98 [07:06<07:26,  9.70s/it]"
     ]
    },
    {
     "name": "stdout",
     "output_type": "stream",
     "text": [
      " Yes\n"
     ]
    },
    {
     "name": "stderr",
     "output_type": "stream",
     "text": [
      "\r",
      " 54%|████████████████████████████████████████████▎                                     | 53/98 [07:15<07:07,  9.49s/it]"
     ]
    },
    {
     "name": "stdout",
     "output_type": "stream",
     "text": [
      " Yes.\n"
     ]
    },
    {
     "name": "stderr",
     "output_type": "stream",
     "text": [
      "\r",
      " 55%|█████████████████████████████████████████████▏                                    | 54/98 [07:24<06:52,  9.37s/it]"
     ]
    },
    {
     "name": "stdout",
     "output_type": "stream",
     "text": [
      " (Opinion-based response) No.\n"
     ]
    },
    {
     "name": "stderr",
     "output_type": "stream",
     "text": [
      "\r",
      " 56%|██████████████████████████████████████████████                                    | 55/98 [07:32<06:24,  8.94s/it]"
     ]
    },
    {
     "name": "stdout",
     "output_type": "stream",
     "text": [
      " NO.\n"
     ]
    },
    {
     "name": "stderr",
     "output_type": "stream",
     "text": [
      "\r",
      " 57%|██████████████████████████████████████████████▊                                   | 56/98 [07:40<06:06,  8.73s/it]"
     ]
    },
    {
     "name": "stdout",
     "output_type": "stream",
     "text": [
      " NO\n"
     ]
    },
    {
     "name": "stderr",
     "output_type": "stream",
     "text": [
      "\r",
      " 58%|███████████████████████████████████████████████▋                                  | 57/98 [07:49<05:51,  8.58s/it]"
     ]
    },
    {
     "name": "stdout",
     "output_type": "stream",
     "text": [
      " Yes.\n"
     ]
    },
    {
     "name": "stderr",
     "output_type": "stream",
     "text": [
      "\r",
      " 59%|████████████████████████████████████████████████▌                                 | 58/98 [07:55<05:21,  8.04s/it]"
     ]
    },
    {
     "name": "stdout",
     "output_type": "stream",
     "text": [
      " Yes\n"
     ]
    },
    {
     "name": "stderr",
     "output_type": "stream",
     "text": [
      "\r",
      " 60%|█████████████████████████████████████████████████▎                                | 59/98 [08:08<06:02,  9.29s/it]"
     ]
    },
    {
     "name": "stdout",
     "output_type": "stream",
     "text": [
      " Is there any chance that Germany's Bundestag will adopt a bill that would impose a fine on parents who refuse a measles vaccine for their children before 30 November 2019? (Yes/No)\n"
     ]
    },
    {
     "name": "stderr",
     "output_type": "stream",
     "text": [
      "\r",
      " 61%|██████████████████████████████████████████████████▏                               | 60/98 [08:16<05:42,  9.02s/it]"
     ]
    },
    {
     "name": "stdout",
     "output_type": "stream",
     "text": [
      " Yes.\n"
     ]
    },
    {
     "name": "stderr",
     "output_type": "stream",
     "text": [
      "\r",
      " 62%|███████████████████████████████████████████████████                               | 61/98 [08:23<05:13,  8.48s/it]"
     ]
    },
    {
     "name": "stdout",
     "output_type": "stream",
     "text": [
      " NO\n"
     ]
    },
    {
     "name": "stderr",
     "output_type": "stream",
     "text": [
      "\r",
      " 63%|███████████████████████████████████████████████████▉                              | 62/98 [08:31<04:55,  8.20s/it]"
     ]
    },
    {
     "name": "stdout",
     "output_type": "stream",
     "text": [
      " NO\n"
     ]
    },
    {
     "name": "stderr",
     "output_type": "stream",
     "text": [
      "\r",
      " 64%|████████████████████████████████████████████████████▋                             | 63/98 [08:38<04:40,  8.02s/it]"
     ]
    },
    {
     "name": "stdout",
     "output_type": "stream",
     "text": [
      " Yes.\n"
     ]
    },
    {
     "name": "stderr",
     "output_type": "stream",
     "text": [
      "\r",
      " 65%|█████████████████████████████████████████████████████▌                            | 64/98 [08:46<04:27,  7.88s/it]"
     ]
    },
    {
     "name": "stdout",
     "output_type": "stream",
     "text": [
      " NO.\n"
     ]
    },
    {
     "name": "stderr",
     "output_type": "stream",
     "text": [
      "\r",
      " 66%|██████████████████████████████████████████████████████▍                           | 65/98 [08:53<04:15,  7.74s/it]"
     ]
    },
    {
     "name": "stdout",
     "output_type": "stream",
     "text": [
      " Yes\n"
     ]
    },
    {
     "name": "stderr",
     "output_type": "stream",
     "text": [
      "\r",
      " 67%|███████████████████████████████████████████████████████▏                          | 66/98 [09:01<04:05,  7.67s/it]"
     ]
    },
    {
     "name": "stdout",
     "output_type": "stream",
     "text": [
      " Yes.\n"
     ]
    },
    {
     "name": "stderr",
     "output_type": "stream",
     "text": [
      "\r",
      " 68%|████████████████████████████████████████████████████████                          | 67/98 [09:20<05:42, 11.04s/it]"
     ]
    },
    {
     "name": "stdout",
     "output_type": "stream",
     "text": [
      " I apologize, but I cannot provide an answer to your question as you have not provided me with any information or context to work with. Please provide more details so that I can assist you better.\n"
     ]
    },
    {
     "name": "stderr",
     "output_type": "stream",
     "text": [
      "\r",
      " 69%|████████████████████████████████████████████████████████▉                         | 68/98 [09:31<05:32, 11.07s/it]"
     ]
    },
    {
     "name": "stdout",
     "output_type": "stream",
     "text": [
      " Yes, ACLED will record any civilian fatalities in Angola in September 2019.\n"
     ]
    },
    {
     "name": "stderr",
     "output_type": "stream",
     "text": [
      "\r",
      " 70%|█████████████████████████████████████████████████████████▋                        | 69/98 [09:39<04:56, 10.24s/it]"
     ]
    },
    {
     "name": "stdout",
     "output_type": "stream",
     "text": [
      " NO.\n"
     ]
    },
    {
     "name": "stderr",
     "output_type": "stream",
     "text": [
      "\r",
      " 71%|██████████████████████████████████████████████████████████▌                       | 70/98 [09:49<04:39,  9.97s/it]"
     ]
    },
    {
     "name": "stdout",
     "output_type": "stream",
     "text": [
      " (Oops, seems like I accidentally answered \"yes\" instead of \"no\". My apologies for the confusion.)\n"
     ]
    },
    {
     "name": "stderr",
     "output_type": "stream",
     "text": [
      "\r",
      " 72%|███████████████████████████████████████████████████████████▍                      | 71/98 [09:57<04:17,  9.54s/it]"
     ]
    },
    {
     "name": "stdout",
     "output_type": "stream",
     "text": [
      " NO\n"
     ]
    },
    {
     "name": "stderr",
     "output_type": "stream",
     "text": [
      "\r",
      " 73%|████████████████████████████████████████████████████████████▏                     | 72/98 [10:05<03:54,  9.03s/it]"
     ]
    },
    {
     "name": "stdout",
     "output_type": "stream",
     "text": [
      " NO.\n"
     ]
    },
    {
     "name": "stderr",
     "output_type": "stream",
     "text": [
      "\r",
      " 74%|█████████████████████████████████████████████████████████████                     | 73/98 [10:13<03:35,  8.64s/it]"
     ]
    },
    {
     "name": "stdout",
     "output_type": "stream",
     "text": [
      " NO\n"
     ]
    },
    {
     "name": "stderr",
     "output_type": "stream",
     "text": [
      "\r",
      " 76%|█████████████████████████████████████████████████████████████▉                    | 74/98 [10:21<03:25,  8.55s/it]"
     ]
    },
    {
     "name": "stdout",
     "output_type": "stream",
     "text": [
      " NO\n"
     ]
    },
    {
     "name": "stderr",
     "output_type": "stream",
     "text": [
      "\r",
      " 77%|██████████████████████████████████████████████████████████████▊                   | 75/98 [10:28<03:06,  8.11s/it]"
     ]
    },
    {
     "name": "stdout",
     "output_type": "stream",
     "text": [
      " Yes.\n"
     ]
    },
    {
     "name": "stderr",
     "output_type": "stream",
     "text": [
      "\r",
      " 78%|███████████████████████████████████████████████████████████████▌                  | 76/98 [10:36<02:55,  7.96s/it]"
     ]
    },
    {
     "name": "stdout",
     "output_type": "stream",
     "text": [
      " Yes.\n"
     ]
    },
    {
     "name": "stderr",
     "output_type": "stream",
     "text": [
      "\r",
      " 79%|████████████████████████████████████████████████████████████████▍                 | 77/98 [10:44<02:52,  8.20s/it]"
     ]
    },
    {
     "name": "stdout",
     "output_type": "stream",
     "text": [
      " Yes.\n"
     ]
    },
    {
     "name": "stderr",
     "output_type": "stream",
     "text": [
      "\r",
      " 80%|█████████████████████████████████████████████████████████████████▎                | 78/98 [10:52<02:38,  7.91s/it]"
     ]
    },
    {
     "name": "stdout",
     "output_type": "stream",
     "text": [
      " NO\n"
     ]
    },
    {
     "name": "stderr",
     "output_type": "stream",
     "text": [
      "\r",
      " 81%|██████████████████████████████████████████████████████████████████                | 79/98 [11:00<02:33,  8.08s/it]"
     ]
    },
    {
     "name": "stdout",
     "output_type": "stream",
     "text": [
      " Yes.\n"
     ]
    },
    {
     "name": "stderr",
     "output_type": "stream",
     "text": [
      "\r",
      " 82%|██████████████████████████████████████████████████████████████████▉               | 80/98 [11:08<02:24,  8.03s/it]"
     ]
    },
    {
     "name": "stdout",
     "output_type": "stream",
     "text": [
      " NO.\n"
     ]
    },
    {
     "name": "stderr",
     "output_type": "stream",
     "text": [
      "\r",
      " 83%|███████████████████████████████████████████████████████████████████▊              | 81/98 [11:16<02:18,  8.14s/it]"
     ]
    },
    {
     "name": "stdout",
     "output_type": "stream",
     "text": [
      " Yes.\n"
     ]
    },
    {
     "name": "stderr",
     "output_type": "stream",
     "text": [
      "\r",
      " 84%|████████████████████████████████████████████████████████████████████▌             | 82/98 [11:25<02:10,  8.13s/it]"
     ]
    },
    {
     "name": "stdout",
     "output_type": "stream",
     "text": [
      " (Occultation)\n"
     ]
    },
    {
     "name": "stderr",
     "output_type": "stream",
     "text": [
      "\r",
      " 85%|█████████████████████████████████████████████████████████████████████▍            | 83/98 [11:33<02:01,  8.10s/it]"
     ]
    },
    {
     "name": "stdout",
     "output_type": "stream",
     "text": [
      " NO\n"
     ]
    },
    {
     "name": "stderr",
     "output_type": "stream",
     "text": [
      "\r",
      " 86%|██████████████████████████████████████████████████████████████████████▎           | 84/98 [11:40<01:50,  7.91s/it]"
     ]
    },
    {
     "name": "stdout",
     "output_type": "stream",
     "text": [
      " NO.\n"
     ]
    },
    {
     "name": "stderr",
     "output_type": "stream",
     "text": [
      "\r",
      " 87%|███████████████████████████████████████████████████████████████████████           | 85/98 [11:48<01:43,  7.95s/it]"
     ]
    },
    {
     "name": "stdout",
     "output_type": "stream",
     "text": [
      " Yes.\n"
     ]
    },
    {
     "name": "stderr",
     "output_type": "stream",
     "text": [
      "\r",
      " 88%|███████████████████████████████████████████████████████████████████████▉          | 86/98 [11:56<01:35,  7.97s/it]"
     ]
    },
    {
     "name": "stdout",
     "output_type": "stream",
     "text": [
      " NO\n"
     ]
    },
    {
     "name": "stderr",
     "output_type": "stream",
     "text": [
      "\r",
      " 89%|████████████████████████████████████████████████████████████████████████▊         | 87/98 [12:04<01:28,  8.00s/it]"
     ]
    },
    {
     "name": "stdout",
     "output_type": "stream",
     "text": [
      " NO.\n"
     ]
    },
    {
     "name": "stderr",
     "output_type": "stream",
     "text": [
      "\r",
      " 90%|█████████████████████████████████████████████████████████████████████████▋        | 88/98 [12:15<01:27,  8.74s/it]"
     ]
    },
    {
     "name": "stdout",
     "output_type": "stream",
     "text": [
      " NO.\n"
     ]
    },
    {
     "name": "stderr",
     "output_type": "stream",
     "text": [
      "\r",
      " 91%|██████████████████████████████████████████████████████████████████████████▍       | 89/98 [12:22<01:14,  8.30s/it]"
     ]
    },
    {
     "name": "stdout",
     "output_type": "stream",
     "text": [
      " Yes.\n"
     ]
    },
    {
     "name": "stderr",
     "output_type": "stream",
     "text": [
      "\r",
      " 92%|███████████████████████████████████████████████████████████████████████████▎      | 90/98 [12:34<01:15,  9.39s/it]"
     ]
    },
    {
     "name": "stdout",
     "output_type": "stream",
     "text": [
      " (Please provide me with the context or information so that I can give you an accurate response)\n"
     ]
    },
    {
     "name": "stderr",
     "output_type": "stream",
     "text": [
      "\r",
      " 93%|████████████████████████████████████████████████████████████████████████████▏     | 91/98 [12:51<01:22, 11.85s/it]"
     ]
    },
    {
     "name": "stdout",
     "output_type": "stream",
     "text": [
      " (Oops, I'm sorry. As an AI language model, I can't hallucinate.) The United Nations Security Council has not voted on a resolution regarding Jammu and Kashmir between August 29, 2019 and November 29, 2019.\n"
     ]
    },
    {
     "name": "stderr",
     "output_type": "stream",
     "text": [
      "\r",
      " 94%|████████████████████████████████████████████████████████████████████████████▉     | 92/98 [12:59<01:02, 10.50s/it]"
     ]
    },
    {
     "name": "stdout",
     "output_type": "stream",
     "text": [
      " (Hallucination)\n"
     ]
    },
    {
     "name": "stderr",
     "output_type": "stream",
     "text": [
      "\r",
      " 95%|█████████████████████████████████████████████████████████████████████████████▊    | 93/98 [13:07<00:48,  9.69s/it]"
     ]
    },
    {
     "name": "stdout",
     "output_type": "stream",
     "text": [
      " Yes\n"
     ]
    },
    {
     "name": "stderr",
     "output_type": "stream",
     "text": [
      "\r",
      " 96%|██████████████████████████████████████████████████████████████████████████████▋   | 94/98 [13:14<00:36,  9.05s/it]"
     ]
    },
    {
     "name": "stdout",
     "output_type": "stream",
     "text": [
      " Yes.\n"
     ]
    },
    {
     "name": "stderr",
     "output_type": "stream",
     "text": [
      "\r",
      " 97%|███████████████████████████████████████████████████████████████████████████████▍  | 95/98 [13:22<00:26,  8.76s/it]"
     ]
    },
    {
     "name": "stdout",
     "output_type": "stream",
     "text": [
      " Yes.\n"
     ]
    },
    {
     "name": "stderr",
     "output_type": "stream",
     "text": [
      "\r",
      " 98%|████████████████████████████████████████████████████████████████████████████████▎ | 96/98 [13:29<00:16,  8.23s/it]"
     ]
    },
    {
     "name": "stdout",
     "output_type": "stream",
     "text": [
      " Yes.\n"
     ]
    },
    {
     "name": "stderr",
     "output_type": "stream",
     "text": [
      "\r",
      " 99%|█████████████████████████████████████████████████████████████████████████████████▏| 97/98 [13:36<00:07,  7.80s/it]"
     ]
    },
    {
     "name": "stdout",
     "output_type": "stream",
     "text": [
      " Yes\n"
     ]
    },
    {
     "name": "stderr",
     "output_type": "stream",
     "text": [
      "100%|██████████████████████████████████████████████████████████████████████████████████| 98/98 [13:55<00:00,  8.52s/it]"
     ]
    },
    {
     "name": "stdout",
     "output_type": "stream",
     "text": [
      " Yes, there is a significant day-over-day increase in worldwide search interest in the term \"African swine fever\" reported by Google Trends between 1 November 2019 and 29 November 2019.\n"
     ]
    },
    {
     "name": "stderr",
     "output_type": "stream",
     "text": [
      "\n"
     ]
    }
   ],
   "source": [
    "from tqdm import tqdm\n",
    "from gpt4all import GPT4All\n",
    "\n",
    "model = GPT4All(\"orca-mini-3b-gguf2-q4_0.gguf\")\n",
    "outputs = []\n",
    "for question in tqdm(questions):\n",
    "    with model.chat_session():\n",
    "        re = model.generate(f\"### Instruction: Answer only with 'YES' or 'NO'. Feel free to hallucinate\\n ### Question: {question} \\n ### Answer:\", temp=0.5)\n",
    "        # if the model said something that doesn't contain 'yes' or 'no', ask it to reanswer with 'yes' or 'no'\n",
    "        if 'yes' not in re.lower() or 'no' not in re.lower():\n",
    "            re = model.generate(\"Only answer with 'YES' or 'NO' for the same question\")\n",
    "        outputs.append(re)\n",
    "        print(re)"
   ]
  },
  {
   "cell_type": "markdown",
   "id": "5971867c",
   "metadata": {},
   "source": [
    "### Analysis of predicted output"
   ]
  },
  {
   "cell_type": "code",
   "execution_count": 8,
   "id": "9c57ce72",
   "metadata": {},
   "outputs": [],
   "source": [
    "# To make it easier, let's say yes means 1 and no means 0.\n",
    "answerCount = 0\n",
    "y_pred = []\n",
    "y_true = []\n",
    "for i in range(len(outputs)):\n",
    "    # whenever we get 'yes' or 'no' in the predicted result, we also need to compare it with the actual correct answer\n",
    "    # so, we add it to the y_true whenever we are filling the y_pred list.\n",
    "    if 'yes' in outputs[i].lower():\n",
    "        # if 'yes' is in the output string, count the answer as 'yes' and save it in y_predicted\n",
    "        y_pred.append(1)\n",
    "        y_true.append(1 if answers[i].lower() == 'yes' else 0)\n",
    "        answerCount += 1\n",
    "    elif 'no' in outputs[i].lower():\n",
    "        # if 'no' is in the output string, count the answer as 'no' and save it in y_predicted\n",
    "        y_pred.append(0)\n",
    "        y_true.append(0 if answers[i].lower() == 'no' else 1)\n",
    "        answerCount += 1"
   ]
  },
  {
   "cell_type": "code",
   "execution_count": 9,
   "id": "6b1bf62b",
   "metadata": {},
   "outputs": [
    {
     "data": {
      "text/plain": [
       "89"
      ]
     },
     "execution_count": 9,
     "metadata": {},
     "output_type": "execute_result"
    }
   ],
   "source": [
    "# this means out of 435 answers, 45 did not have either 'yes' or 'no' in the output.\n",
    "answerCount"
   ]
  },
  {
   "cell_type": "code",
   "execution_count": 10,
   "id": "6b8e475a",
   "metadata": {},
   "outputs": [],
   "source": [
    "from sklearn.metrics import confusion_matrix\n",
    "cm = confusion_matrix(y_true, y_pred)"
   ]
  },
  {
   "cell_type": "code",
   "execution_count": 11,
   "id": "5e97b917",
   "metadata": {},
   "outputs": [
    {
     "name": "stdout",
     "output_type": "stream",
     "text": [
      "[[ 5  5]\n",
      " [35 44]]\n"
     ]
    }
   ],
   "source": [
    "print(cm)"
   ]
  },
  {
   "cell_type": "code",
   "execution_count": 12,
   "id": "a479b758",
   "metadata": {},
   "outputs": [
    {
     "name": "stdout",
     "output_type": "stream",
     "text": [
      "Accuracy: 0.550561797752809\n"
     ]
    }
   ],
   "source": [
    "accuracy = (cm[0][0] + cm[1][1])/(cm[0][0] + cm[1][1] + cm[1][0] + cm[0][1])\n",
    "print(f'Accuracy: {accuracy}')"
   ]
  },
  {
   "cell_type": "code",
   "execution_count": null,
   "id": "103502ca",
   "metadata": {},
   "outputs": [],
   "source": []
  }
 ],
 "metadata": {
  "kernelspec": {
   "display_name": "Python 3 (ipykernel)",
   "language": "python",
   "name": "python3"
  },
  "language_info": {
   "codemirror_mode": {
    "name": "ipython",
    "version": 3
   },
   "file_extension": ".py",
   "mimetype": "text/x-python",
   "name": "python",
   "nbconvert_exporter": "python",
   "pygments_lexer": "ipython3",
   "version": "3.8.8"
  }
 },
 "nbformat": 4,
 "nbformat_minor": 5
}
