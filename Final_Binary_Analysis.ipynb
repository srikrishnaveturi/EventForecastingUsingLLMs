{
 "cells": [
  {
   "cell_type": "code",
   "execution_count": 5,
   "id": "bc3e3530",
   "metadata": {
    "id": "bc3e3530"
   },
   "outputs": [],
   "source": [
    "import pandas as pd\n",
    "from sklearn.metrics import confusion_matrix\n",
    "import ast\n",
    "import numpy as np"
   ]
  },
  {
   "cell_type": "code",
   "execution_count": 13,
   "id": "28c0babe",
   "metadata": {
    "colab": {
     "base_uri": "https://localhost:8080/",
     "height": 424
    },
    "id": "28c0babe",
    "outputId": "b5873041-7265-4530-cbd5-770491a4909e"
   },
   "outputs": [
    {
     "data": {
      "text/html": [
       "<div>\n",
       "<style scoped>\n",
       "    .dataframe tbody tr th:only-of-type {\n",
       "        vertical-align: middle;\n",
       "    }\n",
       "\n",
       "    .dataframe tbody tr th {\n",
       "        vertical-align: top;\n",
       "    }\n",
       "\n",
       "    .dataframe thead th {\n",
       "        text-align: right;\n",
       "    }\n",
       "</style>\n",
       "<table border=\"1\" class=\"dataframe\">\n",
       "  <thead>\n",
       "    <tr style=\"text-align: right;\">\n",
       "      <th></th>\n",
       "      <th>QuestionText</th>\n",
       "      <th>Answer</th>\n",
       "      <th>Year</th>\n",
       "      <th>Categories</th>\n",
       "    </tr>\n",
       "  </thead>\n",
       "  <tbody>\n",
       "    <tr>\n",
       "      <th>0</th>\n",
       "      <td>Will advanced LIGO announce discovery of gravi...</td>\n",
       "      <td>no</td>\n",
       "      <td>2016</td>\n",
       "      <td>['Technology', 'Stock Market']</td>\n",
       "    </tr>\n",
       "    <tr>\n",
       "      <th>1</th>\n",
       "      <td>Will SpaceX successfully land a Falcon 9 rocke...</td>\n",
       "      <td>no</td>\n",
       "      <td>2016</td>\n",
       "      <td>[]</td>\n",
       "    </tr>\n",
       "    <tr>\n",
       "      <th>2</th>\n",
       "      <td>Will we confirm evidence for megastructures or...</td>\n",
       "      <td>no</td>\n",
       "      <td>2016</td>\n",
       "      <td>['Technology', 'Political', 'Sports', 'Health ...</td>\n",
       "    </tr>\n",
       "    <tr>\n",
       "      <th>3</th>\n",
       "      <td>Will Lockheed Martin and Skunkworks announce a...</td>\n",
       "      <td>no</td>\n",
       "      <td>2019</td>\n",
       "      <td>[]</td>\n",
       "    </tr>\n",
       "    <tr>\n",
       "      <th>4</th>\n",
       "      <td>The FAA to soon open the door to commercial us...</td>\n",
       "      <td>no</td>\n",
       "      <td>2016</td>\n",
       "      <td>['Technology', 'Stock Market']</td>\n",
       "    </tr>\n",
       "    <tr>\n",
       "      <th>...</th>\n",
       "      <td>...</td>\n",
       "      <td>...</td>\n",
       "      <td>...</td>\n",
       "      <td>...</td>\n",
       "    </tr>\n",
       "    <tr>\n",
       "      <th>4458</th>\n",
       "      <td>Between 3 October 2019 and 29 November 2019, w...</td>\n",
       "      <td>no</td>\n",
       "      <td>2019</td>\n",
       "      <td>['Health and Epidemiology']</td>\n",
       "    </tr>\n",
       "    <tr>\n",
       "      <th>4459</th>\n",
       "      <td>Will the PITF Worldwide Atrocities Dataset rec...</td>\n",
       "      <td>yes</td>\n",
       "      <td>2019</td>\n",
       "      <td>['Health and Epidemiology', 'Stock Market']</td>\n",
       "    </tr>\n",
       "    <tr>\n",
       "      <th>4460</th>\n",
       "      <td>Will ACLED record any civilian fatalities in R...</td>\n",
       "      <td>yes</td>\n",
       "      <td>2019</td>\n",
       "      <td>['Health and Epidemiology', 'Stock Market']</td>\n",
       "    </tr>\n",
       "    <tr>\n",
       "      <th>4461</th>\n",
       "      <td>Will ACLED record any civilian fatalities in S...</td>\n",
       "      <td>yes</td>\n",
       "      <td>2019</td>\n",
       "      <td>['Health and Epidemiology', 'Stock Market']</td>\n",
       "    </tr>\n",
       "    <tr>\n",
       "      <th>4462</th>\n",
       "      <td>Will there be a significant day-over-day incre...</td>\n",
       "      <td>yes</td>\n",
       "      <td>2019</td>\n",
       "      <td>[]</td>\n",
       "    </tr>\n",
       "  </tbody>\n",
       "</table>\n",
       "<p>4463 rows × 4 columns</p>\n",
       "</div>"
      ],
      "text/plain": [
       "                                           QuestionText Answer  Year  \\\n",
       "0     Will advanced LIGO announce discovery of gravi...     no  2016   \n",
       "1     Will SpaceX successfully land a Falcon 9 rocke...     no  2016   \n",
       "2     Will we confirm evidence for megastructures or...     no  2016   \n",
       "3     Will Lockheed Martin and Skunkworks announce a...     no  2019   \n",
       "4     The FAA to soon open the door to commercial us...     no  2016   \n",
       "...                                                 ...    ...   ...   \n",
       "4458  Between 3 October 2019 and 29 November 2019, w...     no  2019   \n",
       "4459  Will the PITF Worldwide Atrocities Dataset rec...    yes  2019   \n",
       "4460  Will ACLED record any civilian fatalities in R...    yes  2019   \n",
       "4461  Will ACLED record any civilian fatalities in S...    yes  2019   \n",
       "4462  Will there be a significant day-over-day incre...    yes  2019   \n",
       "\n",
       "                                             Categories  \n",
       "0                        ['Technology', 'Stock Market']  \n",
       "1                                                    []  \n",
       "2     ['Technology', 'Political', 'Sports', 'Health ...  \n",
       "3                                                    []  \n",
       "4                        ['Technology', 'Stock Market']  \n",
       "...                                                 ...  \n",
       "4458                        ['Health and Epidemiology']  \n",
       "4459        ['Health and Epidemiology', 'Stock Market']  \n",
       "4460        ['Health and Epidemiology', 'Stock Market']  \n",
       "4461        ['Health and Epidemiology', 'Stock Market']  \n",
       "4462                                                 []  \n",
       "\n",
       "[4463 rows x 4 columns]"
      ]
     },
     "execution_count": 13,
     "metadata": {},
     "output_type": "execute_result"
    }
   ],
   "source": [
    "questions = pd.read_csv('data/Binary/CombinedBinaryDataWithCategories.csv')\n",
    "questions"
   ]
  },
  {
   "cell_type": "code",
   "execution_count": null,
   "id": "KrRoHRwj83Hy",
   "metadata": {
    "colab": {
     "base_uri": "https://localhost:8080/"
    },
    "id": "KrRoHRwj83Hy",
    "outputId": "cae9a643-7d69-4660-f66c-b292a7903fc1"
   },
   "outputs": [],
   "source": [
    "# from google.colab import drive\n",
    "# drive.mount('/content/drive')"
   ]
  },
  {
   "cell_type": "code",
   "execution_count": 7,
   "id": "029da813",
   "metadata": {
    "id": "029da813"
   },
   "outputs": [],
   "source": [
    "def get_value(text):\n",
    "    if 'yes' in text.lower():\n",
    "        return 1\n",
    "    elif 'no' in text.lower():\n",
    "        return 0\n",
    "    else:\n",
    "        return None"
   ]
  },
  {
   "cell_type": "code",
   "execution_count": 8,
   "id": "fdb324cf",
   "metadata": {
    "id": "fdb324cf"
   },
   "outputs": [],
   "source": [
    "def makeCM(combined):\n",
    "    y_true = []\n",
    "    y_pred = []\n",
    "    noneCount = 0\n",
    "    for i in range(len(combined['Predictions'])):\n",
    "        temp1 = get_value(combined['Predictions'][i])\n",
    "        if temp1 is None:\n",
    "            noneCount += 1\n",
    "            continue\n",
    "        y_pred.append(temp1)\n",
    "        y_true.append(get_value(combined['Answer'][i]))\n",
    "    return y_pred, y_true, noneCount"
   ]
  },
  {
   "cell_type": "code",
   "execution_count": 9,
   "id": "cf082c97",
   "metadata": {
    "colab": {
     "base_uri": "https://localhost:8080/"
    },
    "id": "cf082c97",
    "outputId": "8b383231-4434-4820-ba3d-84eca66a6339"
   },
   "outputs": [
    {
     "data": {
      "text/plain": [
       "[2016, 2019, 2017, 2015, 2018, 2022, 2020, 2021, 2023]"
      ]
     },
     "execution_count": 9,
     "metadata": {},
     "output_type": "execute_result"
    }
   ],
   "source": [
    "allYears = list(questions['Year'].unique())\n",
    "allYears"
   ]
  },
  {
   "cell_type": "code",
   "execution_count": 10,
   "id": "6d95bc8a",
   "metadata": {
    "id": "6d95bc8a"
   },
   "outputs": [],
   "source": [
    "allCategories = [\n",
    "    'Technology',\n",
    "    'Political',\n",
    "    'Sports',\n",
    "    'Health and Epidemiology',\n",
    "    'Stock Market',\n",
    "    'Supply Chain'\n",
    "]"
   ]
  },
  {
   "cell_type": "markdown",
   "id": "d4debc9e",
   "metadata": {
    "id": "d4debc9e"
   },
   "source": [
    "### WizardLM"
   ]
  },
  {
   "cell_type": "code",
   "execution_count": 12,
   "id": "b4baf240",
   "metadata": {
    "id": "b4baf240"
   },
   "outputs": [],
   "source": [
    "data1 = pd.read_csv('data/Binary/testSave0-1999.csv')\n",
    "data2 = pd.read_csv('data/Binary/testSave2000-2900.csv')\n",
    "data3 = pd.read_csv('data/Binary/testSave2900-2999.csv')\n",
    "data3 = data3.iloc[1:, :]\n",
    "data4 = pd.read_csv('data/Binary/testSave3000-3300.csv')\n",
    "data5 = pd.read_csv('data/Binary/testSave3300-3699.csv')\n",
    "data5 = data5.iloc[1:, :]\n",
    "data6 = pd.read_csv('data/Binary/testSave3700-4000.csv')\n",
    "data7 = pd.read_csv('data/Binary/testSave4000-4300.csv')\n",
    "data7 = data7.iloc[1:,:]\n",
    "data8 = pd.read_csv('data/Binary/testSave4300-4462.csv')\n",
    "data8 = data8.iloc[1:,:]"
   ]
  },
  {
   "cell_type": "code",
   "execution_count": 14,
   "id": "b75a4a90",
   "metadata": {
    "colab": {
     "base_uri": "https://localhost:8080/",
     "height": 424
    },
    "id": "b75a4a90",
    "outputId": "33712632-fbba-4e7b-e624-04aba79986e8"
   },
   "outputs": [
    {
     "data": {
      "text/html": [
       "<div>\n",
       "<style scoped>\n",
       "    .dataframe tbody tr th:only-of-type {\n",
       "        vertical-align: middle;\n",
       "    }\n",
       "\n",
       "    .dataframe tbody tr th {\n",
       "        vertical-align: top;\n",
       "    }\n",
       "\n",
       "    .dataframe thead th {\n",
       "        text-align: right;\n",
       "    }\n",
       "</style>\n",
       "<table border=\"1\" class=\"dataframe\">\n",
       "  <thead>\n",
       "    <tr style=\"text-align: right;\">\n",
       "      <th></th>\n",
       "      <th>QuestionText</th>\n",
       "      <th>Answer</th>\n",
       "      <th>Year</th>\n",
       "      <th>Categories</th>\n",
       "      <th>Predictions</th>\n",
       "    </tr>\n",
       "  </thead>\n",
       "  <tbody>\n",
       "    <tr>\n",
       "      <th>0</th>\n",
       "      <td>Will advanced LIGO announce discovery of gravi...</td>\n",
       "      <td>no</td>\n",
       "      <td>2016</td>\n",
       "      <td>['Technology', 'Stock Market']</td>\n",
       "      <td>NO</td>\n",
       "    </tr>\n",
       "    <tr>\n",
       "      <th>1</th>\n",
       "      <td>Will SpaceX successfully land a Falcon 9 rocke...</td>\n",
       "      <td>no</td>\n",
       "      <td>2016</td>\n",
       "      <td>[]</td>\n",
       "      <td>YES</td>\n",
       "    </tr>\n",
       "    <tr>\n",
       "      <th>2</th>\n",
       "      <td>Will we confirm evidence for megastructures or...</td>\n",
       "      <td>no</td>\n",
       "      <td>2016</td>\n",
       "      <td>['Technology', 'Political', 'Sports', 'Health ...</td>\n",
       "      <td>NO</td>\n",
       "    </tr>\n",
       "    <tr>\n",
       "      <th>3</th>\n",
       "      <td>Will Lockheed Martin and Skunkworks announce a...</td>\n",
       "      <td>no</td>\n",
       "      <td>2019</td>\n",
       "      <td>[]</td>\n",
       "      <td>NO</td>\n",
       "    </tr>\n",
       "    <tr>\n",
       "      <th>4</th>\n",
       "      <td>The FAA to soon open the door to commercial us...</td>\n",
       "      <td>no</td>\n",
       "      <td>2016</td>\n",
       "      <td>['Technology', 'Stock Market']</td>\n",
       "      <td>YES</td>\n",
       "    </tr>\n",
       "    <tr>\n",
       "      <th>...</th>\n",
       "      <td>...</td>\n",
       "      <td>...</td>\n",
       "      <td>...</td>\n",
       "      <td>...</td>\n",
       "      <td>...</td>\n",
       "    </tr>\n",
       "    <tr>\n",
       "      <th>4458</th>\n",
       "      <td>Between 3 October 2019 and 29 November 2019, w...</td>\n",
       "      <td>no</td>\n",
       "      <td>2019</td>\n",
       "      <td>['Health and Epidemiology']</td>\n",
       "      <td>YES</td>\n",
       "    </tr>\n",
       "    <tr>\n",
       "      <th>4459</th>\n",
       "      <td>Will the PITF Worldwide Atrocities Dataset rec...</td>\n",
       "      <td>yes</td>\n",
       "      <td>2019</td>\n",
       "      <td>['Health and Epidemiology', 'Stock Market']</td>\n",
       "      <td>YES</td>\n",
       "    </tr>\n",
       "    <tr>\n",
       "      <th>4460</th>\n",
       "      <td>Will ACLED record any civilian fatalities in R...</td>\n",
       "      <td>yes</td>\n",
       "      <td>2019</td>\n",
       "      <td>['Health and Epidemiology', 'Stock Market']</td>\n",
       "      <td>YES</td>\n",
       "    </tr>\n",
       "    <tr>\n",
       "      <th>4461</th>\n",
       "      <td>Will ACLED record any civilian fatalities in S...</td>\n",
       "      <td>yes</td>\n",
       "      <td>2019</td>\n",
       "      <td>['Health and Epidemiology', 'Stock Market']</td>\n",
       "      <td>YES</td>\n",
       "    </tr>\n",
       "    <tr>\n",
       "      <th>4462</th>\n",
       "      <td>Will there be a significant day-over-day incre...</td>\n",
       "      <td>yes</td>\n",
       "      <td>2019</td>\n",
       "      <td>[]</td>\n",
       "      <td>YES</td>\n",
       "    </tr>\n",
       "  </tbody>\n",
       "</table>\n",
       "<p>4463 rows × 5 columns</p>\n",
       "</div>"
      ],
      "text/plain": [
       "                                           QuestionText Answer  Year  \\\n",
       "0     Will advanced LIGO announce discovery of gravi...     no  2016   \n",
       "1     Will SpaceX successfully land a Falcon 9 rocke...     no  2016   \n",
       "2     Will we confirm evidence for megastructures or...     no  2016   \n",
       "3     Will Lockheed Martin and Skunkworks announce a...     no  2019   \n",
       "4     The FAA to soon open the door to commercial us...     no  2016   \n",
       "...                                                 ...    ...   ...   \n",
       "4458  Between 3 October 2019 and 29 November 2019, w...     no  2019   \n",
       "4459  Will the PITF Worldwide Atrocities Dataset rec...    yes  2019   \n",
       "4460  Will ACLED record any civilian fatalities in R...    yes  2019   \n",
       "4461  Will ACLED record any civilian fatalities in S...    yes  2019   \n",
       "4462  Will there be a significant day-over-day incre...    yes  2019   \n",
       "\n",
       "                                             Categories Predictions  \n",
       "0                        ['Technology', 'Stock Market']          NO  \n",
       "1                                                    []         YES  \n",
       "2     ['Technology', 'Political', 'Sports', 'Health ...          NO  \n",
       "3                                                    []          NO  \n",
       "4                        ['Technology', 'Stock Market']         YES  \n",
       "...                                                 ...         ...  \n",
       "4458                        ['Health and Epidemiology']         YES  \n",
       "4459        ['Health and Epidemiology', 'Stock Market']         YES  \n",
       "4460        ['Health and Epidemiology', 'Stock Market']         YES  \n",
       "4461        ['Health and Epidemiology', 'Stock Market']         YES  \n",
       "4462                                                 []         YES  \n",
       "\n",
       "[4463 rows x 5 columns]"
      ]
     },
     "execution_count": 14,
     "metadata": {},
     "output_type": "execute_result"
    }
   ],
   "source": [
    "finalPredictions = []\n",
    "finalPredictions.extend(list(data1['predictions']))\n",
    "finalPredictions.extend(list(data2['predictions']))\n",
    "finalPredictions.extend(list(data3['predictions']))\n",
    "finalPredictions.extend(list(data4['predictions']))\n",
    "finalPredictions.extend(list(data5['predictions']))\n",
    "finalPredictions.extend(list(data6['predictions']))\n",
    "finalPredictions.extend(list(data7['predictions']))\n",
    "finalPredictions.extend(list(data8['predictions']))\n",
    "\n",
    "# Using WLM in varibale namings coz the model's name is WizardLM\n",
    "WLMPredictions = finalPredictions\n",
    "WLMTotal = questions.copy(deep=True)\n",
    "WLMTotal['Predictions'] = WLMPredictions\n",
    "WLMTotal"
   ]
  },
  {
   "cell_type": "markdown",
   "id": "6988d0c5",
   "metadata": {
    "id": "6988d0c5"
   },
   "source": [
    "### Total Predictions"
   ]
  },
  {
   "cell_type": "code",
   "execution_count": 15,
   "id": "364fa66b",
   "metadata": {
    "colab": {
     "base_uri": "https://localhost:8080/"
    },
    "id": "364fa66b",
    "outputId": "375d77b3-114e-44f3-89a3-8ad59407d8cf"
   },
   "outputs": [
    {
     "name": "stdout",
     "output_type": "stream",
     "text": [
      "Total None predictions: 0\n"
     ]
    },
    {
     "data": {
      "text/plain": [
       "array([[2517,  424],\n",
       "       [1159,  363]], dtype=int64)"
      ]
     },
     "execution_count": 15,
     "metadata": {},
     "output_type": "execute_result"
    }
   ],
   "source": [
    "yPredWLMTotal, yTrueWLMTotal, noneCountWLMTotal = makeCM(WLMTotal)\n",
    "print(f'Total None predictions: {noneCountWLMTotal}')\n",
    "confusion_matrix(yTrueWLMTotal, yPredWLMTotal)"
   ]
  },
  {
   "cell_type": "markdown",
   "id": "53c53ac8",
   "metadata": {
    "id": "53c53ac8"
   },
   "source": [
    "### Years"
   ]
  },
  {
   "cell_type": "code",
   "execution_count": 16,
   "id": "d3fda626",
   "metadata": {
    "id": "d3fda626"
   },
   "outputs": [],
   "source": [
    "WLMyearsData = {}\n",
    "for year in allYears:\n",
    "    yearData = WLMTotal[WLMTotal['Year']==year]\n",
    "    yearData = yearData.reset_index()\n",
    "    WLMyearsData[year] = makeCM(yearData)\n",
    "\n",
    "correct = []\n",
    "incorrect = []\n",
    "for year in WLMyearsData:\n",
    "    cm = confusion_matrix(WLMyearsData[year][1], WLMyearsData[year][0])\n",
    "    correct.append((cm[0][0]+cm[1][1]))\n",
    "    incorrect.append(np.sum(cm)-correct[-1])"
   ]
  },
  {
   "cell_type": "code",
   "execution_count": 17,
   "id": "88a8faa2",
   "metadata": {
    "colab": {
     "base_uri": "https://localhost:8080/",
     "height": 451
    },
    "id": "88a8faa2",
    "outputId": "9787ffcb-df81-41f0-eb81-1607075085fb"
   },
   "outputs": [
    {
     "data": {
      "image/png": "[encoded data removed]",
      "text/plain": [
       "<Figure size 640x480 with 1 Axes>"
      ]
     },
     "metadata": {},
     "output_type": "display_data"
    }
   ],
   "source": [
    "import matplotlib.pyplot as plt\n",
    "\n",
    "x = sorted(WLMyearsData)\n",
    "\n",
    "y1 = correct\n",
    "y2 = incorrect\n",
    "\n",
    "plt.bar(x, y1, color='g')\n",
    "plt.bar(x, y2, bottom=y1, color='r')\n",
    "plt.xticks(rotation=90)\n",
    "plt.show()"
   ]
  },
  {
   "cell_type": "markdown",
   "id": "5e486f71",
   "metadata": {
    "id": "5e486f71"
   },
   "source": [
    "### Categories"
   ]
  },
  {
   "cell_type": "code",
   "execution_count": 18,
   "id": "fbf8dd2f",
   "metadata": {
    "colab": {
     "base_uri": "https://localhost:8080/",
     "height": 950
    },
    "id": "fbf8dd2f",
    "outputId": "3ad3ff85-b9fc-4eb2-b8b5-4fb6fa5bac90"
   },
   "outputs": [
    {
     "name": "stderr",
     "output_type": "stream",
     "text": [
      "C:\\Users\\vetur\\AppData\\Local\\Temp\\ipykernel_16308\\3857081748.py:4: SettingWithCopyWarning: \n",
      "A value is trying to be set on a copy of a slice from a DataFrame\n",
      "\n",
      "See the caveats in the documentation: https://pandas.pydata.org/pandas-docs/stable/user_guide/indexing.html#returning-a-view-versus-a-copy\n",
      "  WLMTotal['Categories'][i] = ast.literal_eval(WLMTotal['Categories'][i])\n"
     ]
    },
    {
     "data": {
      "text/html": [
       "<div>\n",
       "<style scoped>\n",
       "    .dataframe tbody tr th:only-of-type {\n",
       "        vertical-align: middle;\n",
       "    }\n",
       "\n",
       "    .dataframe tbody tr th {\n",
       "        vertical-align: top;\n",
       "    }\n",
       "\n",
       "    .dataframe thead th {\n",
       "        text-align: right;\n",
       "    }\n",
       "</style>\n",
       "<table border=\"1\" class=\"dataframe\">\n",
       "  <thead>\n",
       "    <tr style=\"text-align: right;\">\n",
       "      <th></th>\n",
       "      <th>QuestionText</th>\n",
       "      <th>Answer</th>\n",
       "      <th>Year</th>\n",
       "      <th>Categories</th>\n",
       "      <th>Predictions</th>\n",
       "      <th>Technology</th>\n",
       "      <th>Political</th>\n",
       "      <th>Sports</th>\n",
       "      <th>Health and Epidemiology</th>\n",
       "      <th>Stock Market</th>\n",
       "      <th>Supply Chain</th>\n",
       "    </tr>\n",
       "  </thead>\n",
       "  <tbody>\n",
       "    <tr>\n",
       "      <th>0</th>\n",
       "      <td>Will advanced LIGO announce discovery of gravi...</td>\n",
       "      <td>no</td>\n",
       "      <td>2016</td>\n",
       "      <td>[Technology, Stock Market]</td>\n",
       "      <td>NO</td>\n",
       "      <td>True</td>\n",
       "      <td>False</td>\n",
       "      <td>False</td>\n",
       "      <td>False</td>\n",
       "      <td>True</td>\n",
       "      <td>False</td>\n",
       "    </tr>\n",
       "    <tr>\n",
       "      <th>1</th>\n",
       "      <td>Will SpaceX successfully land a Falcon 9 rocke...</td>\n",
       "      <td>no</td>\n",
       "      <td>2016</td>\n",
       "      <td>[]</td>\n",
       "      <td>YES</td>\n",
       "      <td>False</td>\n",
       "      <td>False</td>\n",
       "      <td>False</td>\n",
       "      <td>False</td>\n",
       "      <td>False</td>\n",
       "      <td>False</td>\n",
       "    </tr>\n",
       "    <tr>\n",
       "      <th>2</th>\n",
       "      <td>Will we confirm evidence for megastructures or...</td>\n",
       "      <td>no</td>\n",
       "      <td>2016</td>\n",
       "      <td>[Technology, Political, Sports, Health and Epi...</td>\n",
       "      <td>NO</td>\n",
       "      <td>True</td>\n",
       "      <td>True</td>\n",
       "      <td>True</td>\n",
       "      <td>True</td>\n",
       "      <td>True</td>\n",
       "      <td>True</td>\n",
       "    </tr>\n",
       "    <tr>\n",
       "      <th>3</th>\n",
       "      <td>Will Lockheed Martin and Skunkworks announce a...</td>\n",
       "      <td>no</td>\n",
       "      <td>2019</td>\n",
       "      <td>[]</td>\n",
       "      <td>NO</td>\n",
       "      <td>False</td>\n",
       "      <td>False</td>\n",
       "      <td>False</td>\n",
       "      <td>False</td>\n",
       "      <td>False</td>\n",
       "      <td>False</td>\n",
       "    </tr>\n",
       "    <tr>\n",
       "      <th>4</th>\n",
       "      <td>The FAA to soon open the door to commercial us...</td>\n",
       "      <td>no</td>\n",
       "      <td>2016</td>\n",
       "      <td>[Technology, Stock Market]</td>\n",
       "      <td>YES</td>\n",
       "      <td>True</td>\n",
       "      <td>False</td>\n",
       "      <td>False</td>\n",
       "      <td>False</td>\n",
       "      <td>True</td>\n",
       "      <td>False</td>\n",
       "    </tr>\n",
       "    <tr>\n",
       "      <th>...</th>\n",
       "      <td>...</td>\n",
       "      <td>...</td>\n",
       "      <td>...</td>\n",
       "      <td>...</td>\n",
       "      <td>...</td>\n",
       "      <td>...</td>\n",
       "      <td>...</td>\n",
       "      <td>...</td>\n",
       "      <td>...</td>\n",
       "      <td>...</td>\n",
       "      <td>...</td>\n",
       "    </tr>\n",
       "    <tr>\n",
       "      <th>4458</th>\n",
       "      <td>Between 3 October 2019 and 29 November 2019, w...</td>\n",
       "      <td>no</td>\n",
       "      <td>2019</td>\n",
       "      <td>[Health and Epidemiology]</td>\n",
       "      <td>YES</td>\n",
       "      <td>False</td>\n",
       "      <td>False</td>\n",
       "      <td>False</td>\n",
       "      <td>True</td>\n",
       "      <td>False</td>\n",
       "      <td>False</td>\n",
       "    </tr>\n",
       "    <tr>\n",
       "      <th>4459</th>\n",
       "      <td>Will the PITF Worldwide Atrocities Dataset rec...</td>\n",
       "      <td>yes</td>\n",
       "      <td>2019</td>\n",
       "      <td>[Health and Epidemiology, Stock Market]</td>\n",
       "      <td>YES</td>\n",
       "      <td>False</td>\n",
       "      <td>False</td>\n",
       "      <td>False</td>\n",
       "      <td>True</td>\n",
       "      <td>True</td>\n",
       "      <td>False</td>\n",
       "    </tr>\n",
       "    <tr>\n",
       "      <th>4460</th>\n",
       "      <td>Will ACLED record any civilian fatalities in R...</td>\n",
       "      <td>yes</td>\n",
       "      <td>2019</td>\n",
       "      <td>[Health and Epidemiology, Stock Market]</td>\n",
       "      <td>YES</td>\n",
       "      <td>False</td>\n",
       "      <td>False</td>\n",
       "      <td>False</td>\n",
       "      <td>True</td>\n",
       "      <td>True</td>\n",
       "      <td>False</td>\n",
       "    </tr>\n",
       "    <tr>\n",
       "      <th>4461</th>\n",
       "      <td>Will ACLED record any civilian fatalities in S...</td>\n",
       "      <td>yes</td>\n",
       "      <td>2019</td>\n",
       "      <td>[Health and Epidemiology, Stock Market]</td>\n",
       "      <td>YES</td>\n",
       "      <td>False</td>\n",
       "      <td>False</td>\n",
       "      <td>False</td>\n",
       "      <td>True</td>\n",
       "      <td>True</td>\n",
       "      <td>False</td>\n",
       "    </tr>\n",
       "    <tr>\n",
       "      <th>4462</th>\n",
       "      <td>Will there be a significant day-over-day incre...</td>\n",
       "      <td>yes</td>\n",
       "      <td>2019</td>\n",
       "      <td>[]</td>\n",
       "      <td>YES</td>\n",
       "      <td>False</td>\n",
       "      <td>False</td>\n",
       "      <td>False</td>\n",
       "      <td>False</td>\n",
       "      <td>False</td>\n",
       "      <td>False</td>\n",
       "    </tr>\n",
       "  </tbody>\n",
       "</table>\n",
       "<p>4463 rows × 11 columns</p>\n",
       "</div>"
      ],
      "text/plain": [
       "                                           QuestionText Answer  Year  \\\n",
       "0     Will advanced LIGO announce discovery of gravi...     no  2016   \n",
       "1     Will SpaceX successfully land a Falcon 9 rocke...     no  2016   \n",
       "2     Will we confirm evidence for megastructures or...     no  2016   \n",
       "3     Will Lockheed Martin and Skunkworks announce a...     no  2019   \n",
       "4     The FAA to soon open the door to commercial us...     no  2016   \n",
       "...                                                 ...    ...   ...   \n",
       "4458  Between 3 October 2019 and 29 November 2019, w...     no  2019   \n",
       "4459  Will the PITF Worldwide Atrocities Dataset rec...    yes  2019   \n",
       "4460  Will ACLED record any civilian fatalities in R...    yes  2019   \n",
       "4461  Will ACLED record any civilian fatalities in S...    yes  2019   \n",
       "4462  Will there be a significant day-over-day incre...    yes  2019   \n",
       "\n",
       "                                             Categories Predictions  \\\n",
       "0                            [Technology, Stock Market]          NO   \n",
       "1                                                    []         YES   \n",
       "2     [Technology, Political, Sports, Health and Epi...          NO   \n",
       "3                                                    []          NO   \n",
       "4                            [Technology, Stock Market]         YES   \n",
       "...                                                 ...         ...   \n",
       "4458                          [Health and Epidemiology]         YES   \n",
       "4459            [Health and Epidemiology, Stock Market]         YES   \n",
       "4460            [Health and Epidemiology, Stock Market]         YES   \n",
       "4461            [Health and Epidemiology, Stock Market]         YES   \n",
       "4462                                                 []         YES   \n",
       "\n",
       "      Technology  Political  Sports  Health and Epidemiology  Stock Market  \\\n",
       "0           True      False   False                    False          True   \n",
       "1          False      False   False                    False         False   \n",
       "2           True       True    True                     True          True   \n",
       "3          False      False   False                    False         False   \n",
       "4           True      False   False                    False          True   \n",
       "...          ...        ...     ...                      ...           ...   \n",
       "4458       False      False   False                     True         False   \n",
       "4459       False      False   False                     True          True   \n",
       "4460       False      False   False                     True          True   \n",
       "4461       False      False   False                     True          True   \n",
       "4462       False      False   False                    False         False   \n",
       "\n",
       "      Supply Chain  \n",
       "0            False  \n",
       "1            False  \n",
       "2             True  \n",
       "3            False  \n",
       "4            False  \n",
       "...            ...  \n",
       "4458         False  \n",
       "4459         False  \n",
       "4460         False  \n",
       "4461         False  \n",
       "4462         False  \n",
       "\n",
       "[4463 rows x 11 columns]"
      ]
     },
     "execution_count": 18,
     "metadata": {},
     "output_type": "execute_result"
    }
   ],
   "source": [
    "present = {cat:[] for cat in allCategories}\n",
    "\n",
    "for i in range(len(WLMTotal['Categories'])):\n",
    "    WLMTotal['Categories'][i] = ast.literal_eval(WLMTotal['Categories'][i])\n",
    "    for cat in present:\n",
    "        if cat in WLMTotal['Categories'][i]:\n",
    "            present[cat].append(True)\n",
    "        else:\n",
    "            present[cat].append(False)\n",
    "\n",
    "for cat in present:\n",
    "    WLMTotal[cat] = present[cat]\n",
    "WLMTotal"
   ]
  },
  {
   "cell_type": "code",
   "execution_count": 19,
   "id": "a4b1b303",
   "metadata": {
    "id": "a4b1b303"
   },
   "outputs": [],
   "source": [
    "WLMcategoriesData = {}\n",
    "for category in allCategories:\n",
    "    categoryData = WLMTotal[WLMTotal[category]]\n",
    "    categoryData = categoryData.reset_index()\n",
    "    WLMcategoriesData[category] = makeCM(categoryData)\n",
    "\n",
    "correct_cat = []\n",
    "incorrect_cat = []\n",
    "for category in sorted(WLMcategoriesData):\n",
    "    cm = confusion_matrix(WLMcategoriesData[category][1], WLMcategoriesData[category][0])\n",
    "    correct_cat.append((cm[0][0]+cm[1][1])/np.sum(cm))\n",
    "    incorrect_cat.append(1-correct_cat[-1])"
   ]
  },
  {
   "cell_type": "code",
   "execution_count": 20,
   "id": "b3f73c5b",
   "metadata": {
    "colab": {
     "base_uri": "https://localhost:8080/",
     "height": 633
    },
    "id": "b3f73c5b",
    "outputId": "7c91ec0e-9e89-45c9-85f0-904cc1e4f535"
   },
   "outputs": [
    {
     "data": {
      "image/png": "[encoded data removed]",
      "text/plain": [
       "<Figure size 640x480 with 1 Axes>"
      ]
     },
     "metadata": {},
     "output_type": "display_data"
    }
   ],
   "source": [
    "import matplotlib.pyplot as plt\n",
    "\n",
    "x = sorted(WLMcategoriesData)\n",
    "y1 = correct_cat\n",
    "\n",
    "plt.plot(x, y1, color='b', marker='o')  # 'o' adds markers to data points\n",
    "plt.xticks(rotation=90)\n",
    "plt.ylim(0, 1)\n",
    "plt.xlabel('X-axis Label')  # Add a label for the X-axis\n",
    "plt.ylabel('Y-axis Label')  # Add a label for the Y-axis\n",
    "plt.title('Line Chart')  # Add a title for the chart\n",
    "plt.show()\n"
   ]
  },
  {
   "cell_type": "markdown",
   "id": "63868c70",
   "metadata": {
    "id": "63868c70"
   },
   "source": [
    "### Hermes"
   ]
  },
  {
   "cell_type": "code",
   "execution_count": 21,
   "id": "40bc8bf9",
   "metadata": {
    "colab": {
     "base_uri": "https://localhost:8080/",
     "height": 424
    },
    "id": "40bc8bf9",
    "outputId": "2b158173-1784-454c-8a19-0ad2c102bc94"
   },
   "outputs": [
    {
     "data": {
      "text/html": [
       "<div>\n",
       "<style scoped>\n",
       "    .dataframe tbody tr th:only-of-type {\n",
       "        vertical-align: middle;\n",
       "    }\n",
       "\n",
       "    .dataframe tbody tr th {\n",
       "        vertical-align: top;\n",
       "    }\n",
       "\n",
       "    .dataframe thead th {\n",
       "        text-align: right;\n",
       "    }\n",
       "</style>\n",
       "<table border=\"1\" class=\"dataframe\">\n",
       "  <thead>\n",
       "    <tr style=\"text-align: right;\">\n",
       "      <th></th>\n",
       "      <th>QuestionText</th>\n",
       "      <th>Answer</th>\n",
       "      <th>Year</th>\n",
       "      <th>Categories</th>\n",
       "      <th>Predictions</th>\n",
       "    </tr>\n",
       "  </thead>\n",
       "  <tbody>\n",
       "    <tr>\n",
       "      <th>0</th>\n",
       "      <td>Will advanced LIGO announce discovery of gravi...</td>\n",
       "      <td>no</td>\n",
       "      <td>2016</td>\n",
       "      <td>['Technology', 'Stock Market']</td>\n",
       "      <td>YES</td>\n",
       "    </tr>\n",
       "    <tr>\n",
       "      <th>1</th>\n",
       "      <td>Will SpaceX successfully land a Falcon 9 rocke...</td>\n",
       "      <td>no</td>\n",
       "      <td>2016</td>\n",
       "      <td>[]</td>\n",
       "      <td>YES</td>\n",
       "    </tr>\n",
       "    <tr>\n",
       "      <th>2</th>\n",
       "      <td>Will we confirm evidence for megastructures or...</td>\n",
       "      <td>no</td>\n",
       "      <td>2016</td>\n",
       "      <td>['Technology', 'Political', 'Sports', 'Health ...</td>\n",
       "      <td>YES.</td>\n",
       "    </tr>\n",
       "    <tr>\n",
       "      <th>3</th>\n",
       "      <td>Will Lockheed Martin and Skunkworks announce a...</td>\n",
       "      <td>no</td>\n",
       "      <td>2019</td>\n",
       "      <td>[]</td>\n",
       "      <td>YES</td>\n",
       "    </tr>\n",
       "    <tr>\n",
       "      <th>4</th>\n",
       "      <td>The FAA to soon open the door to commercial us...</td>\n",
       "      <td>no</td>\n",
       "      <td>2016</td>\n",
       "      <td>['Technology', 'Stock Market']</td>\n",
       "      <td>YES.</td>\n",
       "    </tr>\n",
       "    <tr>\n",
       "      <th>...</th>\n",
       "      <td>...</td>\n",
       "      <td>...</td>\n",
       "      <td>...</td>\n",
       "      <td>...</td>\n",
       "      <td>...</td>\n",
       "    </tr>\n",
       "    <tr>\n",
       "      <th>4458</th>\n",
       "      <td>Between 3 October 2019 and 29 November 2019, w...</td>\n",
       "      <td>no</td>\n",
       "      <td>2019</td>\n",
       "      <td>['Health and Epidemiology']</td>\n",
       "      <td>YES.</td>\n",
       "    </tr>\n",
       "    <tr>\n",
       "      <th>4459</th>\n",
       "      <td>Will the PITF Worldwide Atrocities Dataset rec...</td>\n",
       "      <td>yes</td>\n",
       "      <td>2019</td>\n",
       "      <td>['Health and Epidemiology', 'Stock Market']</td>\n",
       "      <td>YES.</td>\n",
       "    </tr>\n",
       "    <tr>\n",
       "      <th>4460</th>\n",
       "      <td>Will ACLED record any civilian fatalities in R...</td>\n",
       "      <td>yes</td>\n",
       "      <td>2019</td>\n",
       "      <td>['Health and Epidemiology', 'Stock Market']</td>\n",
       "      <td>YES.</td>\n",
       "    </tr>\n",
       "    <tr>\n",
       "      <th>4461</th>\n",
       "      <td>Will ACLED record any civilian fatalities in S...</td>\n",
       "      <td>yes</td>\n",
       "      <td>2019</td>\n",
       "      <td>['Health and Epidemiology', 'Stock Market']</td>\n",
       "      <td>YES.</td>\n",
       "    </tr>\n",
       "    <tr>\n",
       "      <th>4462</th>\n",
       "      <td>Will there be a significant day-over-day incre...</td>\n",
       "      <td>yes</td>\n",
       "      <td>2019</td>\n",
       "      <td>[]</td>\n",
       "      <td>YES</td>\n",
       "    </tr>\n",
       "  </tbody>\n",
       "</table>\n",
       "<p>4463 rows × 5 columns</p>\n",
       "</div>"
      ],
      "text/plain": [
       "                                           QuestionText Answer  Year  \\\n",
       "0     Will advanced LIGO announce discovery of gravi...     no  2016   \n",
       "1     Will SpaceX successfully land a Falcon 9 rocke...     no  2016   \n",
       "2     Will we confirm evidence for megastructures or...     no  2016   \n",
       "3     Will Lockheed Martin and Skunkworks announce a...     no  2019   \n",
       "4     The FAA to soon open the door to commercial us...     no  2016   \n",
       "...                                                 ...    ...   ...   \n",
       "4458  Between 3 October 2019 and 29 November 2019, w...     no  2019   \n",
       "4459  Will the PITF Worldwide Atrocities Dataset rec...    yes  2019   \n",
       "4460  Will ACLED record any civilian fatalities in R...    yes  2019   \n",
       "4461  Will ACLED record any civilian fatalities in S...    yes  2019   \n",
       "4462  Will there be a significant day-over-day incre...    yes  2019   \n",
       "\n",
       "                                             Categories Predictions  \n",
       "0                        ['Technology', 'Stock Market']         YES  \n",
       "1                                                    []         YES  \n",
       "2     ['Technology', 'Political', 'Sports', 'Health ...        YES.  \n",
       "3                                                    []         YES  \n",
       "4                        ['Technology', 'Stock Market']        YES.  \n",
       "...                                                 ...         ...  \n",
       "4458                        ['Health and Epidemiology']        YES.  \n",
       "4459        ['Health and Epidemiology', 'Stock Market']        YES.  \n",
       "4460        ['Health and Epidemiology', 'Stock Market']        YES.  \n",
       "4461        ['Health and Epidemiology', 'Stock Market']        YES.  \n",
       "4462                                                 []         YES  \n",
       "\n",
       "[4463 rows x 5 columns]"
      ]
     },
     "execution_count": 21,
     "metadata": {},
     "output_type": "execute_result"
    }
   ],
   "source": [
    "hermesData = pd.read_csv('data/Binary/hermesPredictions0-4462.csv')\n",
    "hermesPredictions = hermesData['predictions']\n",
    "hermesTotal = questions.copy(deep=True)\n",
    "hermesTotal['Predictions'] = hermesPredictions\n",
    "hermesTotal"
   ]
  },
  {
   "cell_type": "code",
   "execution_count": 22,
   "id": "LevRG-YuBAQf",
   "metadata": {
    "colab": {
     "base_uri": "https://localhost:8080/"
    },
    "id": "LevRG-YuBAQf",
    "outputId": "44014ed3-f37c-4394-d397-f3ee44434fa3"
   },
   "outputs": [
    {
     "name": "stdout",
     "output_type": "stream",
     "text": [
      "Total None predictions: 0\n"
     ]
    },
    {
     "data": {
      "text/plain": [
       "array([[ 107, 2834],\n",
       "       [  60, 1462]], dtype=int64)"
      ]
     },
     "execution_count": 22,
     "metadata": {},
     "output_type": "execute_result"
    }
   ],
   "source": [
    "yPredhermesTotal, yTruehermesTotal, noneCounthermesTotal = makeCM(hermesTotal)\n",
    "print(f'Total None predictions: {noneCounthermesTotal}')\n",
    "confusion_matrix(yTruehermesTotal, yPredhermesTotal)"
   ]
  },
  {
   "cell_type": "code",
   "execution_count": 23,
   "id": "9Um_kOLlBYUJ",
   "metadata": {
    "id": "9Um_kOLlBYUJ"
   },
   "outputs": [],
   "source": [
    "hermesyearsData = {}\n",
    "for year in allYears:\n",
    "    yearData = hermesTotal[hermesTotal['Year']==year]\n",
    "    yearData = yearData.reset_index()\n",
    "    hermesyearsData[year] = makeCM(yearData)\n",
    "\n",
    "hermes_correct = []\n",
    "hermes_incorrect = []\n",
    "for year in hermesyearsData:\n",
    "    cm = confusion_matrix(hermesyearsData[year][1], hermesyearsData[year][0])\n",
    "    hermes_correct.append((cm[0][0]+cm[1][1]))\n",
    "    hermes_incorrect.append(np.sum(cm)-hermes_correct[-1])\n"
   ]
  },
  {
   "cell_type": "code",
   "execution_count": 24,
   "id": "bqjVM5UfB0X2",
   "metadata": {
    "colab": {
     "base_uri": "https://localhost:8080/",
     "height": 451
    },
    "id": "bqjVM5UfB0X2",
    "outputId": "d29c2c18-106e-4b00-afd1-bddd778f2c91"
   },
   "outputs": [
    {
     "data": {
      "image/png": "[encoded data removed]",
      "text/plain": [
       "<Figure size 640x480 with 1 Axes>"
      ]
     },
     "metadata": {},
     "output_type": "display_data"
    }
   ],
   "source": [
    "import matplotlib.pyplot as plt\n",
    "\n",
    "x = sorted(hermesyearsData)\n",
    "\n",
    "y1 = hermes_correct\n",
    "y2 = hermes_incorrect\n",
    "\n",
    "plt.bar(x, y1, color='g')\n",
    "plt.bar(x, y2, bottom=y1, color='r')\n",
    "plt.xticks(rotation=90)\n",
    "plt.show()"
   ]
  },
  {
   "cell_type": "markdown",
   "id": "tHBOPyyzxke9",
   "metadata": {
    "id": "tHBOPyyzxke9"
   },
   "source": [
    "CATEGORIES\n"
   ]
  },
  {
   "cell_type": "code",
   "execution_count": 25,
   "id": "DRTwfEbrCagr",
   "metadata": {
    "colab": {
     "base_uri": "https://localhost:8080/",
     "height": 950
    },
    "id": "DRTwfEbrCagr",
    "outputId": "f5897ee8-f018-4252-d0e3-2bf8fa40f37c"
   },
   "outputs": [
    {
     "name": "stderr",
     "output_type": "stream",
     "text": [
      "C:\\Users\\vetur\\AppData\\Local\\Temp\\ipykernel_16308\\1117457870.py:4: SettingWithCopyWarning: \n",
      "A value is trying to be set on a copy of a slice from a DataFrame\n",
      "\n",
      "See the caveats in the documentation: https://pandas.pydata.org/pandas-docs/stable/user_guide/indexing.html#returning-a-view-versus-a-copy\n",
      "  hermesTotal['Categories'][i] = ast.literal_eval(hermesTotal['Categories'][i])\n"
     ]
    },
    {
     "data": {
      "text/html": [
       "<div>\n",
       "<style scoped>\n",
       "    .dataframe tbody tr th:only-of-type {\n",
       "        vertical-align: middle;\n",
       "    }\n",
       "\n",
       "    .dataframe tbody tr th {\n",
       "        vertical-align: top;\n",
       "    }\n",
       "\n",
       "    .dataframe thead th {\n",
       "        text-align: right;\n",
       "    }\n",
       "</style>\n",
       "<table border=\"1\" class=\"dataframe\">\n",
       "  <thead>\n",
       "    <tr style=\"text-align: right;\">\n",
       "      <th></th>\n",
       "      <th>QuestionText</th>\n",
       "      <th>Answer</th>\n",
       "      <th>Year</th>\n",
       "      <th>Categories</th>\n",
       "      <th>Predictions</th>\n",
       "      <th>Technology</th>\n",
       "      <th>Political</th>\n",
       "      <th>Sports</th>\n",
       "      <th>Health and Epidemiology</th>\n",
       "      <th>Stock Market</th>\n",
       "      <th>Supply Chain</th>\n",
       "    </tr>\n",
       "  </thead>\n",
       "  <tbody>\n",
       "    <tr>\n",
       "      <th>0</th>\n",
       "      <td>Will advanced LIGO announce discovery of gravi...</td>\n",
       "      <td>no</td>\n",
       "      <td>2016</td>\n",
       "      <td>[Technology, Stock Market]</td>\n",
       "      <td>YES</td>\n",
       "      <td>True</td>\n",
       "      <td>False</td>\n",
       "      <td>False</td>\n",
       "      <td>False</td>\n",
       "      <td>True</td>\n",
       "      <td>False</td>\n",
       "    </tr>\n",
       "    <tr>\n",
       "      <th>1</th>\n",
       "      <td>Will SpaceX successfully land a Falcon 9 rocke...</td>\n",
       "      <td>no</td>\n",
       "      <td>2016</td>\n",
       "      <td>[]</td>\n",
       "      <td>YES</td>\n",
       "      <td>False</td>\n",
       "      <td>False</td>\n",
       "      <td>False</td>\n",
       "      <td>False</td>\n",
       "      <td>False</td>\n",
       "      <td>False</td>\n",
       "    </tr>\n",
       "    <tr>\n",
       "      <th>2</th>\n",
       "      <td>Will we confirm evidence for megastructures or...</td>\n",
       "      <td>no</td>\n",
       "      <td>2016</td>\n",
       "      <td>[Technology, Political, Sports, Health and Epi...</td>\n",
       "      <td>YES.</td>\n",
       "      <td>True</td>\n",
       "      <td>True</td>\n",
       "      <td>True</td>\n",
       "      <td>True</td>\n",
       "      <td>True</td>\n",
       "      <td>True</td>\n",
       "    </tr>\n",
       "    <tr>\n",
       "      <th>3</th>\n",
       "      <td>Will Lockheed Martin and Skunkworks announce a...</td>\n",
       "      <td>no</td>\n",
       "      <td>2019</td>\n",
       "      <td>[]</td>\n",
       "      <td>YES</td>\n",
       "      <td>False</td>\n",
       "      <td>False</td>\n",
       "      <td>False</td>\n",
       "      <td>False</td>\n",
       "      <td>False</td>\n",
       "      <td>False</td>\n",
       "    </tr>\n",
       "    <tr>\n",
       "      <th>4</th>\n",
       "      <td>The FAA to soon open the door to commercial us...</td>\n",
       "      <td>no</td>\n",
       "      <td>2016</td>\n",
       "      <td>[Technology, Stock Market]</td>\n",
       "      <td>YES.</td>\n",
       "      <td>True</td>\n",
       "      <td>False</td>\n",
       "      <td>False</td>\n",
       "      <td>False</td>\n",
       "      <td>True</td>\n",
       "      <td>False</td>\n",
       "    </tr>\n",
       "    <tr>\n",
       "      <th>...</th>\n",
       "      <td>...</td>\n",
       "      <td>...</td>\n",
       "      <td>...</td>\n",
       "      <td>...</td>\n",
       "      <td>...</td>\n",
       "      <td>...</td>\n",
       "      <td>...</td>\n",
       "      <td>...</td>\n",
       "      <td>...</td>\n",
       "      <td>...</td>\n",
       "      <td>...</td>\n",
       "    </tr>\n",
       "    <tr>\n",
       "      <th>4458</th>\n",
       "      <td>Between 3 October 2019 and 29 November 2019, w...</td>\n",
       "      <td>no</td>\n",
       "      <td>2019</td>\n",
       "      <td>[Health and Epidemiology]</td>\n",
       "      <td>YES.</td>\n",
       "      <td>False</td>\n",
       "      <td>False</td>\n",
       "      <td>False</td>\n",
       "      <td>True</td>\n",
       "      <td>False</td>\n",
       "      <td>False</td>\n",
       "    </tr>\n",
       "    <tr>\n",
       "      <th>4459</th>\n",
       "      <td>Will the PITF Worldwide Atrocities Dataset rec...</td>\n",
       "      <td>yes</td>\n",
       "      <td>2019</td>\n",
       "      <td>[Health and Epidemiology, Stock Market]</td>\n",
       "      <td>YES.</td>\n",
       "      <td>False</td>\n",
       "      <td>False</td>\n",
       "      <td>False</td>\n",
       "      <td>True</td>\n",
       "      <td>True</td>\n",
       "      <td>False</td>\n",
       "    </tr>\n",
       "    <tr>\n",
       "      <th>4460</th>\n",
       "      <td>Will ACLED record any civilian fatalities in R...</td>\n",
       "      <td>yes</td>\n",
       "      <td>2019</td>\n",
       "      <td>[Health and Epidemiology, Stock Market]</td>\n",
       "      <td>YES.</td>\n",
       "      <td>False</td>\n",
       "      <td>False</td>\n",
       "      <td>False</td>\n",
       "      <td>True</td>\n",
       "      <td>True</td>\n",
       "      <td>False</td>\n",
       "    </tr>\n",
       "    <tr>\n",
       "      <th>4461</th>\n",
       "      <td>Will ACLED record any civilian fatalities in S...</td>\n",
       "      <td>yes</td>\n",
       "      <td>2019</td>\n",
       "      <td>[Health and Epidemiology, Stock Market]</td>\n",
       "      <td>YES.</td>\n",
       "      <td>False</td>\n",
       "      <td>False</td>\n",
       "      <td>False</td>\n",
       "      <td>True</td>\n",
       "      <td>True</td>\n",
       "      <td>False</td>\n",
       "    </tr>\n",
       "    <tr>\n",
       "      <th>4462</th>\n",
       "      <td>Will there be a significant day-over-day incre...</td>\n",
       "      <td>yes</td>\n",
       "      <td>2019</td>\n",
       "      <td>[]</td>\n",
       "      <td>YES</td>\n",
       "      <td>False</td>\n",
       "      <td>False</td>\n",
       "      <td>False</td>\n",
       "      <td>False</td>\n",
       "      <td>False</td>\n",
       "      <td>False</td>\n",
       "    </tr>\n",
       "  </tbody>\n",
       "</table>\n",
       "<p>4463 rows × 11 columns</p>\n",
       "</div>"
      ],
      "text/plain": [
       "                                           QuestionText Answer  Year  \\\n",
       "0     Will advanced LIGO announce discovery of gravi...     no  2016   \n",
       "1     Will SpaceX successfully land a Falcon 9 rocke...     no  2016   \n",
       "2     Will we confirm evidence for megastructures or...     no  2016   \n",
       "3     Will Lockheed Martin and Skunkworks announce a...     no  2019   \n",
       "4     The FAA to soon open the door to commercial us...     no  2016   \n",
       "...                                                 ...    ...   ...   \n",
       "4458  Between 3 October 2019 and 29 November 2019, w...     no  2019   \n",
       "4459  Will the PITF Worldwide Atrocities Dataset rec...    yes  2019   \n",
       "4460  Will ACLED record any civilian fatalities in R...    yes  2019   \n",
       "4461  Will ACLED record any civilian fatalities in S...    yes  2019   \n",
       "4462  Will there be a significant day-over-day incre...    yes  2019   \n",
       "\n",
       "                                             Categories Predictions  \\\n",
       "0                            [Technology, Stock Market]         YES   \n",
       "1                                                    []         YES   \n",
       "2     [Technology, Political, Sports, Health and Epi...        YES.   \n",
       "3                                                    []         YES   \n",
       "4                            [Technology, Stock Market]        YES.   \n",
       "...                                                 ...         ...   \n",
       "4458                          [Health and Epidemiology]        YES.   \n",
       "4459            [Health and Epidemiology, Stock Market]        YES.   \n",
       "4460            [Health and Epidemiology, Stock Market]        YES.   \n",
       "4461            [Health and Epidemiology, Stock Market]        YES.   \n",
       "4462                                                 []         YES   \n",
       "\n",
       "      Technology  Political  Sports  Health and Epidemiology  Stock Market  \\\n",
       "0           True      False   False                    False          True   \n",
       "1          False      False   False                    False         False   \n",
       "2           True       True    True                     True          True   \n",
       "3          False      False   False                    False         False   \n",
       "4           True      False   False                    False          True   \n",
       "...          ...        ...     ...                      ...           ...   \n",
       "4458       False      False   False                     True         False   \n",
       "4459       False      False   False                     True          True   \n",
       "4460       False      False   False                     True          True   \n",
       "4461       False      False   False                     True          True   \n",
       "4462       False      False   False                    False         False   \n",
       "\n",
       "      Supply Chain  \n",
       "0            False  \n",
       "1            False  \n",
       "2             True  \n",
       "3            False  \n",
       "4            False  \n",
       "...            ...  \n",
       "4458         False  \n",
       "4459         False  \n",
       "4460         False  \n",
       "4461         False  \n",
       "4462         False  \n",
       "\n",
       "[4463 rows x 11 columns]"
      ]
     },
     "execution_count": 25,
     "metadata": {},
     "output_type": "execute_result"
    }
   ],
   "source": [
    "hermes_present = {cat:[] for cat in allCategories}\n",
    "\n",
    "for i in range(len(hermesTotal['Categories'])):\n",
    "    hermesTotal['Categories'][i] = ast.literal_eval(hermesTotal['Categories'][i])\n",
    "    for cat in present:\n",
    "        if cat in hermesTotal['Categories'][i]:\n",
    "            hermes_present[cat].append(True)\n",
    "        else:\n",
    "            hermes_present[cat].append(False)\n",
    "\n",
    "for cat in hermes_present:\n",
    "    hermesTotal[cat] = hermes_present[cat]\n",
    "hermesTotal\n"
   ]
  },
  {
   "cell_type": "code",
   "execution_count": 26,
   "id": "S_E4OkYbyr2u",
   "metadata": {
    "id": "S_E4OkYbyr2u"
   },
   "outputs": [],
   "source": [
    "hermescategoriesData = {}\n",
    "for category in allCategories:\n",
    "    categoryData = hermesTotal[hermesTotal[category]]\n",
    "    categoryData = categoryData.reset_index()\n",
    "    hermescategoriesData[category] = makeCM(categoryData)\n",
    "\n",
    "hermes_correct_cat = []\n",
    "hermes_incorrect_cat = []\n",
    "for category in sorted(hermescategoriesData):\n",
    "    cm = confusion_matrix(hermescategoriesData[category][1], hermescategoriesData[category][0])\n",
    "    hermes_correct_cat.append((cm[0][0]+cm[1][1])/np.sum(cm))\n",
    "    hermes_incorrect_cat.append(1-hermes_correct_cat[-1])\n"
   ]
  },
  {
   "cell_type": "code",
   "execution_count": 27,
   "id": "Z7LRmJJMzvB1",
   "metadata": {
    "colab": {
     "base_uri": "https://localhost:8080/",
     "height": 633
    },
    "id": "Z7LRmJJMzvB1",
    "outputId": "4555b74a-6fb9-48af-d45b-4d03ab2e0172"
   },
   "outputs": [
    {
     "data": {
      "image/png": "[encoded data removed]",
      "text/plain": [
       "<Figure size 640x480 with 1 Axes>"
      ]
     },
     "metadata": {},
     "output_type": "display_data"
    }
   ],
   "source": [
    "import matplotlib.pyplot as plt\n",
    "\n",
    "x = sorted(hermescategoriesData)\n",
    "y1 = hermes_correct_cat\n",
    "\n",
    "plt.plot(x, y1, color='b', marker='o')  # 'o' adds markers to data points\n",
    "plt.xticks(rotation=90)\n",
    "plt.ylim(0, 1)\n",
    "plt.xlabel('X-axis Label')  # Add a label for the X-axis\n",
    "plt.ylabel('Y-axis Label')  # Add a label for the Y-axis\n",
    "plt.title('Line Chart')  # Add a title for the chart\n",
    "plt.show()"
   ]
  },
  {
   "cell_type": "markdown",
   "id": "60fb4c95",
   "metadata": {
    "id": "60fb4c95"
   },
   "source": [
    "### Falcon"
   ]
  },
  {
   "cell_type": "code",
   "execution_count": 28,
   "id": "e9c44684",
   "metadata": {
    "colab": {
     "base_uri": "https://localhost:8080/",
     "height": 580
    },
    "id": "e9c44684",
    "outputId": "04f6a761-6a65-4854-f3ed-ec37c1e28d57"
   },
   "outputs": [
    {
     "data": {
      "text/html": [
       "<div>\n",
       "<style scoped>\n",
       "    .dataframe tbody tr th:only-of-type {\n",
       "        vertical-align: middle;\n",
       "    }\n",
       "\n",
       "    .dataframe tbody tr th {\n",
       "        vertical-align: top;\n",
       "    }\n",
       "\n",
       "    .dataframe thead th {\n",
       "        text-align: right;\n",
       "    }\n",
       "</style>\n",
       "<table border=\"1\" class=\"dataframe\">\n",
       "  <thead>\n",
       "    <tr style=\"text-align: right;\">\n",
       "      <th></th>\n",
       "      <th>QuestionText</th>\n",
       "      <th>Answer</th>\n",
       "      <th>Year</th>\n",
       "      <th>Categories</th>\n",
       "      <th>Predictions</th>\n",
       "    </tr>\n",
       "  </thead>\n",
       "  <tbody>\n",
       "    <tr>\n",
       "      <th>0</th>\n",
       "      <td>Will advanced LIGO announce discovery of gravi...</td>\n",
       "      <td>no</td>\n",
       "      <td>2016</td>\n",
       "      <td>['Technology', 'Stock Market']</td>\n",
       "      <td>Yes, advanced LIGO announced the discovery of ...</td>\n",
       "    </tr>\n",
       "    <tr>\n",
       "      <th>1</th>\n",
       "      <td>Will SpaceX successfully land a Falcon 9 rocke...</td>\n",
       "      <td>no</td>\n",
       "      <td>2016</td>\n",
       "      <td>[]</td>\n",
       "      <td>Yes</td>\n",
       "    </tr>\n",
       "    <tr>\n",
       "      <th>2</th>\n",
       "      <td>Will we confirm evidence for megastructures or...</td>\n",
       "      <td>no</td>\n",
       "      <td>2016</td>\n",
       "      <td>['Technology', 'Political', 'Sports', 'Health ...</td>\n",
       "      <td>Yes, we will confirm evidence for megastructur...</td>\n",
       "    </tr>\n",
       "    <tr>\n",
       "      <th>3</th>\n",
       "      <td>Will Lockheed Martin and Skunkworks announce a...</td>\n",
       "      <td>no</td>\n",
       "      <td>2019</td>\n",
       "      <td>[]</td>\n",
       "      <td>Yes, Lockheed Martin and Skunkworks announced ...</td>\n",
       "    </tr>\n",
       "    <tr>\n",
       "      <th>4</th>\n",
       "      <td>The FAA to soon open the door to commercial us...</td>\n",
       "      <td>no</td>\n",
       "      <td>2016</td>\n",
       "      <td>['Technology', 'Stock Market']</td>\n",
       "      <td>Yes, the FAA has announced plans to allow comm...</td>\n",
       "    </tr>\n",
       "    <tr>\n",
       "      <th>...</th>\n",
       "      <td>...</td>\n",
       "      <td>...</td>\n",
       "      <td>...</td>\n",
       "      <td>...</td>\n",
       "      <td>...</td>\n",
       "    </tr>\n",
       "    <tr>\n",
       "      <th>4458</th>\n",
       "      <td>Between 3 October 2019 and 29 November 2019, w...</td>\n",
       "      <td>no</td>\n",
       "      <td>2019</td>\n",
       "      <td>['Health and Epidemiology']</td>\n",
       "      <td>Yes</td>\n",
       "    </tr>\n",
       "    <tr>\n",
       "      <th>4459</th>\n",
       "      <td>Will the PITF Worldwide Atrocities Dataset rec...</td>\n",
       "      <td>yes</td>\n",
       "      <td>2019</td>\n",
       "      <td>['Health and Epidemiology', 'Stock Market']</td>\n",
       "      <td>Yes, the PITF Worldwide Atrocities Dataset wil...</td>\n",
       "    </tr>\n",
       "    <tr>\n",
       "      <th>4460</th>\n",
       "      <td>Will ACLED record any civilian fatalities in R...</td>\n",
       "      <td>yes</td>\n",
       "      <td>2019</td>\n",
       "      <td>['Health and Epidemiology', 'Stock Market']</td>\n",
       "      <td>Yes, ACLED will record any civilian fatalities...</td>\n",
       "    </tr>\n",
       "    <tr>\n",
       "      <th>4461</th>\n",
       "      <td>Will ACLED record any civilian fatalities in S...</td>\n",
       "      <td>yes</td>\n",
       "      <td>2019</td>\n",
       "      <td>['Health and Epidemiology', 'Stock Market']</td>\n",
       "      <td>Yes, ACLED will record any civilian fatalities...</td>\n",
       "    </tr>\n",
       "    <tr>\n",
       "      <th>4462</th>\n",
       "      <td>Will there be a significant day-over-day incre...</td>\n",
       "      <td>yes</td>\n",
       "      <td>2019</td>\n",
       "      <td>[]</td>\n",
       "      <td>Yes, there will be a significant day-over-day ...</td>\n",
       "    </tr>\n",
       "  </tbody>\n",
       "</table>\n",
       "<p>4463 rows × 5 columns</p>\n",
       "</div>"
      ],
      "text/plain": [
       "                                           QuestionText Answer  Year  \\\n",
       "0     Will advanced LIGO announce discovery of gravi...     no  2016   \n",
       "1     Will SpaceX successfully land a Falcon 9 rocke...     no  2016   \n",
       "2     Will we confirm evidence for megastructures or...     no  2016   \n",
       "3     Will Lockheed Martin and Skunkworks announce a...     no  2019   \n",
       "4     The FAA to soon open the door to commercial us...     no  2016   \n",
       "...                                                 ...    ...   ...   \n",
       "4458  Between 3 October 2019 and 29 November 2019, w...     no  2019   \n",
       "4459  Will the PITF Worldwide Atrocities Dataset rec...    yes  2019   \n",
       "4460  Will ACLED record any civilian fatalities in R...    yes  2019   \n",
       "4461  Will ACLED record any civilian fatalities in S...    yes  2019   \n",
       "4462  Will there be a significant day-over-day incre...    yes  2019   \n",
       "\n",
       "                                             Categories  \\\n",
       "0                        ['Technology', 'Stock Market']   \n",
       "1                                                    []   \n",
       "2     ['Technology', 'Political', 'Sports', 'Health ...   \n",
       "3                                                    []   \n",
       "4                        ['Technology', 'Stock Market']   \n",
       "...                                                 ...   \n",
       "4458                        ['Health and Epidemiology']   \n",
       "4459        ['Health and Epidemiology', 'Stock Market']   \n",
       "4460        ['Health and Epidemiology', 'Stock Market']   \n",
       "4461        ['Health and Epidemiology', 'Stock Market']   \n",
       "4462                                                 []   \n",
       "\n",
       "                                            Predictions  \n",
       "0     Yes, advanced LIGO announced the discovery of ...  \n",
       "1                                                   Yes  \n",
       "2     Yes, we will confirm evidence for megastructur...  \n",
       "3     Yes, Lockheed Martin and Skunkworks announced ...  \n",
       "4     Yes, the FAA has announced plans to allow comm...  \n",
       "...                                                 ...  \n",
       "4458                                                Yes  \n",
       "4459  Yes, the PITF Worldwide Atrocities Dataset wil...  \n",
       "4460  Yes, ACLED will record any civilian fatalities...  \n",
       "4461  Yes, ACLED will record any civilian fatalities...  \n",
       "4462  Yes, there will be a significant day-over-day ...  \n",
       "\n",
       "[4463 rows x 5 columns]"
      ]
     },
     "execution_count": 28,
     "metadata": {},
     "output_type": "execute_result"
    }
   ],
   "source": [
    "falconData = pd.read_csv('data/Binary/Falcon-0-4462.csv')\n",
    "falconPredictions = falconData['predictions']\n",
    "falconTotal = questions.copy(deep=True)\n",
    "falconTotal['Predictions'] = falconPredictions\n",
    "falconTotal"
   ]
  },
  {
   "cell_type": "code",
   "execution_count": 29,
   "id": "R7K57SFjWsXk",
   "metadata": {
    "colab": {
     "base_uri": "https://localhost:8080/"
    },
    "id": "R7K57SFjWsXk",
    "outputId": "7ce2897a-9eb9-4ee1-f1d1-2a9308f73da4"
   },
   "outputs": [
    {
     "name": "stdout",
     "output_type": "stream",
     "text": [
      "Total None predictions: 1\n"
     ]
    },
    {
     "data": {
      "text/plain": [
       "array([[ 385, 2556],\n",
       "       [ 177, 1344]], dtype=int64)"
      ]
     },
     "execution_count": 29,
     "metadata": {},
     "output_type": "execute_result"
    }
   ],
   "source": [
    "yPredfalconTotal, yTruefalconTotal, noneCountfalconTotal = makeCM(falconTotal)\n",
    "print(f'Total None predictions: {noneCountfalconTotal}')\n",
    "confusion_matrix(yTruefalconTotal, yPredfalconTotal)"
   ]
  },
  {
   "cell_type": "markdown",
   "id": "wiKr9hfbpMIQ",
   "metadata": {
    "id": "wiKr9hfbpMIQ"
   },
   "source": [
    "YEARS\n"
   ]
  },
  {
   "cell_type": "code",
   "execution_count": 30,
   "id": "4gN-VM0opNe7",
   "metadata": {
    "id": "4gN-VM0opNe7"
   },
   "outputs": [],
   "source": [
    "falconyearsData = {}\n",
    "for year in allYears:\n",
    "    yearData = falconTotal[falconTotal['Year']==year]\n",
    "    yearData = yearData.reset_index()\n",
    "    falconyearsData[year] = makeCM(yearData)\n",
    "\n",
    "falcon_correct = []\n",
    "falcon_incorrect = []\n",
    "for year in falconyearsData:\n",
    "    cm = confusion_matrix(falconyearsData[year][1], falconyearsData[year][0])\n",
    "    falcon_correct.append((cm[0][0]+cm[1][1]))\n",
    "    falcon_incorrect.append(np.sum(cm)-falcon_correct[-1])"
   ]
  },
  {
   "cell_type": "code",
   "execution_count": 31,
   "id": "y2wlhksgrzZJ",
   "metadata": {
    "colab": {
     "base_uri": "https://localhost:8080/",
     "height": 451
    },
    "id": "y2wlhksgrzZJ",
    "outputId": "4f3e7427-56ba-4af8-97cb-bdf069caec4d"
   },
   "outputs": [
    {
     "data": {
      "image/png": "[encoded data removed]",
      "text/plain": [
       "<Figure size 640x480 with 1 Axes>"
      ]
     },
     "metadata": {},
     "output_type": "display_data"
    }
   ],
   "source": [
    "import matplotlib.pyplot as plt\n",
    "\n",
    "x = sorted(falconyearsData)\n",
    "\n",
    "y1 = falcon_correct\n",
    "y2 = falcon_incorrect\n",
    "\n",
    "plt.bar(x, y1, color='g')\n",
    "plt.bar(x, y2, bottom=y1, color='r')\n",
    "plt.xticks(rotation=90)\n",
    "plt.show()"
   ]
  },
  {
   "cell_type": "markdown",
   "id": "9bkG-VT80VPL",
   "metadata": {
    "id": "9bkG-VT80VPL"
   },
   "source": [
    "CATEGORIES\n"
   ]
  },
  {
   "cell_type": "code",
   "execution_count": 32,
   "id": "O-gqjKhl0UZB",
   "metadata": {
    "colab": {
     "base_uri": "https://localhost:8080/",
     "height": 984
    },
    "id": "O-gqjKhl0UZB",
    "outputId": "fa950a2d-e94d-4a1b-8f32-d9f50c65557a"
   },
   "outputs": [
    {
     "name": "stderr",
     "output_type": "stream",
     "text": [
      "C:\\Users\\vetur\\AppData\\Local\\Temp\\ipykernel_16308\\4279877759.py:5: SettingWithCopyWarning: \n",
      "A value is trying to be set on a copy of a slice from a DataFrame\n",
      "\n",
      "See the caveats in the documentation: https://pandas.pydata.org/pandas-docs/stable/user_guide/indexing.html#returning-a-view-versus-a-copy\n",
      "  falconTotal['Categories'][i] = ast.literal_eval(falconTotal['Categories'][i])\n"
     ]
    },
    {
     "data": {
      "text/html": [
       "<div>\n",
       "<style scoped>\n",
       "    .dataframe tbody tr th:only-of-type {\n",
       "        vertical-align: middle;\n",
       "    }\n",
       "\n",
       "    .dataframe tbody tr th {\n",
       "        vertical-align: top;\n",
       "    }\n",
       "\n",
       "    .dataframe thead th {\n",
       "        text-align: right;\n",
       "    }\n",
       "</style>\n",
       "<table border=\"1\" class=\"dataframe\">\n",
       "  <thead>\n",
       "    <tr style=\"text-align: right;\">\n",
       "      <th></th>\n",
       "      <th>QuestionText</th>\n",
       "      <th>Answer</th>\n",
       "      <th>Year</th>\n",
       "      <th>Categories</th>\n",
       "      <th>Predictions</th>\n",
       "      <th>Technology</th>\n",
       "      <th>Political</th>\n",
       "      <th>Sports</th>\n",
       "      <th>Health and Epidemiology</th>\n",
       "      <th>Stock Market</th>\n",
       "      <th>Supply Chain</th>\n",
       "    </tr>\n",
       "  </thead>\n",
       "  <tbody>\n",
       "    <tr>\n",
       "      <th>0</th>\n",
       "      <td>Will advanced LIGO announce discovery of gravi...</td>\n",
       "      <td>no</td>\n",
       "      <td>2016</td>\n",
       "      <td>[Technology, Stock Market]</td>\n",
       "      <td>Yes, advanced LIGO announced the discovery of ...</td>\n",
       "      <td>True</td>\n",
       "      <td>False</td>\n",
       "      <td>False</td>\n",
       "      <td>False</td>\n",
       "      <td>True</td>\n",
       "      <td>False</td>\n",
       "    </tr>\n",
       "    <tr>\n",
       "      <th>1</th>\n",
       "      <td>Will SpaceX successfully land a Falcon 9 rocke...</td>\n",
       "      <td>no</td>\n",
       "      <td>2016</td>\n",
       "      <td>[]</td>\n",
       "      <td>Yes</td>\n",
       "      <td>False</td>\n",
       "      <td>False</td>\n",
       "      <td>False</td>\n",
       "      <td>False</td>\n",
       "      <td>False</td>\n",
       "      <td>False</td>\n",
       "    </tr>\n",
       "    <tr>\n",
       "      <th>2</th>\n",
       "      <td>Will we confirm evidence for megastructures or...</td>\n",
       "      <td>no</td>\n",
       "      <td>2016</td>\n",
       "      <td>[Technology, Political, Sports, Health and Epi...</td>\n",
       "      <td>Yes, we will confirm evidence for megastructur...</td>\n",
       "      <td>True</td>\n",
       "      <td>True</td>\n",
       "      <td>True</td>\n",
       "      <td>True</td>\n",
       "      <td>True</td>\n",
       "      <td>True</td>\n",
       "    </tr>\n",
       "    <tr>\n",
       "      <th>3</th>\n",
       "      <td>Will Lockheed Martin and Skunkworks announce a...</td>\n",
       "      <td>no</td>\n",
       "      <td>2019</td>\n",
       "      <td>[]</td>\n",
       "      <td>Yes, Lockheed Martin and Skunkworks announced ...</td>\n",
       "      <td>False</td>\n",
       "      <td>False</td>\n",
       "      <td>False</td>\n",
       "      <td>False</td>\n",
       "      <td>False</td>\n",
       "      <td>False</td>\n",
       "    </tr>\n",
       "    <tr>\n",
       "      <th>4</th>\n",
       "      <td>The FAA to soon open the door to commercial us...</td>\n",
       "      <td>no</td>\n",
       "      <td>2016</td>\n",
       "      <td>[Technology, Stock Market]</td>\n",
       "      <td>Yes, the FAA has announced plans to allow comm...</td>\n",
       "      <td>True</td>\n",
       "      <td>False</td>\n",
       "      <td>False</td>\n",
       "      <td>False</td>\n",
       "      <td>True</td>\n",
       "      <td>False</td>\n",
       "    </tr>\n",
       "    <tr>\n",
       "      <th>...</th>\n",
       "      <td>...</td>\n",
       "      <td>...</td>\n",
       "      <td>...</td>\n",
       "      <td>...</td>\n",
       "      <td>...</td>\n",
       "      <td>...</td>\n",
       "      <td>...</td>\n",
       "      <td>...</td>\n",
       "      <td>...</td>\n",
       "      <td>...</td>\n",
       "      <td>...</td>\n",
       "    </tr>\n",
       "    <tr>\n",
       "      <th>4458</th>\n",
       "      <td>Between 3 October 2019 and 29 November 2019, w...</td>\n",
       "      <td>no</td>\n",
       "      <td>2019</td>\n",
       "      <td>[Health and Epidemiology]</td>\n",
       "      <td>Yes</td>\n",
       "      <td>False</td>\n",
       "      <td>False</td>\n",
       "      <td>False</td>\n",
       "      <td>True</td>\n",
       "      <td>False</td>\n",
       "      <td>False</td>\n",
       "    </tr>\n",
       "    <tr>\n",
       "      <th>4459</th>\n",
       "      <td>Will the PITF Worldwide Atrocities Dataset rec...</td>\n",
       "      <td>yes</td>\n",
       "      <td>2019</td>\n",
       "      <td>[Health and Epidemiology, Stock Market]</td>\n",
       "      <td>Yes, the PITF Worldwide Atrocities Dataset wil...</td>\n",
       "      <td>False</td>\n",
       "      <td>False</td>\n",
       "      <td>False</td>\n",
       "      <td>True</td>\n",
       "      <td>True</td>\n",
       "      <td>False</td>\n",
       "    </tr>\n",
       "    <tr>\n",
       "      <th>4460</th>\n",
       "      <td>Will ACLED record any civilian fatalities in R...</td>\n",
       "      <td>yes</td>\n",
       "      <td>2019</td>\n",
       "      <td>[Health and Epidemiology, Stock Market]</td>\n",
       "      <td>Yes, ACLED will record any civilian fatalities...</td>\n",
       "      <td>False</td>\n",
       "      <td>False</td>\n",
       "      <td>False</td>\n",
       "      <td>True</td>\n",
       "      <td>True</td>\n",
       "      <td>False</td>\n",
       "    </tr>\n",
       "    <tr>\n",
       "      <th>4461</th>\n",
       "      <td>Will ACLED record any civilian fatalities in S...</td>\n",
       "      <td>yes</td>\n",
       "      <td>2019</td>\n",
       "      <td>[Health and Epidemiology, Stock Market]</td>\n",
       "      <td>Yes, ACLED will record any civilian fatalities...</td>\n",
       "      <td>False</td>\n",
       "      <td>False</td>\n",
       "      <td>False</td>\n",
       "      <td>True</td>\n",
       "      <td>True</td>\n",
       "      <td>False</td>\n",
       "    </tr>\n",
       "    <tr>\n",
       "      <th>4462</th>\n",
       "      <td>Will there be a significant day-over-day incre...</td>\n",
       "      <td>yes</td>\n",
       "      <td>2019</td>\n",
       "      <td>[]</td>\n",
       "      <td>Yes, there will be a significant day-over-day ...</td>\n",
       "      <td>False</td>\n",
       "      <td>False</td>\n",
       "      <td>False</td>\n",
       "      <td>False</td>\n",
       "      <td>False</td>\n",
       "      <td>False</td>\n",
       "    </tr>\n",
       "  </tbody>\n",
       "</table>\n",
       "<p>4463 rows × 11 columns</p>\n",
       "</div>"
      ],
      "text/plain": [
       "                                           QuestionText Answer  Year  \\\n",
       "0     Will advanced LIGO announce discovery of gravi...     no  2016   \n",
       "1     Will SpaceX successfully land a Falcon 9 rocke...     no  2016   \n",
       "2     Will we confirm evidence for megastructures or...     no  2016   \n",
       "3     Will Lockheed Martin and Skunkworks announce a...     no  2019   \n",
       "4     The FAA to soon open the door to commercial us...     no  2016   \n",
       "...                                                 ...    ...   ...   \n",
       "4458  Between 3 October 2019 and 29 November 2019, w...     no  2019   \n",
       "4459  Will the PITF Worldwide Atrocities Dataset rec...    yes  2019   \n",
       "4460  Will ACLED record any civilian fatalities in R...    yes  2019   \n",
       "4461  Will ACLED record any civilian fatalities in S...    yes  2019   \n",
       "4462  Will there be a significant day-over-day incre...    yes  2019   \n",
       "\n",
       "                                             Categories  \\\n",
       "0                            [Technology, Stock Market]   \n",
       "1                                                    []   \n",
       "2     [Technology, Political, Sports, Health and Epi...   \n",
       "3                                                    []   \n",
       "4                            [Technology, Stock Market]   \n",
       "...                                                 ...   \n",
       "4458                          [Health and Epidemiology]   \n",
       "4459            [Health and Epidemiology, Stock Market]   \n",
       "4460            [Health and Epidemiology, Stock Market]   \n",
       "4461            [Health and Epidemiology, Stock Market]   \n",
       "4462                                                 []   \n",
       "\n",
       "                                            Predictions  Technology  \\\n",
       "0     Yes, advanced LIGO announced the discovery of ...        True   \n",
       "1                                                   Yes       False   \n",
       "2     Yes, we will confirm evidence for megastructur...        True   \n",
       "3     Yes, Lockheed Martin and Skunkworks announced ...       False   \n",
       "4     Yes, the FAA has announced plans to allow comm...        True   \n",
       "...                                                 ...         ...   \n",
       "4458                                                Yes       False   \n",
       "4459  Yes, the PITF Worldwide Atrocities Dataset wil...       False   \n",
       "4460  Yes, ACLED will record any civilian fatalities...       False   \n",
       "4461  Yes, ACLED will record any civilian fatalities...       False   \n",
       "4462  Yes, there will be a significant day-over-day ...       False   \n",
       "\n",
       "      Political  Sports  Health and Epidemiology  Stock Market  Supply Chain  \n",
       "0         False   False                    False          True         False  \n",
       "1         False   False                    False         False         False  \n",
       "2          True    True                     True          True          True  \n",
       "3         False   False                    False         False         False  \n",
       "4         False   False                    False          True         False  \n",
       "...         ...     ...                      ...           ...           ...  \n",
       "4458      False   False                     True         False         False  \n",
       "4459      False   False                     True          True         False  \n",
       "4460      False   False                     True          True         False  \n",
       "4461      False   False                     True          True         False  \n",
       "4462      False   False                    False         False         False  \n",
       "\n",
       "[4463 rows x 11 columns]"
      ]
     },
     "execution_count": 32,
     "metadata": {},
     "output_type": "execute_result"
    }
   ],
   "source": [
    "falcon_present = {cat:[] for cat in allCategories}\n",
    "\n",
    "\n",
    "for i in range(len(falconTotal['Categories'])):\n",
    "   falconTotal['Categories'][i] = ast.literal_eval(falconTotal['Categories'][i])\n",
    "   for cat in falcon_present:\n",
    "       if cat in falconTotal['Categories'][i]:\n",
    "           falcon_present[cat].append(True)\n",
    "       else:\n",
    "           falcon_present[cat].append(False)\n",
    "\n",
    "\n",
    "for cat in falcon_present:\n",
    "   falconTotal[cat] = falcon_present[cat]\n",
    "falconTotal"
   ]
  },
  {
   "cell_type": "code",
   "execution_count": 33,
   "id": "a4VcoqVz2nLA",
   "metadata": {
    "id": "a4VcoqVz2nLA"
   },
   "outputs": [],
   "source": [
    "falconcategoriesData = {}\n",
    "for category in allCategories:\n",
    "   categoryData = falconTotal[falconTotal[category]]\n",
    "   categoryData = categoryData.reset_index()\n",
    "   falconcategoriesData[category] = makeCM(categoryData)\n",
    "\n",
    "\n",
    "falcon_correct_cat = []\n",
    "falcon_incorrect_cat = []\n",
    "for category in sorted(falconcategoriesData):\n",
    "   cm = confusion_matrix(falconcategoriesData[category][1], falconcategoriesData[category][0])\n",
    "   falcon_correct_cat.append((cm[0][0]+cm[1][1])/np.sum(cm))\n",
    "   falcon_incorrect_cat.append(1-falcon_correct_cat[-1])\n"
   ]
  },
  {
   "cell_type": "code",
   "execution_count": 34,
   "id": "pe0OzZFv3Bvb",
   "metadata": {
    "colab": {
     "base_uri": "https://localhost:8080/",
     "height": 634
    },
    "id": "pe0OzZFv3Bvb",
    "outputId": "1f1b1224-9132-4455-c6c5-023cdfbca026"
   },
   "outputs": [
    {
     "data": {
      "text/plain": [
       "Text(0, 0.5, 'Y-axis Label')"
      ]
     },
     "execution_count": 34,
     "metadata": {},
     "output_type": "execute_result"
    },
    {
     "data": {
      "image/png": "[encoded data removed]",
      "text/plain": [
       "<Figure size 640x480 with 1 Axes>"
      ]
     },
     "metadata": {},
     "output_type": "display_data"
    }
   ],
   "source": [
    "\n",
    "import matplotlib.pyplot as plt\n",
    "\n",
    "\n",
    "x = sorted(falconcategoriesData)\n",
    "y1 = falcon_correct_cat\n",
    "\n",
    "\n",
    "plt.plot(x, y1, color='b', marker='o')  # 'o' adds markers to data points\n",
    "plt.xticks(rotation=90)\n",
    "plt.ylim(0, 1)\n",
    "plt.xlabel('X-axis Label')  # Add a label for the X-axis\n",
    "plt.ylabel('Y-axis Label')  # Add a label for the Y-axis\n"
   ]
  },
  {
   "cell_type": "code",
   "execution_count": 35,
   "id": "BEUvvXpp4j99",
   "metadata": {
    "colab": {
     "base_uri": "https://localhost:8080/",
     "height": 472
    },
    "id": "BEUvvXpp4j99",
    "outputId": "1aa3a48d-37c5-4c27-e898-e3ea2e3ac2d4"
   },
   "outputs": [
    {
     "data": {
      "image/png": "[encoded data removed]",
      "text/plain": [
       "<Figure size 640x480 with 1 Axes>"
      ]
     },
     "metadata": {},
     "output_type": "display_data"
    }
   ],
   "source": [
    "min_length = min(len(falcon_correct), len(correct), len(hermes_correct))\n",
    "\n",
    "# Truncate the arrays to the minimum length\n",
    "falcon_correct = np.array(falcon_correct[:min_length])\n",
    "correct = np.array(correct[:min_length])\n",
    "hermes_correct = np.array(hermes_correct[:min_length])\n",
    "\n",
    "# Plotting the bar graph\n",
    "bar_width = 0.25\n",
    "index = np.arange(min_length)\n",
    "\n",
    "plt.bar(index, falcon_correct, width=bar_width, label='Falcon')\n",
    "plt.bar(index + bar_width, correct, width=bar_width, label='WLM')\n",
    "plt.bar(index + 2 * bar_width, hermes_correct, width=bar_width, label='Hermes')\n",
    "\n",
    "# Adding labels and title\n",
    "plt.xlabel('Year')\n",
    "plt.ylabel('Accuracy for correctly predicted')\n",
    "plt.title('Year wise prediction by three models (Grouped Bar Chart)')\n",
    "plt.xticks(index + bar_width, allYears[:min_length])\n",
    "\n",
    "# Adding legend\n",
    "plt.legend()\n",
    "\n",
    "# Display the plot\n",
    "plt.show()"
   ]
  },
  {
   "cell_type": "code",
   "execution_count": null,
   "id": "dYz-WlUE9vB9",
   "metadata": {
    "colab": {
     "base_uri": "https://localhost:8080/"
    },
    "id": "dYz-WlUE9vB9",
    "outputId": "3eba5ed6-24a7-455b-eefb-46527556923d"
   },
   "outputs": [],
   "source": [
    "# correct_cat\n",
    "# falcon_correct_cat\n",
    "# hermes_correct_cat\n",
    "allCategories"
   ]
  },
  {
   "cell_type": "code",
   "execution_count": 36,
   "id": "ZNfaKlNY9lQO",
   "metadata": {
    "colab": {
     "base_uri": "https://localhost:8080/",
     "height": 564
    },
    "id": "ZNfaKlNY9lQO",
    "outputId": "4ca9169e-5bc1-4df5-fc04-d83ece8478e5"
   },
   "outputs": [
    {
     "data": {
      "image/png": "[encoded data removed]",
      "text/plain": [
       "<Figure size 1000x600 with 1 Axes>"
      ]
     },
     "metadata": {},
     "output_type": "display_data"
    }
   ],
   "source": [
    "import numpy as np\n",
    "import matplotlib.pyplot as plt\n",
    "\n",
    "indices = np.arange(len(allCategories))\n",
    "\n",
    "\n",
    "bar_width = 0.25\n",
    "\n",
    "\n",
    "plt.figure(figsize=(10, 6))\n",
    "ax = plt.subplot()\n",
    "\n",
    "\n",
    "ax.bar(indices - bar_width, falcon_correct_cat, width=bar_width, label='Falcon', alpha=0.7)\n",
    "ax.bar(indices, correct_cat, width=bar_width, label='WLM', alpha=0.7)\n",
    "ax.bar(indices + bar_width, hermes_correct_cat, width=bar_width, label='Hermes', alpha=0.7)\n",
    "\n",
    "\n",
    "ax.set_xlabel('Categories')\n",
    "ax.set_ylabel('Number of Correct Predictions')\n",
    "ax.set_title('Category wise Predictions for the three Models (Grouped Bar Chart)')\n",
    "\n",
    "ax.legend()\n",
    "ax.set_xticks(indices)\n",
    "ax.set_xticklabels(allCategories)\n",
    "plt.show()\n"
   ]
  },
  {
   "cell_type": "code",
   "execution_count": 39,
   "id": "XTMPUU-nP2Qu",
   "metadata": {
    "colab": {
     "base_uri": "https://localhost:8080/",
     "height": 564
    },
    "id": "XTMPUU-nP2Qu",
    "outputId": "429d07dc-4e77-418f-e74e-67fbf62346e0"
   },
   "outputs": [
    {
     "data": {
      "image/png": "[encoded data removed]",
      "text/plain": [
       "<Figure size 1000x600 with 1 Axes>"
      ]
     },
     "metadata": {},
     "output_type": "display_data"
    }
   ],
   "source": [
    "import numpy as np\n",
    "import pandas as pd\n",
    "import matplotlib.pyplot as plt\n",
    "\n",
    "\n",
    "data = pd.DataFrame({\n",
    "    'Categories': allCategories,\n",
    "    'Falcon': falcon_correct_cat,\n",
    "    'WLM': correct_cat,\n",
    "    'Hermes': hermes_correct_cat\n",
    "})\n",
    "\n",
    "normalized_data = (data.set_index('Categories') - data.set_index('Categories').min()) / (data.set_index('Categories').max() - data.set_index('Categories').min())\n",
    "\n",
    "\n",
    "plt.figure(figsize=(10, 6))\n",
    "pd.plotting.parallel_coordinates(normalized_data.reset_index(), 'Categories', colormap='viridis', linewidth=1)\n",
    "\n",
    "\n",
    "plt.xlabel('Categories')\n",
    "plt.ylabel('Normalized Values')\n",
    "plt.title('Predictions Across Models for Each Category (Parallel Coordinates Plot)')\n",
    "\n",
    "plt.show()\n"
   ]
  },
  {
   "cell_type": "code",
   "execution_count": null,
   "id": "16070dd6",
   "metadata": {},
   "outputs": [],
   "source": []
  }
 ],
 "metadata": {
  "colab": {
   "provenance": []
  },
  "kernelspec": {
   "display_name": "Python 3 (ipykernel)",
   "language": "python",
   "name": "python3"
  },
  "language_info": {
   "codemirror_mode": {
    "name": "ipython",
    "version": 3
   },
   "file_extension": ".py",
   "mimetype": "text/x-python",
   "name": "python",
   "nbconvert_exporter": "python",
   "pygments_lexer": "ipython3",
   "version": "3.10.4"
  }
 },
 "nbformat": 4,
 "nbformat_minor": 5
}
