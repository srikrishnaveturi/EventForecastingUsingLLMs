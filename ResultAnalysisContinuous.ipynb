{
 "cells": [
  {
   "cell_type": "code",
   "execution_count": 1,
   "id": "ce7bc926",
   "metadata": {},
   "outputs": [],
   "source": [
    "import pandas as pd\n",
    "import re\n",
    "import ast\n",
    "import numpy as np\n",
    "import matplotlib.pyplot as plt"
   ]
  },
  {
   "cell_type": "code",
   "execution_count": 2,
   "id": "225d2200",
   "metadata": {},
   "outputs": [
    {
     "data": {
      "text/html": [
       "<div>\n",
       "<style scoped>\n",
       "    .dataframe tbody tr th:only-of-type {\n",
       "        vertical-align: middle;\n",
       "    }\n",
       "\n",
       "    .dataframe tbody tr th {\n",
       "        vertical-align: top;\n",
       "    }\n",
       "\n",
       "    .dataframe thead th {\n",
       "        text-align: right;\n",
       "    }\n",
       "</style>\n",
       "<table border=\"1\" class=\"dataframe\">\n",
       "  <thead>\n",
       "    <tr style=\"text-align: right;\">\n",
       "      <th></th>\n",
       "      <th>QuestionText</th>\n",
       "      <th>Answer</th>\n",
       "      <th>Year</th>\n",
       "      <th>Categories</th>\n",
       "      <th>AnswerChoices</th>\n",
       "    </tr>\n",
       "  </thead>\n",
       "  <tbody>\n",
       "    <tr>\n",
       "      <th>0</th>\n",
       "      <td>How many Federally Insured Commercial Banks in...</td>\n",
       "      <td>0.420490</td>\n",
       "      <td>2018</td>\n",
       "      <td>['Stock Market']</td>\n",
       "      <td>{'type': 'continuous', 'scale': {'max': 5500, ...</td>\n",
       "    </tr>\n",
       "    <tr>\n",
       "      <th>1</th>\n",
       "      <td>When will an AI system score an impressive def...</td>\n",
       "      <td>0.376395</td>\n",
       "      <td>2019</td>\n",
       "      <td>[]</td>\n",
       "      <td>{'type': 'continuous', 'scale': {'max': '2030-...</td>\n",
       "    </tr>\n",
       "    <tr>\n",
       "      <th>2</th>\n",
       "      <td>When will programs write programs for us?</td>\n",
       "      <td>0.408719</td>\n",
       "      <td>2021</td>\n",
       "      <td>['Technology', 'Health and Epidemiology']</td>\n",
       "      <td>{'type': 'continuous', 'scale': {'max': '2050-...</td>\n",
       "    </tr>\n",
       "    <tr>\n",
       "      <th>3</th>\n",
       "      <td>When will the first exaflop performer appear?</td>\n",
       "      <td>0.849452</td>\n",
       "      <td>2022</td>\n",
       "      <td>['Technology', 'Political', 'Sports', 'Health ...</td>\n",
       "      <td>{'type': 'continuous', 'scale': {'max': '2025-...</td>\n",
       "    </tr>\n",
       "    <tr>\n",
       "      <th>4</th>\n",
       "      <td>When will the first law concerning artificial ...</td>\n",
       "      <td>0.260335</td>\n",
       "      <td>2021</td>\n",
       "      <td>['Health and Epidemiology']</td>\n",
       "      <td>{'type': 'continuous', 'scale': {'max': '2060-...</td>\n",
       "    </tr>\n",
       "    <tr>\n",
       "      <th>...</th>\n",
       "      <td>...</td>\n",
       "      <td>...</td>\n",
       "      <td>...</td>\n",
       "      <td>...</td>\n",
       "      <td>...</td>\n",
       "    </tr>\n",
       "    <tr>\n",
       "      <th>2532</th>\n",
       "      <td>What will be the 7-day moving average of daily...</td>\n",
       "      <td>0.168667</td>\n",
       "      <td>2022</td>\n",
       "      <td>[]</td>\n",
       "      <td>{'max': 15000, 'min': 0, 'deriv_ratio': 1}</td>\n",
       "    </tr>\n",
       "    <tr>\n",
       "      <th>2533</th>\n",
       "      <td>What will be the 7-day moving average of daily...</td>\n",
       "      <td>0.214533</td>\n",
       "      <td>2022</td>\n",
       "      <td>[]</td>\n",
       "      <td>{'max': 15000, 'min': 0, 'deriv_ratio': 1}</td>\n",
       "    </tr>\n",
       "    <tr>\n",
       "      <th>2534</th>\n",
       "      <td>What will be the 7-day moving average of curre...</td>\n",
       "      <td>0.069975</td>\n",
       "      <td>2022</td>\n",
       "      <td>[]</td>\n",
       "      <td>{'max': 4000, 'min': 0, 'deriv_ratio': 1}</td>\n",
       "    </tr>\n",
       "    <tr>\n",
       "      <th>2535</th>\n",
       "      <td>What will be the 7-day moving average of curre...</td>\n",
       "      <td>0.121100</td>\n",
       "      <td>2022</td>\n",
       "      <td>[]</td>\n",
       "      <td>{'max': 4000, 'min': 0, 'deriv_ratio': 1}</td>\n",
       "    </tr>\n",
       "    <tr>\n",
       "      <th>2536</th>\n",
       "      <td>[Short Fuse] How much money will be awarded to...</td>\n",
       "      <td>0.541750</td>\n",
       "      <td>2022</td>\n",
       "      <td>[]</td>\n",
       "      <td>{'max': 100000000, 'min': -100000000, 'deriv_r...</td>\n",
       "    </tr>\n",
       "  </tbody>\n",
       "</table>\n",
       "<p>2537 rows × 5 columns</p>\n",
       "</div>"
      ],
      "text/plain": [
       "                                           QuestionText    Answer  Year  \\\n",
       "0     How many Federally Insured Commercial Banks in...  0.420490  2018   \n",
       "1     When will an AI system score an impressive def...  0.376395  2019   \n",
       "2             When will programs write programs for us?  0.408719  2021   \n",
       "3         When will the first exaflop performer appear?  0.849452  2022   \n",
       "4     When will the first law concerning artificial ...  0.260335  2021   \n",
       "...                                                 ...       ...   ...   \n",
       "2532  What will be the 7-day moving average of daily...  0.168667  2022   \n",
       "2533  What will be the 7-day moving average of daily...  0.214533  2022   \n",
       "2534  What will be the 7-day moving average of curre...  0.069975  2022   \n",
       "2535  What will be the 7-day moving average of curre...  0.121100  2022   \n",
       "2536  [Short Fuse] How much money will be awarded to...  0.541750  2022   \n",
       "\n",
       "                                             Categories  \\\n",
       "0                                      ['Stock Market']   \n",
       "1                                                    []   \n",
       "2             ['Technology', 'Health and Epidemiology']   \n",
       "3     ['Technology', 'Political', 'Sports', 'Health ...   \n",
       "4                           ['Health and Epidemiology']   \n",
       "...                                                 ...   \n",
       "2532                                                 []   \n",
       "2533                                                 []   \n",
       "2534                                                 []   \n",
       "2535                                                 []   \n",
       "2536                                                 []   \n",
       "\n",
       "                                          AnswerChoices  \n",
       "0     {'type': 'continuous', 'scale': {'max': 5500, ...  \n",
       "1     {'type': 'continuous', 'scale': {'max': '2030-...  \n",
       "2     {'type': 'continuous', 'scale': {'max': '2050-...  \n",
       "3     {'type': 'continuous', 'scale': {'max': '2025-...  \n",
       "4     {'type': 'continuous', 'scale': {'max': '2060-...  \n",
       "...                                                 ...  \n",
       "2532         {'max': 15000, 'min': 0, 'deriv_ratio': 1}  \n",
       "2533         {'max': 15000, 'min': 0, 'deriv_ratio': 1}  \n",
       "2534          {'max': 4000, 'min': 0, 'deriv_ratio': 1}  \n",
       "2535          {'max': 4000, 'min': 0, 'deriv_ratio': 1}  \n",
       "2536  {'max': 100000000, 'min': -100000000, 'deriv_r...  \n",
       "\n",
       "[2537 rows x 5 columns]"
      ]
     },
     "execution_count": 2,
     "metadata": {},
     "output_type": "execute_result"
    }
   ],
   "source": [
    "questions = pd.read_csv('data/Continuous/CombinedContinuousDataWithCategories.csv')\n",
    "questions"
   ]
  },
  {
   "cell_type": "code",
   "execution_count": 3,
   "id": "f0d1b241",
   "metadata": {},
   "outputs": [
    {
     "data": {
      "text/plain": [
       "[2017, 2018, 2019, 2020, 2021, 2022, 2023]"
      ]
     },
     "execution_count": 3,
     "metadata": {},
     "output_type": "execute_result"
    }
   ],
   "source": [
    "allYears = sorted(list(questions['Year'].unique()))\n",
    "allYears"
   ]
  },
  {
   "cell_type": "code",
   "execution_count": 4,
   "id": "3bccff61",
   "metadata": {},
   "outputs": [],
   "source": [
    "allCategories = [\n",
    "    'Technology',\n",
    "    'Political',\n",
    "    'Sports',\n",
    "    'Health and Epidemiology',\n",
    "    'Stock Market',\n",
    "    'Supply Chain'\n",
    "]"
   ]
  },
  {
   "cell_type": "code",
   "execution_count": 5,
   "id": "8fda9053",
   "metadata": {},
   "outputs": [],
   "source": [
    "dateCounter = 0\n",
    "datePred = []\n",
    "mins, maxes = [], []\n",
    "for ans in questions['AnswerChoices']:\n",
    "    ans = ast.literal_eval(ans)\n",
    "    if 'max' in ans:\n",
    "        try:\n",
    "            maxes.append(int(ans['max']))\n",
    "            mins.append(int(ans['min']))\n",
    "            datePred.append(False)\n",
    "        except:\n",
    "            startDate = [int(x) for x in ans['max'].split('-')]\n",
    "            maxes.append(startDate[0])\n",
    "            endDate = [int(x) for x in ans['min'].split('-')]\n",
    "            mins.append(endDate[0])\n",
    "            dateCounter += 1\n",
    "            datePred.append(True)\n",
    "    else:\n",
    "        if ans['format'] != 'date':\n",
    "            maxes.append(int(ans['scale']['max']))\n",
    "            mins.append(int(ans['scale']['min']))\n",
    "            datePred.append(False)\n",
    "        else:\n",
    "            startDate = [int(x) for x in ans['scale']['max'].split('-')]\n",
    "            maxes.append(startDate[0])\n",
    "            endDate = [int(x) for x in ans['scale']['min'].split('-')]\n",
    "            mins.append(startDate[0])\n",
    "            dateCounter += 1\n",
    "            datePred.append(True)\n",
    "\n",
    "means = [(mins[i]+maxes[i])/2 for i in range(len(maxes))]\n",
    "questions['IsDate'] = datePred"
   ]
  },
  {
   "cell_type": "code",
   "execution_count": 6,
   "id": "ac892f1e",
   "metadata": {},
   "outputs": [
    {
     "name": "stdout",
     "output_type": "stream",
     "text": [
      "Number of rows with dates as answers: 422\n"
     ]
    }
   ],
   "source": [
    "print(f'Number of rows with dates as answers: {dateCounter}')"
   ]
  },
  {
   "cell_type": "code",
   "execution_count": 7,
   "id": "ff368a2b",
   "metadata": {},
   "outputs": [],
   "source": [
    "def getClosestAnswer(preds, mean):\n",
    "    preds = sorted(preds, key = lambda x: abs(x-mean))\n",
    "    return preds[0]"
   ]
  },
  {
   "cell_type": "code",
   "execution_count": 8,
   "id": "c5d291c5",
   "metadata": {},
   "outputs": [],
   "source": [
    "def getResults(pred):\n",
    "    totalErrors = []\n",
    "    dateErrors = []\n",
    "    \n",
    "    totalError, noneCounter, totalNum, dateError, dateNum = 0, 0, 0, 0, 0\n",
    "    \n",
    "    for i in range(len(pred['Predictions'])):\n",
    "        if len(pred[\"Predictions\"][i]) == 0:\n",
    "            noneCounter += 1\n",
    "            continue\n",
    "            \n",
    "        if len(pred[\"Predictions\"][i]) > 1:\n",
    "            try:\n",
    "                tempAns = getClosestAnswer(pred[\"Predictions\"][i], means[i])\n",
    "            except:\n",
    "                noneCounter += 1\n",
    "                continue\n",
    "        else:\n",
    "            tempAns = pred['Predictions'][i][0]\n",
    "            \n",
    "        \n",
    "        denom = (maxes[i]-pred['Answer'][i]*(maxes[i]-mins[i]))\n",
    "        \n",
    "        if denom == 0 or tempAns < mins[i] or tempAns > maxes[i]:\n",
    "            noneCounter += 1\n",
    "            continue\n",
    "            \n",
    "        if pred['IsDate'][i] == True:\n",
    "            dateNum += 1\n",
    "            # dateError += abs(tempAns - (pred['Answer'][i]*(maxes[i]-mins[i])+mins[i]))/denom\n",
    "            dateError += abs(tempAns - (pred['Answer'][i]*(maxes[i]-mins[i])-maxes[i]))/denom\n",
    "            dateErrors.append(abs(tempAns - (pred['Answer'][i]*(maxes[i]-mins[i])-maxes[i]))/denom)\n",
    "        else:\n",
    "            totalError += abs(tempAns - (pred['Answer'][i]*(maxes[i]-mins[i])-maxes[i]))/denom\n",
    "            totalNum += 1\n",
    "            totalErrors.append(abs(tempAns - (pred['Answer'][i]*(maxes[i]-mins[i])-maxes[i]))/denom)\n",
    "    \n",
    "    ret = (\n",
    "        totalError/totalNum if totalNum != 0 else None,\n",
    "        totalNum,\n",
    "        #totalErrors,\n",
    "        dateError/dateNum if dateNum != 0 else None,\n",
    "        dateNum,\n",
    "        #dateErrors,\n",
    "        noneCounter\n",
    "    )\n",
    "    return ret"
   ]
  },
  {
   "cell_type": "markdown",
   "id": "76b0a31f",
   "metadata": {},
   "source": [
    "### WizardLM"
   ]
  },
  {
   "cell_type": "code",
   "execution_count": 9,
   "id": "86df73f2",
   "metadata": {},
   "outputs": [],
   "source": [
    "WLMData = pd.read_csv('data/Continuous/WizardContinuous0-2536.csv')"
   ]
  },
  {
   "cell_type": "code",
   "execution_count": 10,
   "id": "4c43c087",
   "metadata": {},
   "outputs": [],
   "source": [
    "nos = []\n",
    "for row in WLMData['predictions']:\n",
    "    if not 'as an ai language model' in row.lower() and not 'ai developed by openai' in row.lower():\n",
    "        row = re.sub(r'\\W+', '', row)\n",
    "        temp = re.findall(r'\\d+', row)\n",
    "        nos.append(list(map(int, temp)))\n",
    "    else:\n",
    "        nos.append([])\n",
    "\n",
    "WLMTotal = questions.copy(deep=True)\n",
    "WLMTotal['Predictions'] = nos"
   ]
  },
  {
   "cell_type": "code",
   "execution_count": 11,
   "id": "97884674",
   "metadata": {},
   "outputs": [],
   "source": [
    "WLMres = getResults(WLMTotal)"
   ]
  },
  {
   "cell_type": "code",
   "execution_count": 12,
   "id": "c5baf427",
   "metadata": {},
   "outputs": [
    {
     "data": {
      "text/plain": [
       "(1.7535173288076062, 1000, 1.9998995112121118, 51, 1486)"
      ]
     },
     "execution_count": 12,
     "metadata": {},
     "output_type": "execute_result"
    }
   ],
   "source": [
    "WLMres"
   ]
  },
  {
   "cell_type": "markdown",
   "id": "894668c0",
   "metadata": {},
   "source": [
    "#### Years"
   ]
  },
  {
   "cell_type": "code",
   "execution_count": 51,
   "id": "ebcf84df",
   "metadata": {},
   "outputs": [],
   "source": [
    "WLMyearsData = {}\n",
    "\n",
    "for year in allYears:\n",
    "    yearData = WLMTotal[WLMTotal['Year']==year]\n",
    "    yearData = yearData.reset_index()\n",
    "    WLMyearsData[year] = getResults(yearData)  "
   ]
  },
  {
   "cell_type": "code",
   "execution_count": 76,
   "id": "80726cad",
   "metadata": {},
   "outputs": [
    {
     "name": "stderr",
     "output_type": "stream",
     "text": [
      "C:\\Users\\vetur\\AppData\\Local\\Temp\\ipykernel_2232\\1591614585.py:2: SettingWithCopyWarning: \n",
      "A value is trying to be set on a copy of a slice from a DataFrame\n",
      "\n",
      "See the caveats in the documentation: https://pandas.pydata.org/pandas-docs/stable/user_guide/indexing.html#returning-a-view-versus-a-copy\n",
      "  WLMTotal['Year'][i] = int(WLMTotal['Year'][i])\n"
     ]
    }
   ],
   "source": [
    "for i in range(len(WLMTotal['Year'])):\n",
    "    WLMTotal['Year'][i] = int(WLMTotal['Year'][i])"
   ]
  },
  {
   "cell_type": "code",
   "execution_count": 79,
   "id": "f311662b",
   "metadata": {},
   "outputs": [
    {
     "data": {
      "text/plain": [
       "(1.5826131602450746, 222, 1.2981782523757073, 51, 1142)"
      ]
     },
     "execution_count": 79,
     "metadata": {},
     "output_type": "execute_result"
    }
   ],
   "source": [
    "#before\n",
    "temp1 = WLMTotal[WLMTotal['Year'] < 2022]\n",
    "temp1 = temp1.reset_index()\n",
    "getResults(temp1)"
   ]
  },
  {
   "cell_type": "code",
   "execution_count": 80,
   "id": "047853bc",
   "metadata": {},
   "outputs": [
    {
     "data": {
      "text/plain": [
       "(1.5337942924063956, 163, 0.9541063819182637, 26, 933)"
      ]
     },
     "execution_count": 80,
     "metadata": {},
     "output_type": "execute_result"
    }
   ],
   "source": [
    "#after\n",
    "temp2 = WLMTotal[WLMTotal['Year'] >= 2022]\n",
    "temp2 = temp2.reset_index()\n",
    "getResults(temp2)"
   ]
  },
  {
   "cell_type": "code",
   "execution_count": 52,
   "id": "4367213d",
   "metadata": {},
   "outputs": [
    {
     "data": {
      "text/plain": [
       "(0.7374132478737527,\n",
       " 5,\n",
       " [-0.993,\n",
       "  1.1854545454545455,\n",
       "  1.1510204081632653,\n",
       "  1.0084366405741028,\n",
       "  1.3351546451768501],\n",
       " None,\n",
       " 0,\n",
       " [],\n",
       " 66)"
      ]
     },
     "execution_count": 52,
     "metadata": {},
     "output_type": "execute_result"
    }
   ],
   "source": [
    "WLMyearsData[2019]"
   ]
  },
  {
   "cell_type": "code",
   "execution_count": 53,
   "id": "7d564842",
   "metadata": {},
   "outputs": [
    {
     "data": {
      "image/png": "[encoded data removed]",
      "text/plain": [
       "<Figure size 640x480 with 1 Axes>"
      ]
     },
     "metadata": {},
     "output_type": "display_data"
    },
    {
     "data": {
      "image/png": "[encoded data removed]",
      "text/plain": [
       "<Figure size 640x480 with 1 Axes>"
      ]
     },
     "metadata": {},
     "output_type": "display_data"
    }
   ],
   "source": [
    "WLMyearsDict = {year: WLMyearsData[year][2] for year in allYears}\n",
    "WLMyearsDatesDict = {year: WLMyearsData[year][5] for year in allYears}\n",
    "\n",
    "fig, ax = plt.subplots()\n",
    "plt.title('Errors for Numerical Data over years')\n",
    "\n",
    "ax.boxplot(WLMyearsDict.values())\n",
    "ax.set_xticklabels(WLMyearsDict.keys())\n",
    "ax.set_ylim([-1, 3])\n",
    "plt.show()\n",
    "\n",
    "\n",
    "fig, ax = plt.subplots()\n",
    "plt.title('Errors for Numerical year Data over years')\n",
    "ax.boxplot(WLMyearsDatesDict.values())\n",
    "ax.set_xticklabels(WLMyearsDatesDict.keys())\n",
    "ax.set_ylim([-1, 3])\n",
    "plt.show()\n",
    "\n"
   ]
  },
  {
   "cell_type": "markdown",
   "id": "463c74cd",
   "metadata": {},
   "source": [
    "#### Categories"
   ]
  },
  {
   "cell_type": "code",
   "execution_count": 13,
   "id": "d44cd9a3",
   "metadata": {},
   "outputs": [
    {
     "name": "stderr",
     "output_type": "stream",
     "text": [
      "C:\\Users\\vetur\\AppData\\Local\\Temp\\ipykernel_11236\\2488170240.py:4: SettingWithCopyWarning: \n",
      "A value is trying to be set on a copy of a slice from a DataFrame\n",
      "\n",
      "See the caveats in the documentation: https://pandas.pydata.org/pandas-docs/stable/user_guide/indexing.html#returning-a-view-versus-a-copy\n",
      "  WLMTotal['Categories'][i] = ast.literal_eval(WLMTotal['Categories'][i])\n"
     ]
    }
   ],
   "source": [
    "present = {cat:[] for cat in allCategories}\n",
    "\n",
    "for i in range(len(WLMTotal['Categories'])):\n",
    "    WLMTotal['Categories'][i] = ast.literal_eval(WLMTotal['Categories'][i])\n",
    "    for cat in present:\n",
    "        if cat in WLMTotal['Categories'][i]:\n",
    "            present[cat].append(True)\n",
    "        else:\n",
    "            present[cat].append(False)\n",
    "\n",
    "for cat in present:\n",
    "    WLMTotal[cat] = present[cat]"
   ]
  },
  {
   "cell_type": "code",
   "execution_count": 17,
   "id": "0e2ba363",
   "metadata": {},
   "outputs": [
    {
     "name": "stdout",
     "output_type": "stream",
     "text": [
      "WizardLM & Technology & 1.1806 & 0.6102 & 0.822 \\\n",
      "\\hline\n",
      "WizardLM & Political & 1.0942 & 0.9962 & 0.843 \\\n",
      "\\hline\n",
      "WizardLM & Sports & 1.2168 & 0.8191 & 0.8432 \\\n",
      "\\hline\n",
      "WizardLM & Health and Epidemiology & 1.3299 & 1.1491 & 0.8261 \\\n",
      "\\hline\n",
      "WizardLM & Stock Market & 1.5276 & 1.1653 & 0.8 \\\n",
      "\\hline\n",
      "WizardLM & Supply Chain & 1.2447 & 1.1866 & 0.8211 \\\n",
      "\\hline\n"
     ]
    }
   ],
   "source": [
    "WLMcategoriesData = {}\n",
    "for category in allCategories:\n",
    "    categoryData = WLMTotal[WLMTotal[category]]\n",
    "    categoryData = categoryData.reset_index()\n",
    "    WLMcategoriesData[category] = getResults(categoryData)\n",
    "    print(f'WizardLM & {category} & {round(WLMcategoriesData[category][0], 4)} & {round(WLMcategoriesData[category][2], 4)} & {round(WLMcategoriesData[category][4]/(WLMcategoriesData[category][4] + WLMcategoriesData[category][1] + WLMcategoriesData[category][3]), 4)} \\\\')\n",
    "    print(\"\\hline\")\n",
    "\n"
   ]
  },
  {
   "cell_type": "code",
   "execution_count": 39,
   "id": "a822bb4a",
   "metadata": {},
   "outputs": [
    {
     "data": {
      "image/png": "[encoded data removed]",
      "text/plain": [
       "<Figure size 640x480 with 1 Axes>"
      ]
     },
     "metadata": {},
     "output_type": "display_data"
    },
    {
     "data": {
      "image/png": "[encoded data removed]",
      "text/plain": [
       "<Figure size 640x480 with 1 Axes>"
      ]
     },
     "metadata": {},
     "output_type": "display_data"
    }
   ],
   "source": [
    "WLMcatsDict = {cat: WLMcategoriesData[cat][2] for cat in allCategories}\n",
    "WLMcatsDatesDict = {cat: WLMcategoriesData[cat][5] for cat in allCategories}\n",
    "\n",
    "fig, ax = plt.subplots()\n",
    "plt.title('Errors for Numerical Data over categories')\n",
    "\n",
    "ax.boxplot(WLMcatsDict.values())\n",
    "ax.set_xticklabels(WLMcatsDict.keys())\n",
    "ax.set_ylim([-1, 3])\n",
    "plt.show()\n",
    "\n",
    "\n",
    "fig, ax = plt.subplots()\n",
    "plt.title('Errors for Numerical year Data over categories')\n",
    "ax.boxplot(WLMcatsDatesDict.values())\n",
    "ax.set_xticklabels(WLMcatsDatesDict.keys())\n",
    "ax.set_ylim([-1, 3])\n",
    "plt.show()"
   ]
  },
  {
   "cell_type": "code",
   "execution_count": null,
   "id": "031841fa",
   "metadata": {},
   "outputs": [],
   "source": []
  },
  {
   "cell_type": "markdown",
   "id": "90fb46e5",
   "metadata": {},
   "source": [
    "### Hermes"
   ]
  },
  {
   "cell_type": "code",
   "execution_count": 18,
   "id": "801c630a",
   "metadata": {},
   "outputs": [
    {
     "data": {
      "text/html": [
       "<div>\n",
       "<style scoped>\n",
       "    .dataframe tbody tr th:only-of-type {\n",
       "        vertical-align: middle;\n",
       "    }\n",
       "\n",
       "    .dataframe tbody tr th {\n",
       "        vertical-align: top;\n",
       "    }\n",
       "\n",
       "    .dataframe thead th {\n",
       "        text-align: right;\n",
       "    }\n",
       "</style>\n",
       "<table border=\"1\" class=\"dataframe\">\n",
       "  <thead>\n",
       "    <tr style=\"text-align: right;\">\n",
       "      <th></th>\n",
       "      <th>Unnamed: 0</th>\n",
       "      <th>predictions</th>\n",
       "    </tr>\n",
       "  </thead>\n",
       "  <tbody>\n",
       "    <tr>\n",
       "      <th>0</th>\n",
       "      <td>0</td>\n",
       "      <td>There were approximately 5,693 Federally Insu...</td>\n",
       "    </tr>\n",
       "    <tr>\n",
       "      <th>1</th>\n",
       "      <td>1</td>\n",
       "      <td>It is difficult to predict the exact date, bu...</td>\n",
       "    </tr>\n",
       "    <tr>\n",
       "      <th>2</th>\n",
       "      <td>2</td>\n",
       "      <td>It is difficult to predict an exact date, but...</td>\n",
       "    </tr>\n",
       "    <tr>\n",
       "      <th>3</th>\n",
       "      <td>3</td>\n",
       "      <td>An \"exaflop\" is a measure of computer perform...</td>\n",
       "    </tr>\n",
       "    <tr>\n",
       "      <th>4</th>\n",
       "      <td>4</td>\n",
       "      <td>The first law concerning artificial intellige...</td>\n",
       "    </tr>\n",
       "    <tr>\n",
       "      <th>...</th>\n",
       "      <td>...</td>\n",
       "      <td>...</td>\n",
       "    </tr>\n",
       "    <tr>\n",
       "      <th>2532</th>\n",
       "      <td>2532</td>\n",
       "      <td>I am unable to provide a specific number as a...</td>\n",
       "    </tr>\n",
       "    <tr>\n",
       "      <th>2533</th>\n",
       "      <td>2533</td>\n",
       "      <td>I am unable to provide a specific number as a...</td>\n",
       "    </tr>\n",
       "    <tr>\n",
       "      <th>2534</th>\n",
       "      <td>2534</td>\n",
       "      <td>I am unable to provide a specific number as a...</td>\n",
       "    </tr>\n",
       "    <tr>\n",
       "      <th>2535</th>\n",
       "      <td>2535</td>\n",
       "      <td>I am unable to provide a specific number as a...</td>\n",
       "    </tr>\n",
       "    <tr>\n",
       "      <th>2536</th>\n",
       "      <td>2536</td>\n",
       "      <td>I don't have a specific number for you, but t...</td>\n",
       "    </tr>\n",
       "  </tbody>\n",
       "</table>\n",
       "<p>2537 rows × 2 columns</p>\n",
       "</div>"
      ],
      "text/plain": [
       "      Unnamed: 0                                        predictions\n",
       "0              0   There were approximately 5,693 Federally Insu...\n",
       "1              1   It is difficult to predict the exact date, bu...\n",
       "2              2   It is difficult to predict an exact date, but...\n",
       "3              3   An \"exaflop\" is a measure of computer perform...\n",
       "4              4   The first law concerning artificial intellige...\n",
       "...          ...                                                ...\n",
       "2532        2532   I am unable to provide a specific number as a...\n",
       "2533        2533   I am unable to provide a specific number as a...\n",
       "2534        2534   I am unable to provide a specific number as a...\n",
       "2535        2535   I am unable to provide a specific number as a...\n",
       "2536        2536   I don't have a specific number for you, but t...\n",
       "\n",
       "[2537 rows x 2 columns]"
      ]
     },
     "execution_count": 18,
     "metadata": {},
     "output_type": "execute_result"
    }
   ],
   "source": [
    "HermesData = pd.read_csv('data/Continuous/HermesContinuous0-2536.csv')\n",
    "HermesData"
   ]
  },
  {
   "cell_type": "code",
   "execution_count": 19,
   "id": "7fc8bf6b",
   "metadata": {},
   "outputs": [
    {
     "data": {
      "text/html": [
       "<div>\n",
       "<style scoped>\n",
       "    .dataframe tbody tr th:only-of-type {\n",
       "        vertical-align: middle;\n",
       "    }\n",
       "\n",
       "    .dataframe tbody tr th {\n",
       "        vertical-align: top;\n",
       "    }\n",
       "\n",
       "    .dataframe thead th {\n",
       "        text-align: right;\n",
       "    }\n",
       "</style>\n",
       "<table border=\"1\" class=\"dataframe\">\n",
       "  <thead>\n",
       "    <tr style=\"text-align: right;\">\n",
       "      <th></th>\n",
       "      <th>QuestionText</th>\n",
       "      <th>Answer</th>\n",
       "      <th>Year</th>\n",
       "      <th>Categories</th>\n",
       "      <th>AnswerChoices</th>\n",
       "      <th>IsDate</th>\n",
       "      <th>Predictions</th>\n",
       "    </tr>\n",
       "  </thead>\n",
       "  <tbody>\n",
       "    <tr>\n",
       "      <th>0</th>\n",
       "      <td>How many Federally Insured Commercial Banks in...</td>\n",
       "      <td>0.420490</td>\n",
       "      <td>2018</td>\n",
       "      <td>['Stock Market']</td>\n",
       "      <td>{'type': 'continuous', 'scale': {'max': 5500, ...</td>\n",
       "      <td>False</td>\n",
       "      <td>[5693, 2017]</td>\n",
       "    </tr>\n",
       "    <tr>\n",
       "      <th>1</th>\n",
       "      <td>When will an AI system score an impressive def...</td>\n",
       "      <td>0.376395</td>\n",
       "      <td>2019</td>\n",
       "      <td>[]</td>\n",
       "      <td>{'type': 'continuous', 'scale': {'max': '2030-...</td>\n",
       "      <td>True</td>\n",
       "      <td>[2, 2]</td>\n",
       "    </tr>\n",
       "    <tr>\n",
       "      <th>2</th>\n",
       "      <td>When will programs write programs for us?</td>\n",
       "      <td>0.408719</td>\n",
       "      <td>2021</td>\n",
       "      <td>['Technology', 'Health and Epidemiology']</td>\n",
       "      <td>{'type': 'continuous', 'scale': {'max': '2050-...</td>\n",
       "      <td>True</td>\n",
       "      <td>[]</td>\n",
       "    </tr>\n",
       "    <tr>\n",
       "      <th>3</th>\n",
       "      <td>When will the first exaflop performer appear?</td>\n",
       "      <td>0.849452</td>\n",
       "      <td>2022</td>\n",
       "      <td>['Technology', 'Political', 'Sports', 'Health ...</td>\n",
       "      <td>{'type': 'continuous', 'scale': {'max': '2025-...</td>\n",
       "      <td>True</td>\n",
       "      <td>[1, 18, 2000, 20212023, 500]</td>\n",
       "    </tr>\n",
       "    <tr>\n",
       "      <th>4</th>\n",
       "      <td>When will the first law concerning artificial ...</td>\n",
       "      <td>0.260335</td>\n",
       "      <td>2021</td>\n",
       "      <td>['Health and Epidemiology']</td>\n",
       "      <td>{'type': 'continuous', 'scale': {'max': '2060-...</td>\n",
       "      <td>True</td>\n",
       "      <td>[20480630]</td>\n",
       "    </tr>\n",
       "    <tr>\n",
       "      <th>...</th>\n",
       "      <td>...</td>\n",
       "      <td>...</td>\n",
       "      <td>...</td>\n",
       "      <td>...</td>\n",
       "      <td>...</td>\n",
       "      <td>...</td>\n",
       "      <td>...</td>\n",
       "    </tr>\n",
       "    <tr>\n",
       "      <th>2532</th>\n",
       "      <td>What will be the 7-day moving average of daily...</td>\n",
       "      <td>0.168667</td>\n",
       "      <td>2022</td>\n",
       "      <td>[]</td>\n",
       "      <td>{'max': 15000, 'min': 0, 'deriv_ratio': 1}</td>\n",
       "      <td>False</td>\n",
       "      <td>[]</td>\n",
       "    </tr>\n",
       "    <tr>\n",
       "      <th>2533</th>\n",
       "      <td>What will be the 7-day moving average of daily...</td>\n",
       "      <td>0.214533</td>\n",
       "      <td>2022</td>\n",
       "      <td>[]</td>\n",
       "      <td>{'max': 15000, 'min': 0, 'deriv_ratio': 1}</td>\n",
       "      <td>False</td>\n",
       "      <td>[]</td>\n",
       "    </tr>\n",
       "    <tr>\n",
       "      <th>2534</th>\n",
       "      <td>What will be the 7-day moving average of curre...</td>\n",
       "      <td>0.069975</td>\n",
       "      <td>2022</td>\n",
       "      <td>[]</td>\n",
       "      <td>{'max': 4000, 'min': 0, 'deriv_ratio': 1}</td>\n",
       "      <td>False</td>\n",
       "      <td>[]</td>\n",
       "    </tr>\n",
       "    <tr>\n",
       "      <th>2535</th>\n",
       "      <td>What will be the 7-day moving average of curre...</td>\n",
       "      <td>0.121100</td>\n",
       "      <td>2022</td>\n",
       "      <td>[]</td>\n",
       "      <td>{'max': 4000, 'min': 0, 'deriv_ratio': 1}</td>\n",
       "      <td>False</td>\n",
       "      <td>[]</td>\n",
       "    </tr>\n",
       "    <tr>\n",
       "      <th>2536</th>\n",
       "      <td>[Short Fuse] How much money will be awarded to...</td>\n",
       "      <td>0.541750</td>\n",
       "      <td>2022</td>\n",
       "      <td>[]</td>\n",
       "      <td>{'max': 100000000, 'min': -100000000, 'deriv_r...</td>\n",
       "      <td>False</td>\n",
       "      <td>[100000000, 100000000]</td>\n",
       "    </tr>\n",
       "  </tbody>\n",
       "</table>\n",
       "<p>2537 rows × 7 columns</p>\n",
       "</div>"
      ],
      "text/plain": [
       "                                           QuestionText    Answer  Year  \\\n",
       "0     How many Federally Insured Commercial Banks in...  0.420490  2018   \n",
       "1     When will an AI system score an impressive def...  0.376395  2019   \n",
       "2             When will programs write programs for us?  0.408719  2021   \n",
       "3         When will the first exaflop performer appear?  0.849452  2022   \n",
       "4     When will the first law concerning artificial ...  0.260335  2021   \n",
       "...                                                 ...       ...   ...   \n",
       "2532  What will be the 7-day moving average of daily...  0.168667  2022   \n",
       "2533  What will be the 7-day moving average of daily...  0.214533  2022   \n",
       "2534  What will be the 7-day moving average of curre...  0.069975  2022   \n",
       "2535  What will be the 7-day moving average of curre...  0.121100  2022   \n",
       "2536  [Short Fuse] How much money will be awarded to...  0.541750  2022   \n",
       "\n",
       "                                             Categories  \\\n",
       "0                                      ['Stock Market']   \n",
       "1                                                    []   \n",
       "2             ['Technology', 'Health and Epidemiology']   \n",
       "3     ['Technology', 'Political', 'Sports', 'Health ...   \n",
       "4                           ['Health and Epidemiology']   \n",
       "...                                                 ...   \n",
       "2532                                                 []   \n",
       "2533                                                 []   \n",
       "2534                                                 []   \n",
       "2535                                                 []   \n",
       "2536                                                 []   \n",
       "\n",
       "                                          AnswerChoices  IsDate  \\\n",
       "0     {'type': 'continuous', 'scale': {'max': 5500, ...   False   \n",
       "1     {'type': 'continuous', 'scale': {'max': '2030-...    True   \n",
       "2     {'type': 'continuous', 'scale': {'max': '2050-...    True   \n",
       "3     {'type': 'continuous', 'scale': {'max': '2025-...    True   \n",
       "4     {'type': 'continuous', 'scale': {'max': '2060-...    True   \n",
       "...                                                 ...     ...   \n",
       "2532         {'max': 15000, 'min': 0, 'deriv_ratio': 1}   False   \n",
       "2533         {'max': 15000, 'min': 0, 'deriv_ratio': 1}   False   \n",
       "2534          {'max': 4000, 'min': 0, 'deriv_ratio': 1}   False   \n",
       "2535          {'max': 4000, 'min': 0, 'deriv_ratio': 1}   False   \n",
       "2536  {'max': 100000000, 'min': -100000000, 'deriv_r...   False   \n",
       "\n",
       "                       Predictions  \n",
       "0                     [5693, 2017]  \n",
       "1                           [2, 2]  \n",
       "2                               []  \n",
       "3     [1, 18, 2000, 20212023, 500]  \n",
       "4                       [20480630]  \n",
       "...                            ...  \n",
       "2532                            []  \n",
       "2533                            []  \n",
       "2534                            []  \n",
       "2535                            []  \n",
       "2536        [100000000, 100000000]  \n",
       "\n",
       "[2537 rows x 7 columns]"
      ]
     },
     "execution_count": 19,
     "metadata": {},
     "output_type": "execute_result"
    }
   ],
   "source": [
    "nos = []\n",
    "for row in HermesData['predictions']:\n",
    "    if not 'i am unable to provide' in row.lower():\n",
    "        row = re.sub(r'\\W+', '', row)\n",
    "        temp = re.findall(r'\\d+', row)\n",
    "        nos.append(list(map(int, temp)))\n",
    "    else:\n",
    "        nos.append([])\n",
    "\n",
    "HermesTotal = questions.copy(deep=True)\n",
    "HermesTotal['Predictions'] = nos\n",
    "HermesTotal"
   ]
  },
  {
   "cell_type": "code",
   "execution_count": 20,
   "id": "4a82a84d",
   "metadata": {},
   "outputs": [
    {
     "data": {
      "text/plain": [
       "(1.4787676315064802, 1081, 1.9994147935695492, 151, 1305)"
      ]
     },
     "execution_count": 20,
     "metadata": {},
     "output_type": "execute_result"
    }
   ],
   "source": [
    "getResults(HermesTotal)"
   ]
  },
  {
   "cell_type": "markdown",
   "id": "bd0b25d0",
   "metadata": {},
   "source": [
    "#### Years"
   ]
  },
  {
   "cell_type": "code",
   "execution_count": 55,
   "id": "544f85d4",
   "metadata": {},
   "outputs": [],
   "source": [
    "HermesyearsData = {}\n",
    "\n",
    "for year in allYears:\n",
    "    yearData = HermesTotal[HermesTotal['Year']<]\n",
    "    yearData = yearData.reset_index()\n",
    "    HermesyearsData[year] = getResults(yearData)"
   ]
  },
  {
   "cell_type": "code",
   "execution_count": 81,
   "id": "999fe83d",
   "metadata": {},
   "outputs": [
    {
     "data": {
      "text/plain": [
       "(4.67142480749283, 637, 3.2442873924548645, 128, 1283)"
      ]
     },
     "execution_count": 81,
     "metadata": {},
     "output_type": "execute_result"
    }
   ],
   "source": [
    "temp1 = HermesTotal[HermesTotal['Year'] < 2023]\n",
    "temp1 = temp1.reset_index()\n",
    "getResults(temp1)"
   ]
  },
  {
   "cell_type": "code",
   "execution_count": 82,
   "id": "bb39c82c",
   "metadata": {},
   "outputs": [
    {
     "data": {
      "text/plain": [
       "(1.361816244951676, 105, 0.8904418752093721, 12, 372)"
      ]
     },
     "execution_count": 82,
     "metadata": {},
     "output_type": "execute_result"
    }
   ],
   "source": [
    "temp1 = HermesTotal[HermesTotal['Year'] >= 2023]\n",
    "temp1 = temp1.reset_index()\n",
    "getResults(temp1)"
   ]
  },
  {
   "cell_type": "code",
   "execution_count": 56,
   "id": "33813cb6",
   "metadata": {},
   "outputs": [
    {
     "data": {
      "image/png": "[encoded data removed]",
      "text/plain": [
       "<Figure size 640x480 with 1 Axes>"
      ]
     },
     "metadata": {},
     "output_type": "display_data"
    },
    {
     "data": {
      "image/png": "[encoded data removed]",
      "text/plain": [
       "<Figure size 640x480 with 1 Axes>"
      ]
     },
     "metadata": {},
     "output_type": "display_data"
    }
   ],
   "source": [
    "HermesyearsDict = {year: HermesyearsData[year][2] for year in allYears}\n",
    "HermesyearsDatesDict = {year: HermesyearsData[year][5] for year in allYears}\n",
    "\n",
    "fig, ax = plt.subplots()\n",
    "plt.title('Errors for Numerical Data over years')\n",
    "\n",
    "ax.boxplot(HermesyearsDict.values())\n",
    "ax.set_xticklabels(HermesyearsDict.keys())\n",
    "ax.set_ylim([-1, 3])\n",
    "plt.show()\n",
    "\n",
    "\n",
    "fig, ax = plt.subplots()\n",
    "plt.title('Errors for Numerical year Data over years')\n",
    "ax.boxplot(HermesyearsDatesDict.values())\n",
    "ax.set_xticklabels(HermesyearsDatesDict.keys())\n",
    "ax.set_ylim([-1, 3])\n",
    "plt.show()"
   ]
  },
  {
   "cell_type": "code",
   "execution_count": 60,
   "id": "5300f10d",
   "metadata": {},
   "outputs": [],
   "source": [
    "X = []\n",
    "Y = []\n",
    "for year in allYears:\n",
    "    X.append(year-0.5)\n",
    "    X.append(year+0.5)\n",
    "    Y.append(WLMyearsDict[year][2])\n",
    "    Y.append(HermesyearsDict[year][2])"
   ]
  },
  {
   "cell_type": "code",
   "execution_count": 63,
   "id": "68ea8773",
   "metadata": {},
   "outputs": [
    {
     "data": {
      "image/png": "[encoded data removed]",
      "text/plain": [
       "<Figure size 640x480 with 1 Axes>"
      ]
     },
     "metadata": {},
     "output_type": "display_data"
    }
   ],
   "source": [
    "fig, ax = plt.subplots()\n",
    "plt.title('Errors for Numerical Data over years')\n",
    "\n",
    "ax.boxplot(Y)\n",
    "ax.set_ylim([-1, 3])\n",
    "plt.show()"
   ]
  },
  {
   "cell_type": "markdown",
   "id": "cda8f2dd",
   "metadata": {},
   "source": [
    "#### Categories"
   ]
  },
  {
   "cell_type": "code",
   "execution_count": 21,
   "id": "175f3b0a",
   "metadata": {},
   "outputs": [
    {
     "name": "stderr",
     "output_type": "stream",
     "text": [
      "C:\\Users\\vetur\\AppData\\Local\\Temp\\ipykernel_11236\\1736708250.py:4: SettingWithCopyWarning: \n",
      "A value is trying to be set on a copy of a slice from a DataFrame\n",
      "\n",
      "See the caveats in the documentation: https://pandas.pydata.org/pandas-docs/stable/user_guide/indexing.html#returning-a-view-versus-a-copy\n",
      "  HermesTotal['Categories'][i] = ast.literal_eval(HermesTotal['Categories'][i])\n"
     ]
    }
   ],
   "source": [
    "present = {cat:[] for cat in allCategories}\n",
    "\n",
    "for i in range(len(HermesTotal['Categories'])):\n",
    "    HermesTotal['Categories'][i] = ast.literal_eval(HermesTotal['Categories'][i])\n",
    "    for cat in present:\n",
    "        if cat in HermesTotal['Categories'][i]:\n",
    "            present[cat].append(True)\n",
    "        else:\n",
    "            present[cat].append(False)\n",
    "\n",
    "for cat in present:\n",
    "    HermesTotal[cat] = present[cat]"
   ]
  },
  {
   "cell_type": "code",
   "execution_count": 24,
   "id": "fa3ccaf6",
   "metadata": {},
   "outputs": [
    {
     "name": "stdout",
     "output_type": "stream",
     "text": [
      "Hermes & Technolog & 1.3266 & 1.0044 & 0.7096 \\\\ \n",
      "\\hline\n",
      "Hermes & Political & 1.4126 & 1.1612 & 0.7557 \\\\ \n",
      "\\hline\n",
      "Hermes & Sports & 1.673 & 0.7039 & 0.7797 \\\\ \n",
      "\\hline\n",
      "Hermes & Health an & 1.5244 & 1.1968 & 0.6866 \\\\ \n",
      "\\hline\n",
      "Hermes & Stock Mar & 1.4217 & 1.0048 & 0.6611 \\\\ \n",
      "\\hline\n",
      "Hermes & Supply Ch & 1.3623 & 1.1492 & 0.7326 \\\\ \n",
      "\\hline\n"
     ]
    }
   ],
   "source": [
    "HermescategoriesData = {}\n",
    "for category in allCategories:\n",
    "    categoryData = HermesTotal[HermesTotal[category]]\n",
    "    categoryData = categoryData.reset_index()\n",
    "    HermescategoriesData[category] = getResults(categoryData)\n",
    "    print(f'Hermes & {category[:9]} & {round(HermescategoriesData[category][0], 4)} & {round(HermescategoriesData[category][2], 4)} & {round(HermescategoriesData[category][4]/(HermescategoriesData[category][4] + HermescategoriesData[category][1] + HermescategoriesData[category][3]), 4)} \\\\\\ ')\n",
    "    print(\"\\hline\")\n"
   ]
  },
  {
   "cell_type": "code",
   "execution_count": null,
   "id": "21c50f6f",
   "metadata": {},
   "outputs": [],
   "source": [
    "HermescatsDict = {cat: HermescategoriesData[cat][2] for cat in allCategories}\n",
    "HermescatsDatesDict = {cat: HermescategoriesData[cat][5] for cat in allCategories}\n",
    "\n",
    "fig, ax = plt.subplots()\n",
    "plt.title('Errors for Numerical Data over categories')\n",
    "\n",
    "ax.boxplot(HermescatsDict.values())\n",
    "ax.set_xticklabels(HermescatsDict.keys())\n",
    "ax.set_ylim([-1, 3])\n",
    "plt.show()\n",
    "\n",
    "\n",
    "fig, ax = plt.subplots()\n",
    "plt.title('Errors for Numerical year Data over categories')\n",
    "ax.boxplot(HermescatsDatesDict.values())\n",
    "ax.set_xticklabels(HermescatsDatesDict.keys())\n",
    "ax.set_ylim([-1, 3])\n",
    "plt.show()  "
   ]
  },
  {
   "cell_type": "code",
   "execution_count": null,
   "id": "fb483d50",
   "metadata": {},
   "outputs": [],
   "source": []
  },
  {
   "cell_type": "markdown",
   "id": "427b9cc6",
   "metadata": {},
   "source": [
    "### Falcon"
   ]
  },
  {
   "cell_type": "code",
   "execution_count": 25,
   "id": "95810226",
   "metadata": {},
   "outputs": [
    {
     "data": {
      "text/html": [
       "<div>\n",
       "<style scoped>\n",
       "    .dataframe tbody tr th:only-of-type {\n",
       "        vertical-align: middle;\n",
       "    }\n",
       "\n",
       "    .dataframe tbody tr th {\n",
       "        vertical-align: top;\n",
       "    }\n",
       "\n",
       "    .dataframe thead th {\n",
       "        text-align: right;\n",
       "    }\n",
       "</style>\n",
       "<table border=\"1\" class=\"dataframe\">\n",
       "  <thead>\n",
       "    <tr style=\"text-align: right;\">\n",
       "      <th></th>\n",
       "      <th>Unnamed: 0</th>\n",
       "      <th>predictions</th>\n",
       "    </tr>\n",
       "  </thead>\n",
       "  <tbody>\n",
       "    <tr>\n",
       "      <th>0</th>\n",
       "      <td>0</td>\n",
       "      <td>45,000</td>\n",
       "    </tr>\n",
       "    <tr>\n",
       "      <th>1</th>\n",
       "      <td>1</td>\n",
       "      <td>The answer is 2045.</td>\n",
       "    </tr>\n",
       "    <tr>\n",
       "      <th>2</th>\n",
       "      <td>2</td>\n",
       "      <td>I'm sorry, I cannot answer that question as it...</td>\n",
       "    </tr>\n",
       "    <tr>\n",
       "      <th>3</th>\n",
       "      <td>3</td>\n",
       "      <td>The first exaflop performer is expected to app...</td>\n",
       "    </tr>\n",
       "    <tr>\n",
       "      <th>4</th>\n",
       "      <td>4</td>\n",
       "      <td>The first law concerning artificial intelligen...</td>\n",
       "    </tr>\n",
       "    <tr>\n",
       "      <th>...</th>\n",
       "      <td>...</td>\n",
       "      <td>...</td>\n",
       "    </tr>\n",
       "    <tr>\n",
       "      <th>2532</th>\n",
       "      <td>2532</td>\n",
       "      <td>The 7-day moving average of daily new reported...</td>\n",
       "    </tr>\n",
       "    <tr>\n",
       "      <th>2533</th>\n",
       "      <td>2533</td>\n",
       "      <td>The 7-day moving average of daily new reported...</td>\n",
       "    </tr>\n",
       "    <tr>\n",
       "      <th>2534</th>\n",
       "      <td>2534</td>\n",
       "      <td>The 7-day moving average of current confirmed ...</td>\n",
       "    </tr>\n",
       "    <tr>\n",
       "      <th>2535</th>\n",
       "      <td>2535</td>\n",
       "      <td>The 7-day moving average of current confirmed ...</td>\n",
       "    </tr>\n",
       "    <tr>\n",
       "      <th>2536</th>\n",
       "      <td>2536</td>\n",
       "      <td>The answer is $50,000,000.</td>\n",
       "    </tr>\n",
       "  </tbody>\n",
       "</table>\n",
       "<p>2537 rows × 2 columns</p>\n",
       "</div>"
      ],
      "text/plain": [
       "      Unnamed: 0                                        predictions\n",
       "0              0                                             45,000\n",
       "1              1                                The answer is 2045.\n",
       "2              2  I'm sorry, I cannot answer that question as it...\n",
       "3              3  The first exaflop performer is expected to app...\n",
       "4              4  The first law concerning artificial intelligen...\n",
       "...          ...                                                ...\n",
       "2532        2532  The 7-day moving average of daily new reported...\n",
       "2533        2533  The 7-day moving average of daily new reported...\n",
       "2534        2534  The 7-day moving average of current confirmed ...\n",
       "2535        2535  The 7-day moving average of current confirmed ...\n",
       "2536        2536                         The answer is $50,000,000.\n",
       "\n",
       "[2537 rows x 2 columns]"
      ]
     },
     "execution_count": 25,
     "metadata": {},
     "output_type": "execute_result"
    }
   ],
   "source": [
    "FalconData = pd.read_csv('data/Continuous/FalconContinuous0-2536.csv')\n",
    "FalconData"
   ]
  },
  {
   "cell_type": "code",
   "execution_count": 26,
   "id": "acd86bd1",
   "metadata": {},
   "outputs": [],
   "source": [
    "nos = []\n",
    "for row in FalconData['predictions']:\n",
    "    if not 'i am unable to provide' in row.lower():\n",
    "        row = re.sub(r'\\W+', '', row)\n",
    "        temp = re.findall(r'\\d+', row)\n",
    "        nos.append(list(map(int, temp)))\n",
    "    else:\n",
    "        nos.append([])\n",
    "\n",
    "FalconTotal = questions.copy(deep=True)\n",
    "FalconTotal['Predictions'] = nos"
   ]
  },
  {
   "cell_type": "code",
   "execution_count": 85,
   "id": "b7f5f8c3",
   "metadata": {},
   "outputs": [
    {
     "data": {
      "text/plain": [
       "(1.1784905309198628, 1213, 1.9997896367132393, 63, 1261)"
      ]
     },
     "execution_count": 85,
     "metadata": {},
     "output_type": "execute_result"
    }
   ],
   "source": [
    "getResults(FalconTotal)"
   ]
  },
  {
   "cell_type": "markdown",
   "id": "6b3e7df5",
   "metadata": {},
   "source": [
    "#### Years"
   ]
  },
  {
   "cell_type": "code",
   "execution_count": 86,
   "id": "631688f0",
   "metadata": {},
   "outputs": [],
   "source": [
    "FalconyearsData = {}\n",
    "for year in allYears:\n",
    "    yearData = FalconTotal[FalconTotal['Year']==year]\n",
    "    yearData = yearData.reset_index()\n",
    "    FalconyearsData[year] = getResults(yearData)"
   ]
  },
  {
   "cell_type": "code",
   "execution_count": 88,
   "id": "9dc38a88",
   "metadata": {},
   "outputs": [
    {
     "data": {
      "text/plain": [
       "(2.03694856838006, 366, 1.2605292218045763, 62, 987)"
      ]
     },
     "execution_count": 88,
     "metadata": {},
     "output_type": "execute_result"
    }
   ],
   "source": [
    "temp1 = FalconTotal[FalconTotal['Year'] < 2022]\n",
    "temp1 = temp1.reset_index()\n",
    "getResults(temp1)"
   ]
  },
  {
   "cell_type": "code",
   "execution_count": 89,
   "id": "be48adab",
   "metadata": {},
   "outputs": [
    {
     "data": {
      "text/plain": [
       "(1.4271954796706892, 296, 1.2229575684578216, 60, 766)"
      ]
     },
     "execution_count": 89,
     "metadata": {},
     "output_type": "execute_result"
    }
   ],
   "source": [
    "temp1 = FalconTotal[FalconTotal['Year'] >= 2022]\n",
    "temp1 = temp1.reset_index()\n",
    "getResults(temp1)"
   ]
  },
  {
   "cell_type": "markdown",
   "id": "023720dd",
   "metadata": {},
   "source": [
    "#### Categories"
   ]
  },
  {
   "cell_type": "code",
   "execution_count": 27,
   "id": "5ec8b17b",
   "metadata": {},
   "outputs": [
    {
     "name": "stderr",
     "output_type": "stream",
     "text": [
      "C:\\Users\\vetur\\AppData\\Local\\Temp\\ipykernel_11236\\1147357499.py:4: SettingWithCopyWarning: \n",
      "A value is trying to be set on a copy of a slice from a DataFrame\n",
      "\n",
      "See the caveats in the documentation: https://pandas.pydata.org/pandas-docs/stable/user_guide/indexing.html#returning-a-view-versus-a-copy\n",
      "  FalconTotal['Categories'][i] = ast.literal_eval(FalconTotal['Categories'][i])\n"
     ]
    }
   ],
   "source": [
    "present = {cat:[] for cat in allCategories}\n",
    "\n",
    "for i in range(len(FalconTotal['Categories'])):\n",
    "    FalconTotal['Categories'][i] = ast.literal_eval(FalconTotal['Categories'][i])\n",
    "    for cat in present:\n",
    "        if cat in FalconTotal['Categories'][i]:\n",
    "            present[cat].append(True)\n",
    "        else:\n",
    "            present[cat].append(False)\n",
    "\n",
    "for cat in present:\n",
    "    FalconTotal[cat] = present[cat]"
   ]
  },
  {
   "cell_type": "code",
   "execution_count": 28,
   "id": "4839bb57",
   "metadata": {},
   "outputs": [
    {
     "name": "stdout",
     "output_type": "stream",
     "text": [
      "Falcon & Technolog & 2.1527 & 0.9076 & 0.7447 \\\\ \n",
      "\\hline\n",
      "Falcon & Political & 1.1041 & 0.9056 & 0.746 \\\\ \n",
      "\\hline\n",
      "Falcon & Sports & 1.3468 & 0.7883 & 0.7881 \\\\ \n",
      "\\hline\n",
      "Falcon & Health an & 1.3345 & 1.2015 & 0.7328 \\\\ \n",
      "\\hline\n",
      "Falcon & Stock Mar & 1.5606 & 0.9631 & 0.6731 \\\\ \n",
      "\\hline\n",
      "Falcon & Supply Ch & 1.0717 & 1.1309 & 0.7458 \\\\ \n",
      "\\hline\n"
     ]
    }
   ],
   "source": [
    "FalconcategoriesData = {}\n",
    "for category in allCategories:\n",
    "    categoryData = FalconTotal[FalconTotal[category]]\n",
    "    categoryData = categoryData.reset_index()\n",
    "    FalconcategoriesData[category] = getResults(categoryData)\n",
    "    print(f'Falcon & {category[:9]} & {round(FalconcategoriesData[category][0], 4)} & {round(FalconcategoriesData[category][2], 4)} & {round(FalconcategoriesData[category][4]/(FalconcategoriesData[category][4] + FalconcategoriesData[category][1] + FalconcategoriesData[category][3]), 4)} \\\\\\ ')\n",
    "    print(\"\\hline\")"
   ]
  },
  {
   "cell_type": "code",
   "execution_count": null,
   "id": "e865fe6f",
   "metadata": {},
   "outputs": [],
   "source": []
  },
  {
   "cell_type": "code",
   "execution_count": null,
   "id": "eeb7ee62",
   "metadata": {},
   "outputs": [],
   "source": []
  },
  {
   "cell_type": "code",
   "execution_count": null,
   "id": "79c42a61",
   "metadata": {},
   "outputs": [],
   "source": []
  }
 ],
 "metadata": {
  "kernelspec": {
   "display_name": "Python 3 (ipykernel)",
   "language": "python",
   "name": "python3"
  },
  "language_info": {
   "codemirror_mode": {
    "name": "ipython",
    "version": 3
   },
   "file_extension": ".py",
   "mimetype": "text/x-python",
   "name": "python",
   "nbconvert_exporter": "python",
   "pygments_lexer": "ipython3",
   "version": "3.8.8"
  }
 },
 "nbformat": 4,
 "nbformat_minor": 5
}
